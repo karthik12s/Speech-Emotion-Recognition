{
  "nbformat": 4,
  "nbformat_minor": 0,
  "metadata": {
    "colab": {
      "name": "savee_preprocessing.ipynb",
      "provenance": [],
      "collapsed_sections": [
        "QI5RMzIFiNbQ",
        "LuUe5Ou3eJhx",
        "SlOJ9cZzxfeg",
        "AOKxxCOg5YoM"
      ],
      "toc_visible": true,
      "mount_file_id": "114qiHgXFgrl2RDgui5m8MrCn_uqhNuin",
      "authorship_tag": "ABX9TyOs6BfL1manDf311mozu+MA",
      "include_colab_link": true
    },
    "kernelspec": {
      "name": "python3",
      "display_name": "Python 3"
    },
    "language_info": {
      "name": "python"
    }
  },
  "cells": [
    {
      "cell_type": "markdown",
      "metadata": {
        "id": "view-in-github",
        "colab_type": "text"
      },
      "source": [
        "<a href=\"https://colab.research.google.com/github/karthik12s/Speech-Emotion-Recognition/blob/main/savee_preprocessing.ipynb\" target=\"_parent\"><img src=\"https://colab.research.google.com/assets/colab-badge.svg\" alt=\"Open In Colab\"/></a>"
      ]
    },
    {
      "cell_type": "markdown",
      "metadata": {
        "id": "QI5RMzIFiNbQ"
      },
      "source": [
        "# **1. Downloading Dataset**"
      ]
    },
    {
      "cell_type": "code",
      "metadata": {
        "id": "63X-fuU-xzfB"
      },
      "source": [
        "# Run this cell and select the kaggle.json file downloaded\n",
        "# from the Kaggle account settings page.\n",
        "from google.colab import files\n",
        "files.upload()"
      ],
      "execution_count": null,
      "outputs": []
    },
    {
      "cell_type": "markdown",
      "metadata": {
        "id": "IYGmbVpKdmwF"
      },
      "source": [
        "1.1 Connecting Google Colab with Kaggle in order to to download the data from kaggle."
      ]
    },
    {
      "cell_type": "code",
      "metadata": {
        "id": "D06cOltDyTWG"
      },
      "source": [
        "!ls -lha kaggle.json"
      ],
      "execution_count": null,
      "outputs": []
    },
    {
      "cell_type": "code",
      "metadata": {
        "id": "9TKaFjxiyUIk"
      },
      "source": [
        "!pip install -q kaggle"
      ],
      "execution_count": null,
      "outputs": []
    },
    {
      "cell_type": "code",
      "metadata": {
        "id": "-Ca6o8HoyXLC"
      },
      "source": [
        "# The Kaggle API client expects this file to be in ~/.kaggle,\n",
        "# so move it there.\n",
        "!mkdir -p ~/.kaggle\n",
        "!cp kaggle.json ~/.kaggle/\n",
        "\n",
        "# This permissions change avoids a warning on Kaggle tool startup.\n",
        "!chmod 600 ~/.kaggle/kaggle.json"
      ],
      "execution_count": null,
      "outputs": []
    },
    {
      "cell_type": "code",
      "metadata": {
        "id": "LN7DPkwiyeO-"
      },
      "source": [
        "!kaggle datasets list "
      ],
      "execution_count": null,
      "outputs": []
    },
    {
      "cell_type": "code",
      "metadata": {
        "id": "uGtOAcRryg1h"
      },
      "source": [
        "!kaggle datasets download -d barelydedicated/savee-database"
      ],
      "execution_count": null,
      "outputs": []
    },
    {
      "cell_type": "code",
      "metadata": {
        "id": "P_MmoVL-zj29"
      },
      "source": [
        "!unzip \\*.zip"
      ],
      "execution_count": null,
      "outputs": []
    },
    {
      "cell_type": "markdown",
      "metadata": {
        "id": "LuUe5Ou3eJhx"
      },
      "source": [
        "# **2. Preprocessing Data**"
      ]
    },
    {
      "cell_type": "code",
      "metadata": {
        "id": "nT-Fu3Jyz9BP"
      },
      "source": [
        "import glob\n",
        "import librosa\n",
        "import numpy as np\n",
        "import pickle"
      ],
      "execution_count": null,
      "outputs": []
    },
    {
      "cell_type": "code",
      "metadata": {
        "id": "nXdqloGvrfN4"
      },
      "source": [
        "csv_file = '/kaggle/input/iemocap-emotion-speech-database/iemocap_full_dataset.csv'\n",
        "\n",
        "iemocap_df = pd.read_csv(csv_file)\n",
        "iemocap_df.head()"
      ],
      "execution_count": null,
      "outputs": []
    },
    {
      "cell_type": "markdown",
      "metadata": {
        "id": "xFDXK0ZVeiWo"
      },
      "source": [
        "2.1 Loading all the .wav files and their corresponding labels "
      ]
    },
    {
      "cell_type": "code",
      "metadata": {
        "id": "S2BP82eB0IWl"
      },
      "source": [
        "features = []\n",
        "labels = []\n",
        "labels1=['DC','JE','JK','KL']\n",
        "for lab in labels1:\n",
        "  a = glob.glob('/content/audiodata/AudioData/'+lab+'/*.wav')\n",
        "  for i in range(len(a)):\n",
        "    s , sr = librosa.core.load(a[i])\n",
        "    features.append(s)\n",
        "    if len(a[i].split('.')[0].split('/')[-1])==4:\n",
        "      labels.append(a[i].split('.')[0].split('/')[-1][0:2])\n",
        "    else:\n",
        "      labels.append(a[i].split('.')[0].split('/')[-1][0])"
      ],
      "execution_count": null,
      "outputs": []
    },
    {
      "cell_type": "markdown",
      "metadata": {
        "id": "SlOJ9cZzxfeg"
      },
      "source": [
        "2.2 Data Augumentation using\n",
        "\n",
        "\n",
        "1.   *Pitch*\n",
        "2.   Stretch\n",
        "3.   Noise\n",
        "4.   Time shifting\n",
        "5.   Lowering Speed\n",
        "6.   Increasing Speed\n",
        "\n"
      ]
    },
    {
      "cell_type": "code",
      "metadata": {
        "id": "ylhRnTmT22kH"
      },
      "source": [
        "def noise(data):\n",
        "    noise_amp = 0.04*np.random.uniform()*np.amax(data)\n",
        "    data = data + noise_amp*np.random.normal(size=data.shape[0])\n",
        "    return data\n",
        "\n",
        "def stretch(data, rate=0.70):\n",
        "    return librosa.effects.time_stretch(data, rate)\n",
        "\n",
        "def shift(data):\n",
        "    shift_range = int(np.random.uniform(low=-5, high = 5)*1000)\n",
        "    return np.roll(data, shift_range)\n",
        "\n",
        "def pitch(data, sampling_rate, pitch_factor=0.8):\n",
        "    return librosa.effects.pitch_shift(data, sampling_rate, pitch_factor)\n",
        "\n",
        "def higher_speed(data, speed_factor = 1.25):\n",
        "    return librosa.effects.time_stretch(data, speed_factor)\n",
        "\n",
        "def lower_speed(data, speed_factor = 0.75):\n",
        "    return librosa.effects.time_stretch(data, speed_factor)"
      ],
      "execution_count": null,
      "outputs": []
    },
    {
      "cell_type": "markdown",
      "metadata": {
        "id": "_CyZSO9yfOrH"
      },
      "source": [
        "2.3 Feature Extraction"
      ]
    },
    {
      "cell_type": "code",
      "metadata": {
        "id": "rtj_MSJn3FKO"
      },
      "source": [
        "def extract_features(data):\n",
        "    \n",
        "    result = np.array([])\n",
        "    \n",
        "    #mfccs = librosa.feature.mfcc(y=data, sr=22050, n_mfcc=42) #42 mfcc so we get frames of ~60 ms\n",
        "    mfccs = librosa.feature.mfcc(y=data, sr=22050, n_mfcc=58)\n",
        "    mfccs_processed = np.mean(mfccs.T,axis=0)\n",
        "    result = np.array(mfccs_processed)\n",
        "     \n",
        "    return result"
      ],
      "execution_count": null,
      "outputs": []
    },
    {
      "cell_type": "code",
      "metadata": {
        "id": "UW2kTg9_3IEz"
      },
      "source": [
        "def get_features(data):\n",
        "    # duration and offset are used to take care of the no audio in start and the ending of each audio files as seen above.\n",
        "    #data, sample_rate = librosa.load(path, duration=3, offset=0.5, res_type='kaiser_fast') \n",
        "    \n",
        "    #without augmentation\n",
        "    res1 = extract_features(data)\n",
        "    result = np.array(res1)\n",
        "    \n",
        "    #noised\n",
        "    noise_data = noise(data)\n",
        "    res2 = extract_features(noise_data)\n",
        "    result = np.vstack((result, res2)) # stacking vertically\n",
        "    \n",
        "    #stretched\n",
        "    stretch_data = stretch(data)\n",
        "    res3 = extract_features(stretch_data)\n",
        "    result = np.vstack((result, res3))\n",
        "    \n",
        "    #shifted\n",
        "    shift_data = shift(data)\n",
        "    res4 = extract_features(shift_data)\n",
        "    result = np.vstack((result, res4))\n",
        "    \n",
        "    #pitched\n",
        "    pitch_data = pitch(data, sample_rate)\n",
        "    res5 = extract_features(pitch_data)\n",
        "    result = np.vstack((result, res5)) \n",
        "    \n",
        "    #speed up\n",
        "    higher_speed_data = higher_speed(data)\n",
        "    res6 = extract_features(higher_speed_data)\n",
        "    result = np.vstack((result, res6))\n",
        "    \n",
        "    #speed down\n",
        "    lower_speed_data = higher_speed(data)\n",
        "    res7 = extract_features(lower_speed_data)\n",
        "    result = np.vstack((result, res7))\n",
        "    \n",
        "    return result"
      ],
      "execution_count": null,
      "outputs": []
    },
    {
      "cell_type": "code",
      "metadata": {
        "id": "tmSpI5Mb7LJO"
      },
      "source": [
        "X = []\n",
        "Y = []\n",
        "for i in range(len(features1)):\n",
        "  for j in features1[i]:\n",
        "    X.append(j)\n",
        "    Y.append(labels[i])"
      ],
      "execution_count": null,
      "outputs": []
    },
    {
      "cell_type": "code",
      "metadata": {
        "id": "XnAnLe5JjRCc",
        "cellView": "form"
      },
      "source": [
        "#@title\n",
        "# pickle.dump(X,open('/content/drive/MyDrive/Capsule Nets/mfcc/SAVEE_Xwithoutlabels.p','wb'))\n",
        "# pickle.dump(Y,open('/content/drive/MyDrive/Capsule Nets/mfcc/SAVEE_Ywithoutlabels.p','wb'))"
      ],
      "execution_count": null,
      "outputs": []
    },
    {
      "cell_type": "code",
      "metadata": {
        "id": "_k9cdi8E5pQJ",
        "cellView": "form"
      },
      "source": [
        "#@title\n",
        "X= pickle.load(open('/content/drive/MyDrive/Capsule Nets/mfcc/SAVEE_Xwithoutlabels.p','rb'))\n",
        "Y= pickle.load(open('/content/drive/MyDrive/Capsule Nets/mfcc/SAVEE_Ywithoutlabels.p','rb'))"
      ],
      "execution_count": null,
      "outputs": []
    },
    {
      "cell_type": "markdown",
      "metadata": {
        "id": "kV4dE8VM55d7"
      },
      "source": [
        "2.4 Encoding Labels"
      ]
    },
    {
      "cell_type": "code",
      "metadata": {
        "colab": {
          "base_uri": "https://localhost:8080/"
        },
        "id": "DP7VUTv07SPG",
        "outputId": "418f86bf-3122-4e00-b35d-690218d3eca2"
      },
      "source": [
        "d = {}\n",
        "j = 0\n",
        "for i in Y:\n",
        "  if i not in d:\n",
        "    d[i] = j\n",
        "    j=j+1\n",
        "d.keys()"
      ],
      "execution_count": null,
      "outputs": [
        {
          "output_type": "execute_result",
          "data": {
            "text/plain": [
              "dict_keys(['n', 'h', 'a', 'd', 'su', 'f', 'sa'])"
            ]
          },
          "metadata": {
            "tags": []
          },
          "execution_count": 7
        }
      ]
    },
    {
      "cell_type": "code",
      "metadata": {
        "id": "8vY-5zfOQSk2"
      },
      "source": [
        "from sklearn.preprocessing import StandardScaler, OneHotEncoder\n",
        "from sklearn.metrics import confusion_matrix, classification_report\n",
        "from sklearn.model_selection import train_test_split"
      ],
      "execution_count": null,
      "outputs": []
    },
    {
      "cell_type": "code",
      "metadata": {
        "cellView": "form",
        "id": "UITMB7a9gKA1"
      },
      "source": [
        "#@title\n"
      ],
      "execution_count": null,
      "outputs": []
    },
    {
      "cell_type": "code",
      "metadata": {
        "id": "kiKem62n1mfR",
        "cellView": "form"
      },
      "source": [
        "#@title\n",
        "# import pickle\n",
        "# pickle.dump(X,open('/content/drive/MyDrive/Capsule Nets/mfcc/SAVEE_X.p','wb'))\n",
        "# pickle.dump(Y1,open('/content/drive/MyDrive/Capsule Nets/mfcc/SAVEE_Y.p','wb'))"
      ],
      "execution_count": null,
      "outputs": []
    },
    {
      "cell_type": "code",
      "metadata": {
        "id": "yKgLaApaQWAh",
        "colab": {
          "base_uri": "https://localhost:8080/"
        },
        "outputId": "1afc0dcd-27a6-42fa-8763-606c171bba9e"
      },
      "source": [
        "X = np.array(X)\n",
        "Y1 = np.array(Y1)\n",
        "x_train, x_test, y_train, y_test = train_test_split(X,Y1, random_state=0, test_size=0.20, shuffle=True)\n",
        "x_train.shape, y_train.shape, x_test.shape, y_test.shape"
      ],
      "execution_count": null,
      "outputs": [
        {
          "output_type": "execute_result",
          "data": {
            "text/plain": [
              "((2688, 58), (2688, 7), (672, 58), (672, 7))"
            ]
          },
          "metadata": {
            "tags": []
          },
          "execution_count": 13
        }
      ]
    },
    {
      "cell_type": "code",
      "metadata": {
        "id": "rERdg9_bQYTc"
      },
      "source": [
        "x_train, x_valid, y_train, y_valid = train_test_split(x_train, y_train, random_state=0, test_size=0.20, shuffle=True)"
      ],
      "execution_count": null,
      "outputs": []
    },
    {
      "cell_type": "code",
      "metadata": {
        "cellView": "form",
        "id": "iCzav3oagRaV"
      },
      "source": [
        "#@title\n"
      ],
      "execution_count": null,
      "outputs": []
    },
    {
      "cell_type": "code",
      "metadata": {
        "id": "Gby3wz6IQY92",
        "cellView": "form"
      },
      "source": [
        "#@title\n",
        "#import pickle\n",
        "#pickle.dump(X,open('/content/drive/MyDrive/Capsule Nets/mfcc/SAVEE_X.p','wb'))\n",
        "#pickle.dump(Y1,open('/content/drive/MyDrive/Capsule Nets/mfcc/SAVEE_Y.p','wb'))"
      ],
      "execution_count": null,
      "outputs": []
    },
    {
      "cell_type": "markdown",
      "metadata": {
        "id": "AOKxxCOg5YoM"
      },
      "source": [
        "# **3.Capsule Net Model Training**"
      ]
    },
    {
      "cell_type": "code",
      "metadata": {
        "id": "fF0Vdzrz5i9t",
        "colab": {
          "base_uri": "https://localhost:8080/"
        },
        "outputId": "c90d6706-4bc8-48de-c24f-132b71d80efd"
      },
      "source": [
        "!pip install keras==2.1.6\n",
        "# !pip install tensorflow==1.7.0"
      ],
      "execution_count": null,
      "outputs": [
        {
          "output_type": "stream",
          "text": [
            "Collecting keras==2.1.6\n",
            "\u001b[?25l  Downloading https://files.pythonhosted.org/packages/54/e8/eaff7a09349ae9bd40d3ebaf028b49f5e2392c771f294910f75bb608b241/Keras-2.1.6-py2.py3-none-any.whl (339kB)\n",
            "\r\u001b[K     |█                               | 10kB 13.6MB/s eta 0:00:01\r\u001b[K     |██                              | 20kB 9.7MB/s eta 0:00:01\r\u001b[K     |███                             | 30kB 10.2MB/s eta 0:00:01\r\u001b[K     |███▉                            | 40kB 8.0MB/s eta 0:00:01\r\u001b[K     |████▉                           | 51kB 5.0MB/s eta 0:00:01\r\u001b[K     |█████▉                          | 61kB 5.7MB/s eta 0:00:01\r\u001b[K     |██████▊                         | 71kB 5.5MB/s eta 0:00:01\r\u001b[K     |███████▊                        | 81kB 6.0MB/s eta 0:00:01\r\u001b[K     |████████▊                       | 92kB 5.8MB/s eta 0:00:01\r\u001b[K     |█████████▋                      | 102kB 5.7MB/s eta 0:00:01\r\u001b[K     |██████████▋                     | 112kB 5.7MB/s eta 0:00:01\r\u001b[K     |███████████▋                    | 122kB 5.7MB/s eta 0:00:01\r\u001b[K     |████████████▌                   | 133kB 5.7MB/s eta 0:00:01\r\u001b[K     |█████████████▌                  | 143kB 5.7MB/s eta 0:00:01\r\u001b[K     |██████████████▌                 | 153kB 5.7MB/s eta 0:00:01\r\u001b[K     |███████████████▍                | 163kB 5.7MB/s eta 0:00:01\r\u001b[K     |████████████████▍               | 174kB 5.7MB/s eta 0:00:01\r\u001b[K     |█████████████████▍              | 184kB 5.7MB/s eta 0:00:01\r\u001b[K     |██████████████████▎             | 194kB 5.7MB/s eta 0:00:01\r\u001b[K     |███████████████████▎            | 204kB 5.7MB/s eta 0:00:01\r\u001b[K     |████████████████████▎           | 215kB 5.7MB/s eta 0:00:01\r\u001b[K     |█████████████████████▎          | 225kB 5.7MB/s eta 0:00:01\r\u001b[K     |██████████████████████▏         | 235kB 5.7MB/s eta 0:00:01\r\u001b[K     |███████████████████████▏        | 245kB 5.7MB/s eta 0:00:01\r\u001b[K     |████████████████████████▏       | 256kB 5.7MB/s eta 0:00:01\r\u001b[K     |█████████████████████████       | 266kB 5.7MB/s eta 0:00:01\r\u001b[K     |██████████████████████████      | 276kB 5.7MB/s eta 0:00:01\r\u001b[K     |███████████████████████████     | 286kB 5.7MB/s eta 0:00:01\r\u001b[K     |████████████████████████████    | 296kB 5.7MB/s eta 0:00:01\r\u001b[K     |█████████████████████████████   | 307kB 5.7MB/s eta 0:00:01\r\u001b[K     |██████████████████████████████  | 317kB 5.7MB/s eta 0:00:01\r\u001b[K     |██████████████████████████████▉ | 327kB 5.7MB/s eta 0:00:01\r\u001b[K     |███████████████████████████████▉| 337kB 5.7MB/s eta 0:00:01\r\u001b[K     |████████████████████████████████| 348kB 5.7MB/s \n",
            "\u001b[?25hRequirement already satisfied: numpy>=1.9.1 in /usr/local/lib/python3.7/dist-packages (from keras==2.1.6) (1.19.5)\n",
            "Requirement already satisfied: h5py in /usr/local/lib/python3.7/dist-packages (from keras==2.1.6) (2.10.0)\n",
            "Requirement already satisfied: six>=1.9.0 in /usr/local/lib/python3.7/dist-packages (from keras==2.1.6) (1.15.0)\n",
            "Requirement already satisfied: scipy>=0.14 in /usr/local/lib/python3.7/dist-packages (from keras==2.1.6) (1.4.1)\n",
            "Requirement already satisfied: pyyaml in /usr/local/lib/python3.7/dist-packages (from keras==2.1.6) (3.13)\n",
            "Installing collected packages: keras\n",
            "  Found existing installation: Keras 2.4.3\n",
            "    Uninstalling Keras-2.4.3:\n",
            "      Successfully uninstalled Keras-2.4.3\n",
            "Successfully installed keras-2.1.6\n"
          ],
          "name": "stdout"
        }
      ]
    },
    {
      "cell_type": "code",
      "metadata": {
        "id": "iRh2Xntu9vVJ"
      },
      "source": [
        "from tensorflow.keras.layers import Dense,Dropout,Activation,Multiply,BatchNormalization, Flatten,TimeDistributed,LSTM"
      ],
      "execution_count": null,
      "outputs": []
    },
    {
      "cell_type": "code",
      "metadata": {
        "id": "7O9HIiyrskLX",
        "colab": {
          "base_uri": "https://localhost:8080/"
        },
        "outputId": "34f97f7e-21e0-459d-b9ed-cbc639062e67"
      },
      "source": [
        "#Author: Xifeng Guo, E-mail: `guoxifeng1990@163.com`, Github: `https://github.com/XifengGuo/CapsNet-Keras`\n",
        "\n",
        "\n",
        "import keras.backend as K\n",
        "import tensorflow as tf\n",
        "from tensorflow.keras import initializers, layers, models\n",
        "\n",
        "\n",
        "class Length(layers.Layer):\n",
        "    \"\"\"\n",
        "    Compute the length of vectors. This is used to compute a Tensor that has the same shape with y_true in margin_loss.\n",
        "    Using this layer as model's output can directly predict labels by using `y_pred = np.argmax(model.predict(x), 1)`\n",
        "    inputs: shape=[None, num_vectors, dim_vector]\n",
        "    output: shape=[None, num_vectors]\n",
        "    \"\"\"\n",
        "    def call(self, inputs, **kwargs):\n",
        "        return K.sqrt(K.sum(K.square(inputs), -1) + K.epsilon())\n",
        "\n",
        "    def compute_output_shape(self, input_shape):\n",
        "        return input_shape[:-1]\n",
        "\n",
        "    def get_config(self):\n",
        "        config = super(Length, self).get_config()\n",
        "        return config\n",
        "\n",
        "\n",
        "class Mask(layers.Layer):\n",
        "    \"\"\"\n",
        "    Mask a Tensor with shape=[None, num_capsule, dim_vector] either by the capsule with max length or by an additional \n",
        "    input mask. Except the max-length capsule (or specified capsule), all vectors are masked to zeros. Then flatten the\n",
        "    masked Tensor.\n",
        "    For example:\n",
        "        ```\n",
        "        x = keras.layers.Input(shape=[8, 3, 2])  # batch_size=8, each sample contains 3 capsules with dim_vector=2\n",
        "        y = keras.layers.Input(shape=[8, 3])  # True labels. 8 samples, 3 classes, one-hot coding.\n",
        "        out = Mask()(x)  # out.shape=[8, 6]\n",
        "        # or\n",
        "        out2 = Mask()([x, y])  # out2.shape=[8,6]. Masked with true labels y. Of course y can also be manipulated.\n",
        "        ```\n",
        "    \"\"\"\n",
        "    def call(self, inputs, **kwargs):\n",
        "        if type(inputs) is list:  # true label is provided with shape = [None, n_classes], i.e. one-hot code.\n",
        "            assert len(inputs) == 2\n",
        "            inputs, mask = inputs\n",
        "        else:  # if no true label, mask by the max length of capsules. Mainly used for prediction\n",
        "            # compute lengths of capsules\n",
        "            x = K.sqrt(K.sum(K.square(inputs), -1))\n",
        "            # generate the mask which is a one-hot code.\n",
        "            # mask.shape=[None, n_classes]=[None, num_capsule]\n",
        "            mask = K.one_hot(indices=K.argmax(x, 1), num_classes=x.get_shape().as_list()[1])\n",
        "\n",
        "        # inputs.shape=[None, num_capsule, dim_capsule]\n",
        "        # mask.shape=[None, num_capsule]\n",
        "        # masked.shape=[None, num_capsule * dim_capsule]\n",
        "        masked = K.batch_flatten(inputs * K.expand_dims(mask, -1))\n",
        "        return masked\n",
        "\n",
        "    def compute_output_shape(self, input_shape):\n",
        "        if type(input_shape[0]) is tuple:  # true label provided\n",
        "            return tuple([None, input_shape[0][1] * input_shape[0][2]])\n",
        "        else:  # no true label provided\n",
        "            return tuple([None, input_shape[1] * input_shape[2]])\n",
        "\n",
        "    def get_config(self):\n",
        "        config = super(Mask, self).get_config()\n",
        "        return config\n",
        "\n",
        "\n",
        "def squash(vectors, axis=-1):\n",
        "    \"\"\"\n",
        "    The non-linear activation used in Capsule. It drives the length of a large vector to near 1 and small vector to 0\n",
        "    :param vectors: some vectors to be squashed, N-dim tensor\n",
        "    :param axis: the axis to squash\n",
        "    :return: a Tensor with same shape as input vectors\n",
        "    \"\"\"\n",
        "    s_squared_norm = K.sum(K.square(vectors), axis, keepdims=True)\n",
        "    scale = s_squared_norm / (1 + s_squared_norm) / K.sqrt(s_squared_norm + K.epsilon())\n",
        "    return scale * vectors\n",
        "\n",
        "\n",
        "class CapsuleLayer(layers.Layer):\n",
        "    \"\"\"\n",
        "    The capsule layer. It is similar to Dense layer. Dense layer has `in_num` inputs, each is a scalar, the output of the \n",
        "    neuron from the former layer, and it has `out_num` output neurons. CapsuleLayer just expand the output of the neuron\n",
        "    from scalar to vector. So its input shape = [None, input_num_capsule, input_dim_capsule] and output shape = \\\n",
        "    [None, num_capsule, dim_capsule]. For Dense Layer, input_dim_capsule = dim_capsule = 1.\n",
        "    \n",
        "    :param num_capsule: number of capsules in this layer\n",
        "    :param dim_capsule: dimension of the output vectors of the capsules in this layer\n",
        "    :param routings: number of iterations for the routing algorithm\n",
        "    \"\"\"\n",
        "    def __init__(self, num_capsule, dim_capsule, routings=3,\n",
        "                 kernel_initializer='random_uniform',\n",
        "                 **kwargs):\n",
        "        super(CapsuleLayer, self).__init__(**kwargs)\n",
        "        self.num_capsule = num_capsule\n",
        "        self.dim_capsule = dim_capsule\n",
        "        self.routings = routings\n",
        "        self.kernel_initializer = initializers.get(kernel_initializer)\n",
        "\n",
        "    def build(self, input_shape):\n",
        "        assert len(input_shape) >= 3, \"The input Tensor should have shape=[None, input_num_capsule, input_dim_capsule]\"\n",
        "        self.input_num_capsule = input_shape[1]\n",
        "        self.input_dim_capsule = input_shape[2]\n",
        "\n",
        "        # Transform matrix\n",
        "        self.W = self.add_weight(shape=[self.num_capsule, self.input_num_capsule,\n",
        "                                        self.dim_capsule, self.input_dim_capsule],\n",
        "                                 initializer=self.kernel_initializer,\n",
        "                                 name='W')\n",
        "\n",
        "        self.built = True\n",
        "\n",
        "    def call(self, inputs, training=None):\n",
        "        # inputs.shape=[None, input_num_capsule, input_dim_capsule]\n",
        "        # inputs_expand.shape=[None, 1, input_num_capsule, input_dim_capsule]\n",
        "        inputs_expand = K.expand_dims(inputs, 1)\n",
        "\n",
        "        # Replicate num_capsule dimension to prepare being multiplied by W\n",
        "        # inputs_tiled.shape=[None, num_capsule, input_num_capsule, input_dim_capsule]\n",
        "        inputs_tiled = K.tile(inputs_expand, [1, self.num_capsule, 1, 1])\n",
        "\n",
        "        # Compute `inputs * W` by scanning inputs_tiled on dimension 0.\n",
        "        # x.shape=[num_capsule, input_num_capsule, input_dim_capsule]\n",
        "        # W.shape=[num_capsule, input_num_capsule, dim_capsule, input_dim_capsule]\n",
        "        # Regard the first two dimensions as `batch` dimension,\n",
        "        # then matmul: [input_dim_capsule] x [dim_capsule, input_dim_capsule]^T -> [dim_capsule].\n",
        "        # inputs_hat.shape = [None, num_capsule, input_num_capsule, dim_capsule]\n",
        "        inputs_hat = K.map_fn(lambda x: K.batch_dot(x, self.W, [2, 3]), elems=inputs_tiled)\n",
        "\n",
        "        # Begin: Routing algorithm ---------------------------------------------------------------------#\n",
        "        # The prior for coupling coefficient, initialized as zeros.\n",
        "        # b.shape = [None, self.num_capsule, self.input_num_capsule].\n",
        "        b = tf.zeros(shape=[K.shape(inputs_hat)[0], self.num_capsule, self.input_num_capsule])\n",
        "\n",
        "        assert self.routings > 0, 'The routings should be > 0.'\n",
        "        for i in range(self.routings):\n",
        "            # c.shape=[batch_size, num_capsule, input_num_capsule]\n",
        "            c = tf.nn.softmax(b)\n",
        "\n",
        "            # c.shape =  [batch_size, num_capsule, input_num_capsule]\n",
        "            # inputs_hat.shape=[None, num_capsule, input_num_capsule, dim_capsule]\n",
        "            # The first two dimensions as `batch` dimension,\n",
        "            # then matmal: [input_num_capsule] x [input_num_capsule, dim_capsule] -> [dim_capsule].\n",
        "            # outputs.shape=[None, num_capsule, dim_capsule]\n",
        "            outputs = squash(K.batch_dot(c, inputs_hat, [2, 2]))  # [None, 10, 16]\n",
        "\n",
        "            if i < self.routings - 1:\n",
        "                # outputs.shape =  [None, num_capsule, dim_capsule]\n",
        "                # inputs_hat.shape=[None, num_capsule, input_num_capsule, dim_capsule]\n",
        "                # The first two dimensions as `batch` dimension,\n",
        "                # then matmal: [dim_capsule] x [input_num_capsule, dim_capsule]^T -> [input_num_capsule].\n",
        "                # b.shape=[batch_size, num_capsule, input_num_capsule]\n",
        "                b += K.batch_dot(outputs, inputs_hat, [2, 3])\n",
        "        # End: Routing algorithm -----------------------------------------------------------------------#\n",
        "\n",
        "        return outputs\n",
        "\n",
        "    def compute_output_shape(self, input_shape):\n",
        "        return tuple([None, self.num_capsule, self.dim_capsule])\n",
        "\n",
        "    def get_config(self):\n",
        "        config = {\n",
        "            'num_capsule': self.num_capsule,\n",
        "            'dim_capsule': self.dim_capsule,\n",
        "            'routings': self.routings\n",
        "        }\n",
        "        base_config = super(CapsuleLayer, self).get_config()\n",
        "        return dict(list(base_config.items()) + list(config.items()))\n",
        "\n",
        "\n",
        "def PrimaryCap(inputs, dim_capsule, n_channels, kernel_size, strides, padding):\n",
        "    \"\"\"\n",
        "    Apply Conv2D `n_channels` times and concatenate all capsules\n",
        "    :param inputs: 4D tensor, shape=[None, width, height, channels]\n",
        "    :param dim_capsule: the dim of the output vector of capsule\n",
        "    :param n_channels: the number of types of capsules\n",
        "    :return: output tensor, shape=[None, num_capsule, dim_capsule]\n",
        "    \"\"\"\n",
        "    output = (layers.Conv1D(filters=dim_capsule*n_channels, kernel_size=kernel_size, strides=strides, padding=padding,\n",
        "                           name='primarycap_conv2d'))(inputs)\n",
        "    outputs = (layers.Reshape(target_shape=[-1, dim_capsule], name='primarycap_reshape'))(output)\n",
        "    return (layers.Lambda(squash, name='primarycap_squash'))(outputs)"
      ],
      "execution_count": null,
      "outputs": [
        {
          "output_type": "stream",
          "text": [
            "Using TensorFlow backend.\n"
          ],
          "name": "stderr"
        }
      ]
    },
    {
      "cell_type": "markdown",
      "metadata": {
        "id": "kyXF-_OmgnnV"
      },
      "source": [
        "3.1 Capsule Net Model"
      ]
    },
    {
      "cell_type": "code",
      "metadata": {
        "id": "Mh-WPIttsI1Z"
      },
      "source": [
        "def Caps1Net(input_shape, n_class, routings):\n",
        "    \"\"\"\n",
        "    A Capsule Network on MNIST.\n",
        "    :param input_shape: data shape, 3d, [width, height, channels]\n",
        "    :param n_class: number of classes\n",
        "    :param routings: number of routing iterations\n",
        "    :return: Two Keras Models, the first one used for training, and the second one for evaluation.\n",
        "            `eval_model` can also be used for training.\n",
        "    \"\"\"\n",
        "    x = layers.Input(shape=input_shape)\n",
        "    x1 = x\n",
        "    # Layer 1: Just a conventional Conv2D layer\n",
        "    conv1 = layers.Conv1D(filters=128, kernel_size=9, strides=1, padding='valid', activation='relu', name='conv1')(x)\n",
        "\n",
        "    # Layer 2: Conv2D layer with `squash` activation, then reshape to [None, num_capsule, dim_capsule]\n",
        "    primarycaps = PrimaryCap(conv1, dim_capsule=8, n_channels=32, kernel_size=9, strides=2, padding='valid')\n",
        "\n",
        "    # Layer 3: Capsule layer. Routing algorithm works here.\n",
        "    digitcaps = CapsuleLayer(num_capsule=n_class, dim_capsule=16, routings=routings,\n",
        "                             name='digitcaps')(primarycaps)\n",
        "\n",
        "    # Layer 4: This is an auxiliary layer to replace each capsule with its length. Just to match the true label's shape.\n",
        "    # If using tensorflow, this will not be necessary. :)\n",
        "    out_caps = Length(name='capsnet')(digitcaps)\n",
        "\n",
        "    # Decoder network.\n",
        "    y = layers.Input(shape=(n_class,))\n",
        "    masked_by_y = Mask()([digitcaps, y])  # The true label is used to mask the output of capsule layer. For training\n",
        "    masked = Mask()(digitcaps)  # Mask using the capsule with maximal length. For prediction\n",
        "\n",
        "    # Shared Decoder model in training and prediction\n",
        "    decoder = models.Sequential(name='decoder')\n",
        "    #decoder.add(layers.Dense(512, activation='relu', input_dim=16*n_class))\n",
        "    #decoder.add(layers.Dense(1024, activation='relu'))\n",
        "    decoder.add(layers.Dense(np.prod((input_shape)), activation='sigmoid',input_dim=16*n_class))\n",
        "    decoder.add(layers.Reshape(target_shape=(input_shape), name='out_recon'))\n",
        "\n",
        "    # Models for training and evaluation (prediction)\n",
        "    train_model = models.Model([x1, y], [out_caps, decoder(masked_by_y)])\n",
        "    eval_model = models.Model(x1, [out_caps, decoder(masked)])\n",
        "\n",
        "    # manipulate model\n",
        "    noise = layers.Input(shape=(n_class, 16))\n",
        "    noised_digitcaps = layers.Add()([digitcaps, noise])\n",
        "    masked_noised_y = Mask()([noised_digitcaps, y])\n",
        "    manipulate_model = models.Model([x1, y, noise], decoder(masked_noised_y))\n",
        "    return train_model, eval_model, manipulate_model"
      ],
      "execution_count": null,
      "outputs": []
    },
    {
      "cell_type": "code",
      "metadata": {
        "id": "PnbrLOJJwjuy"
      },
      "source": [
        "model, eval_model, manipulate_model = Caps1Net(input_shape=(58,1),\n",
        "                                                  n_class=7,\n",
        "                                                  routings=3)"
      ],
      "execution_count": null,
      "outputs": []
    },
    {
      "cell_type": "code",
      "metadata": {
        "id": "aNaSP7nA849c"
      },
      "source": [
        "from tensorflow.keras.utils import plot_model\n",
        "from IPython.display import Image"
      ],
      "execution_count": null,
      "outputs": []
    },
    {
      "cell_type": "code",
      "metadata": {
        "id": "Yxf6Sm9k8zzq",
        "colab": {
          "base_uri": "https://localhost:8080/",
          "height": 441
        },
        "outputId": "15bb0e50-d07f-4df0-fda0-a0730c8d1f5e"
      },
      "source": [
        "plot_model(model, show_shapes=True, show_layer_names=True, to_file='model.png')\n",
        "Image(retina=True, filename='model.png')"
      ],
      "execution_count": null,
      "outputs": [
        {
          "output_type": "execute_result",
          "data": {
            "image/png": "[encoded data removed]",
            "text/plain": [
              "<IPython.core.display.Image object>"
            ]
          },
          "metadata": {
            "tags": [],
            "image/png": {
              "width": 440,
              "height": 424
            }
          },
          "execution_count": 36
        }
      ]
    },
    {
      "cell_type": "markdown",
      "metadata": {
        "id": "kcIv2ZddguKy"
      },
      "source": [
        "3.2 Model Summary"
      ]
    },
    {
      "cell_type": "code",
      "metadata": {
        "id": "kiH0KYtb1uj5",
        "colab": {
          "base_uri": "https://localhost:8080/"
        },
        "outputId": "391aa02f-51e1-40ee-b143-f9a9928be1ea"
      },
      "source": [
        "model.summary()#"
      ],
      "execution_count": null,
      "outputs": [
        {
          "output_type": "stream",
          "text": [
            "Model: \"model_3\"\n",
            "__________________________________________________________________________________________________\n",
            "Layer (type)                    Output Shape         Param #     Connected to                     \n",
            "==================================================================================================\n",
            "input_4 (InputLayer)            [(None, 58, 1)]      0                                            \n",
            "__________________________________________________________________________________________________\n",
            "conv1 (Conv1D)                  (None, 50, 128)      1280        input_4[0][0]                    \n",
            "__________________________________________________________________________________________________\n",
            "primarycap_conv2d (Conv1D)      (None, 21, 256)      295168      conv1[0][0]                      \n",
            "__________________________________________________________________________________________________\n",
            "primarycap_reshape (Reshape)    (None, 672, 8)       0           primarycap_conv2d[0][0]          \n",
            "__________________________________________________________________________________________________\n",
            "primarycap_squash (Lambda)      (None, 672, 8)       0           primarycap_reshape[0][0]         \n",
            "__________________________________________________________________________________________________\n",
            "digitcaps (CapsuleLayer)        (None, 7, 16)        602112      primarycap_squash[0][0]          \n",
            "__________________________________________________________________________________________________\n",
            "input_5 (InputLayer)            [(None, 7)]          0                                            \n",
            "__________________________________________________________________________________________________\n",
            "mask_3 (Mask)                   (None, None)         0           digitcaps[0][0]                  \n",
            "                                                                 input_5[0][0]                    \n",
            "__________________________________________________________________________________________________\n",
            "capsnet (Length)                (None, 7)            0           digitcaps[0][0]                  \n",
            "__________________________________________________________________________________________________\n",
            "decoder (Sequential)            (None, 58, 1)        6554        mask_3[0][0]                     \n",
            "==================================================================================================\n",
            "Total params: 905,114\n",
            "Trainable params: 905,114\n",
            "Non-trainable params: 0\n",
            "__________________________________________________________________________________________________\n"
          ],
          "name": "stdout"
        }
      ]
    },
    {
      "cell_type": "markdown",
      "metadata": {
        "id": "_HPcaSZZgx1F"
      },
      "source": [
        "3.3 Loss Function Definition"
      ]
    },
    {
      "cell_type": "code",
      "metadata": {
        "id": "Y-SNDR97k1FX"
      },
      "source": [
        "def margin_loss(y_true, y_pred):\n",
        "    \"\"\"\n",
        "    Margin loss for Eq.(4). When y_true[i, :] contains not just one `1`, this loss should work too. Not test it.\n",
        "    :param y_true: [None, n_classes]\n",
        "    :param y_pred: [None, num_capsule]\n",
        "    :return: a scalar loss value.\n",
        "    \"\"\"\n",
        "    L = y_true * K.square(K.maximum(0., 0.9 - y_pred)) + \\\n",
        "        0.5 * (1 - y_true) * K.square(K.maximum(0., y_pred - 0.1))\n",
        "\n",
        "    return K.mean(K.sum(L, 1))"
      ],
      "execution_count": null,
      "outputs": []
    },
    {
      "cell_type": "markdown",
      "metadata": {
        "id": "nM5OuSazg1Wb"
      },
      "source": [
        "3.4 Training the model"
      ]
    },
    {
      "cell_type": "code",
      "metadata": {
        "id": "oc2APzjHjwzq"
      },
      "source": [
        "def train(model, data, epochs, epoch_size_frac=1.0):\n",
        "    \"\"\"\n",
        "    Training a CapsuleNet\n",
        "    :param model: the CapsuleNet model\n",
        "    :param data: a tuple containing training and testing data, like `((x_train, y_train), (x_test, y_test))`\n",
        "    :param args: arguments\n",
        "    :return: The trained model\n",
        "    \"\"\"\n",
        "    start = datetime.today()\n",
        "    model.compile(optimizer='adam',\n",
        "                  loss=[margin_loss, 'mse'],\n",
        "                  loss_weights=[1., 0.0005],\n",
        "                  metrics={'out_caps': 'accuracy'})\n",
        "    (x_train, y_train), (x_test, y_test) = data\n",
        "    print(type(x_test))\n",
        "    print(type([[x_test, y_test],[y_test, x_test]]))\n",
        "    # callbacks\n",
        "    log = callbacks.CSVLogger('log.csv')\n",
        "    checkpoint = callbacks.ModelCheckpoint(\n",
        "        'weights-{epoch:02d}.h5',\n",
        "        save_best_only=True, \n",
        "        save_weights_only=True, \n",
        "        verbose=False)\n",
        "    lr_decay = callbacks.LearningRateScheduler(\n",
        "        schedule=lambda epoch: 0.001 * np.exp(-epoch / 10.))\n",
        "\n",
        "    # compile the model\n",
        "    model.compile(optimizer='adam',\n",
        "                  loss=[margin_loss, 'mse'],\n",
        "                  loss_weights=[1., 0.0005],\n",
        "                  metrics=['accuracy'])\n",
        "\n",
        "    \n",
        "    # Training without data augmentation:\n",
        "    # hist = model.fit([x_train, y_train], [y_train, x_train], batch_size=50, epochs=50,\n",
        "    #           validation_data=([x_test, y_test], [y_test, x_test]))\n",
        "    \n",
        "\n",
        "    '''# -----------------------------------Begin: Training with data augmentation -----------------------------------#\n",
        "    def train_generator(x, y, batch_size, shift_fraction=0.):\n",
        "        train_datagen = ImageDataGenerator(width_shift_range=shift_fraction,\n",
        "                                           height_shift_range=shift_fraction)  # shift up to 2 pixel for MNIST\n",
        "        generator = train_datagen.flow(x, y, batch_size=batch_size)\n",
        "        while 1:\n",
        "            x_batch, y_batch = generator.next()\n",
        "            yield ([x_batch, y_batch], [y_batch, x_batch])\n",
        "\n",
        "    # Training with data augmentation. If shift_fraction=0., also no augmentation.\n",
        "    hist = model.fit_generator(\n",
        "                        (x_train, y_train),\n",
        "                        steps_per_epoch=50,\n",
        "                        epochs=epochs,\n",
        "                        verbose=2,\n",
        "                        validation_data=[[x_test, y_test], \n",
        "                                         [y_test, x_test]],\n",
        "                        callbacks=[log, checkpoint, lr_decay])'''\n",
        "    hist=model.fit([x_train, y_train], [y_train, x_train], batch_size=50, epochs=epochs,\n",
        "               validation_data=([x_test, y_test], [y_test, x_test]), callbacks=[log, checkpoint])\n",
        "    # -----------------------------------End: Training with data augmentation -----------------------------------#\n",
        "\n",
        "    end = datetime.today()\n",
        "    \n",
        "    print(\"_\"*10)\n",
        "    print(\"Time Took: {}\".format(end - start))\n",
        "    return hist"
      ],
      "execution_count": null,
      "outputs": []
    },
    {
      "cell_type": "markdown",
      "metadata": {
        "id": "uYkZ1zLKg6bn"
      },
      "source": [
        "3.5 MFCC Visualisation"
      ]
    },
    {
      "cell_type": "code",
      "metadata": {
        "id": "gOq_tjnWL13q"
      },
      "source": [
        "import matplotlib.pyplot as plt"
      ],
      "execution_count": null,
      "outputs": []
    },
    {
      "cell_type": "code",
      "metadata": {
        "id": "_ANQDHXV5ZSq"
      },
      "source": [
        "from sklearn.preprocessing import StandardScaler, OneHotEncoder\n",
        "from sklearn.metrics import confusion_matrix, classification_report\n",
        "from sklearn.model_selection import train_test_split"
      ],
      "execution_count": null,
      "outputs": []
    },
    {
      "cell_type": "code",
      "metadata": {
        "colab": {
          "base_uri": "https://localhost:8080/",
          "height": 284
        },
        "id": "E8csfzWaLnCx",
        "outputId": "6d4d0952-9391-4ae2-9fda-50c8afd7e4a5"
      },
      "source": [
        "plt.imshow((x_train[3]).reshape(58,1))"
      ],
      "execution_count": null,
      "outputs": [
        {
          "output_type": "execute_result",
          "data": {
            "text/plain": [
              "<matplotlib.image.AxesImage at 0x7f95c6500450>"
            ]
          },
          "metadata": {
            "tags": []
          },
          "execution_count": 42
        },
        {
          "output_type": "display_data",
          "data": {
            "image/png": "[encoded data removed]",
            "text/plain": [
              "<Figure size 432x288 with 1 Axes>"
            ]
          },
          "metadata": {
            "tags": [],
            "needs_background": "light"
          }
        }
      ]
    },
    {
      "cell_type": "code",
      "metadata": {
        "id": "Gs9FGHZm6gtc"
      },
      "source": [
        "data=(X_train, y_train), (X_test, y_test)"
      ],
      "execution_count": null,
      "outputs": []
    },
    {
      "cell_type": "code",
      "metadata": {
        "id": "Lt8G5z9O6mB1"
      },
      "source": [
        "from keras.preprocessing.image import ImageDataGenerator\n",
        "from keras.utils.vis_utils import plot_model\n",
        "from datetime import datetime \n",
        "from numpy.random import seed\n"
      ],
      "execution_count": null,
      "outputs": []
    },
    {
      "cell_type": "code",
      "metadata": {
        "id": "pPEaNaL4P_7V"
      },
      "source": [
        "from tensorflow.keras import callbacks"
      ],
      "execution_count": null,
      "outputs": []
    },
    {
      "cell_type": "code",
      "metadata": {
        "colab": {
          "base_uri": "https://localhost:8080/"
        },
        "id": "yZSt13Hd6bds",
        "outputId": "4e40f7a2-054b-408f-b2de-9ad55b3de504"
      },
      "source": [
        "hist = train(model=model, \n",
        "             epochs= 50,\n",
        "             data=data, \n",
        "             epoch_size_frac = 1)"
      ],
      "execution_count": null,
      "outputs": [
        {
          "output_type": "stream",
          "text": [
            "<class 'numpy.ndarray'>\n",
            "<class 'list'>\n",
            "Epoch 1/50\n",
            "43/43 [==============================] - 17s 352ms/step - loss: 2.4702 - capsnet_loss: 0.8094 - decoder_loss: 3321.5621 - capsnet_accuracy: 0.0887 - decoder_accuracy: 0.0000e+00 - val_loss: 2.5250 - val_capsnet_loss: 0.8094 - val_decoder_loss: 3431.0740 - val_capsnet_accuracy: 0.1220 - val_decoder_accuracy: 0.0000e+00\n",
            "Epoch 2/50\n",
            "43/43 [==============================] - 15s 341ms/step - loss: 2.4766 - capsnet_loss: 0.8094 - decoder_loss: 3334.4002 - capsnet_accuracy: 0.1224 - decoder_accuracy: 0.0000e+00 - val_loss: 2.5244 - val_capsnet_loss: 0.8090 - val_decoder_loss: 3430.8210 - val_capsnet_accuracy: 0.1384 - val_decoder_accuracy: 0.0000e+00\n",
            "Epoch 3/50\n",
            "43/43 [==============================] - 15s 341ms/step - loss: 2.4447 - capsnet_loss: 0.7703 - decoder_loss: 3348.9511 - capsnet_accuracy: 0.1356 - decoder_accuracy: 0.0000e+00 - val_loss: 2.2091 - val_capsnet_loss: 0.4939 - val_decoder_loss: 3430.3962 - val_capsnet_accuracy: 0.2679 - val_decoder_accuracy: 0.0000e+00\n",
            "Epoch 4/50\n",
            "43/43 [==============================] - 15s 342ms/step - loss: 2.1415 - capsnet_loss: 0.4731 - decoder_loss: 3336.8604 - capsnet_accuracy: 0.2519 - decoder_accuracy: 0.0000e+00 - val_loss: 2.1409 - val_capsnet_loss: 0.4261 - val_decoder_loss: 3429.5681 - val_capsnet_accuracy: 0.3616 - val_decoder_accuracy: 0.0000e+00\n",
            "Epoch 5/50\n",
            "43/43 [==============================] - 15s 341ms/step - loss: 2.0942 - capsnet_loss: 0.4175 - decoder_loss: 3353.3174 - capsnet_accuracy: 0.3533 - decoder_accuracy: 0.0000e+00 - val_loss: 2.0927 - val_capsnet_loss: 0.3783 - val_decoder_loss: 3428.7520 - val_capsnet_accuracy: 0.4271 - val_decoder_accuracy: 0.0000e+00\n",
            "Epoch 6/50\n",
            "43/43 [==============================] - 15s 341ms/step - loss: 1.9962 - capsnet_loss: 0.3712 - decoder_loss: 3249.9220 - capsnet_accuracy: 0.4260 - decoder_accuracy: 0.0000e+00 - val_loss: 2.0568 - val_capsnet_loss: 0.3428 - val_decoder_loss: 3427.9363 - val_capsnet_accuracy: 0.4940 - val_decoder_accuracy: 0.0000e+00\n",
            "Epoch 7/50\n",
            "43/43 [==============================] - 14s 336ms/step - loss: 1.9911 - capsnet_loss: 0.3369 - decoder_loss: 3308.3549 - capsnet_accuracy: 0.4918 - decoder_accuracy: 0.0000e+00 - val_loss: 2.0214 - val_capsnet_loss: 0.3080 - val_decoder_loss: 3426.9055 - val_capsnet_accuracy: 0.5357 - val_decoder_accuracy: 0.0000e+00\n",
            "Epoch 8/50\n",
            "43/43 [==============================] - 15s 344ms/step - loss: 1.9286 - capsnet_loss: 0.3013 - decoder_loss: 3254.6161 - capsnet_accuracy: 0.5572 - decoder_accuracy: 0.0000e+00 - val_loss: 1.9915 - val_capsnet_loss: 0.2783 - val_decoder_loss: 3426.2529 - val_capsnet_accuracy: 0.5893 - val_decoder_accuracy: 0.0000e+00\n",
            "Epoch 9/50\n",
            "43/43 [==============================] - 15s 339ms/step - loss: 1.9373 - capsnet_loss: 0.2719 - decoder_loss: 3330.7760 - capsnet_accuracy: 0.6096 - decoder_accuracy: 0.0000e+00 - val_loss: 1.9665 - val_capsnet_loss: 0.2537 - val_decoder_loss: 3425.5547 - val_capsnet_accuracy: 0.6339 - val_decoder_accuracy: 0.0000e+00\n",
            "Epoch 10/50\n",
            "43/43 [==============================] - 14s 337ms/step - loss: 1.8943 - capsnet_loss: 0.2424 - decoder_loss: 3303.7676 - capsnet_accuracy: 0.6765 - decoder_accuracy: 0.0000e+00 - val_loss: 1.9425 - val_capsnet_loss: 0.2301 - val_decoder_loss: 3424.8274 - val_capsnet_accuracy: 0.6667 - val_decoder_accuracy: 0.0000e+00\n",
            "Epoch 11/50\n",
            "43/43 [==============================] - 14s 334ms/step - loss: 1.8197 - capsnet_loss: 0.2109 - decoder_loss: 3217.5185 - capsnet_accuracy: 0.7317 - decoder_accuracy: 0.0000e+00 - val_loss: 1.9188 - val_capsnet_loss: 0.2067 - val_decoder_loss: 3424.2019 - val_capsnet_accuracy: 0.7262 - val_decoder_accuracy: 0.0000e+00\n",
            "Epoch 12/50\n",
            "43/43 [==============================] - 15s 338ms/step - loss: 1.8475 - capsnet_loss: 0.1940 - decoder_loss: 3307.0031 - capsnet_accuracy: 0.7678 - decoder_accuracy: 0.0000e+00 - val_loss: 1.8985 - val_capsnet_loss: 0.1868 - val_decoder_loss: 3423.5420 - val_capsnet_accuracy: 0.7515 - val_decoder_accuracy: 0.0000e+00\n",
            "Epoch 13/50\n",
            "43/43 [==============================] - 15s 338ms/step - loss: 1.8357 - capsnet_loss: 0.1753 - decoder_loss: 3320.6439 - capsnet_accuracy: 0.7978 - decoder_accuracy: 0.0000e+00 - val_loss: 1.8797 - val_capsnet_loss: 0.1682 - val_decoder_loss: 3422.9822 - val_capsnet_accuracy: 0.7887 - val_decoder_accuracy: 0.0000e+00\n",
            "Epoch 14/50\n",
            "43/43 [==============================] - 14s 336ms/step - loss: 1.8188 - capsnet_loss: 0.1543 - decoder_loss: 3328.9166 - capsnet_accuracy: 0.8251 - decoder_accuracy: 0.0000e+00 - val_loss: 1.8642 - val_capsnet_loss: 0.1529 - val_decoder_loss: 3422.6675 - val_capsnet_accuracy: 0.8259 - val_decoder_accuracy: 0.0000e+00\n",
            "Epoch 15/50\n",
            "43/43 [==============================] - 14s 333ms/step - loss: 1.7882 - capsnet_loss: 0.1348 - decoder_loss: 3306.8952 - capsnet_accuracy: 0.8612 - decoder_accuracy: 0.0000e+00 - val_loss: 1.8550 - val_capsnet_loss: 0.1438 - val_decoder_loss: 3422.4375 - val_capsnet_accuracy: 0.8363 - val_decoder_accuracy: 0.0000e+00\n",
            "Epoch 16/50\n",
            "43/43 [==============================] - 14s 335ms/step - loss: 1.7892 - capsnet_loss: 0.1188 - decoder_loss: 3340.8491 - capsnet_accuracy: 0.8759 - decoder_accuracy: 0.0000e+00 - val_loss: 1.8391 - val_capsnet_loss: 0.1281 - val_decoder_loss: 3422.0405 - val_capsnet_accuracy: 0.8601 - val_decoder_accuracy: 0.0000e+00\n",
            "Epoch 17/50\n",
            "43/43 [==============================] - 14s 335ms/step - loss: 1.7395 - capsnet_loss: 0.1031 - decoder_loss: 3272.7367 - capsnet_accuracy: 0.9041 - decoder_accuracy: 0.0000e+00 - val_loss: 1.8334 - val_capsnet_loss: 0.1225 - val_decoder_loss: 3421.8132 - val_capsnet_accuracy: 0.8631 - val_decoder_accuracy: 0.0000e+00\n",
            "Epoch 18/50\n",
            "43/43 [==============================] - 14s 333ms/step - loss: 1.7453 - capsnet_loss: 0.0922 - decoder_loss: 3306.0594 - capsnet_accuracy: 0.9182 - decoder_accuracy: 0.0000e+00 - val_loss: 1.8180 - val_capsnet_loss: 0.1073 - val_decoder_loss: 3421.5325 - val_capsnet_accuracy: 0.8899 - val_decoder_accuracy: 0.0000e+00\n",
            "Epoch 19/50\n",
            "43/43 [==============================] - 14s 335ms/step - loss: 1.7977 - capsnet_loss: 0.0829 - decoder_loss: 3429.7157 - capsnet_accuracy: 0.9372 - decoder_accuracy: 0.0000e+00 - val_loss: 1.8120 - val_capsnet_loss: 0.1013 - val_decoder_loss: 3421.3723 - val_capsnet_accuracy: 0.8988 - val_decoder_accuracy: 0.0000e+00\n",
            "Epoch 20/50\n",
            "43/43 [==============================] - 14s 333ms/step - loss: 1.7677 - capsnet_loss: 0.0727 - decoder_loss: 3389.8960 - capsnet_accuracy: 0.9447 - decoder_accuracy: 0.0000e+00 - val_loss: 1.8054 - val_capsnet_loss: 0.0948 - val_decoder_loss: 3421.2849 - val_capsnet_accuracy: 0.9003 - val_decoder_accuracy: 0.0000e+00\n",
            "Epoch 21/50\n",
            "43/43 [==============================] - 14s 333ms/step - loss: 1.7048 - capsnet_loss: 0.0680 - decoder_loss: 3273.5265 - capsnet_accuracy: 0.9491 - decoder_accuracy: 0.0000e+00 - val_loss: 1.7983 - val_capsnet_loss: 0.0878 - val_decoder_loss: 3420.9517 - val_capsnet_accuracy: 0.9122 - val_decoder_accuracy: 0.0000e+00\n",
            "Epoch 22/50\n",
            "43/43 [==============================] - 14s 335ms/step - loss: 1.7141 - capsnet_loss: 0.0600 - decoder_loss: 3308.1469 - capsnet_accuracy: 0.9557 - decoder_accuracy: 0.0000e+00 - val_loss: 1.8020 - val_capsnet_loss: 0.0914 - val_decoder_loss: 3421.0903 - val_capsnet_accuracy: 0.9122 - val_decoder_accuracy: 0.0000e+00\n",
            "Epoch 23/50\n",
            "43/43 [==============================] - 14s 335ms/step - loss: 1.7074 - capsnet_loss: 0.0529 - decoder_loss: 3309.0113 - capsnet_accuracy: 0.9627 - decoder_accuracy: 0.0000e+00 - val_loss: 1.7950 - val_capsnet_loss: 0.0845 - val_decoder_loss: 3420.9482 - val_capsnet_accuracy: 0.9092 - val_decoder_accuracy: 0.0000e+00\n",
            "Epoch 24/50\n",
            "43/43 [==============================] - 14s 336ms/step - loss: 1.7002 - capsnet_loss: 0.0491 - decoder_loss: 3302.1785 - capsnet_accuracy: 0.9738 - decoder_accuracy: 0.0000e+00 - val_loss: 1.8002 - val_capsnet_loss: 0.0897 - val_decoder_loss: 3420.9844 - val_capsnet_accuracy: 0.9092 - val_decoder_accuracy: 0.0000e+00\n",
            "Epoch 25/50\n",
            "43/43 [==============================] - 14s 336ms/step - loss: 1.6687 - capsnet_loss: 0.0414 - decoder_loss: 3254.5589 - capsnet_accuracy: 0.9812 - decoder_accuracy: 0.0000e+00 - val_loss: 1.7856 - val_capsnet_loss: 0.0753 - val_decoder_loss: 3420.6692 - val_capsnet_accuracy: 0.9241 - val_decoder_accuracy: 0.0000e+00\n",
            "Epoch 26/50\n",
            "43/43 [==============================] - 14s 338ms/step - loss: 1.6991 - capsnet_loss: 0.0378 - decoder_loss: 3322.6266 - capsnet_accuracy: 0.9791 - decoder_accuracy: 0.0000e+00 - val_loss: 1.7804 - val_capsnet_loss: 0.0702 - val_decoder_loss: 3420.5723 - val_capsnet_accuracy: 0.9152 - val_decoder_accuracy: 0.0000e+00\n",
            "Epoch 27/50\n",
            "43/43 [==============================] - 14s 337ms/step - loss: 1.6737 - capsnet_loss: 0.0336 - decoder_loss: 3280.0481 - capsnet_accuracy: 0.9844 - decoder_accuracy: 0.0000e+00 - val_loss: 1.7809 - val_capsnet_loss: 0.0706 - val_decoder_loss: 3420.5481 - val_capsnet_accuracy: 0.9152 - val_decoder_accuracy: 0.0000e+00\n",
            "Epoch 28/50\n",
            "43/43 [==============================] - 14s 335ms/step - loss: 1.6671 - capsnet_loss: 0.0300 - decoder_loss: 3274.2382 - capsnet_accuracy: 0.9840 - decoder_accuracy: 0.0000e+00 - val_loss: 1.7803 - val_capsnet_loss: 0.0700 - val_decoder_loss: 3420.5481 - val_capsnet_accuracy: 0.9196 - val_decoder_accuracy: 0.0000e+00\n",
            "Epoch 29/50\n",
            "43/43 [==============================] - 14s 336ms/step - loss: 1.6946 - capsnet_loss: 0.0268 - decoder_loss: 3335.5074 - capsnet_accuracy: 0.9887 - decoder_accuracy: 0.0000e+00 - val_loss: 1.7771 - val_capsnet_loss: 0.0670 - val_decoder_loss: 3420.3474 - val_capsnet_accuracy: 0.9286 - val_decoder_accuracy: 0.0000e+00\n",
            "Epoch 30/50\n",
            "43/43 [==============================] - 14s 335ms/step - loss: 1.6596 - capsnet_loss: 0.0258 - decoder_loss: 3267.6487 - capsnet_accuracy: 0.9877 - decoder_accuracy: 0.0000e+00 - val_loss: 1.7738 - val_capsnet_loss: 0.0636 - val_decoder_loss: 3420.3794 - val_capsnet_accuracy: 0.9226 - val_decoder_accuracy: 0.0000e+00\n",
            "Epoch 31/50\n",
            "43/43 [==============================] - 15s 338ms/step - loss: 1.6778 - capsnet_loss: 0.0215 - decoder_loss: 3312.5306 - capsnet_accuracy: 0.9892 - decoder_accuracy: 0.0000e+00 - val_loss: 1.7729 - val_capsnet_loss: 0.0628 - val_decoder_loss: 3420.3215 - val_capsnet_accuracy: 0.9196 - val_decoder_accuracy: 0.0000e+00\n",
            "Epoch 32/50\n",
            "43/43 [==============================] - 14s 333ms/step - loss: 1.6869 - capsnet_loss: 0.0192 - decoder_loss: 3335.3403 - capsnet_accuracy: 0.9934 - decoder_accuracy: 0.0000e+00 - val_loss: 1.7741 - val_capsnet_loss: 0.0639 - val_decoder_loss: 3420.3738 - val_capsnet_accuracy: 0.9211 - val_decoder_accuracy: 0.0000e+00\n",
            "Epoch 33/50\n",
            "43/43 [==============================] - 14s 336ms/step - loss: 1.6634 - capsnet_loss: 0.0174 - decoder_loss: 3292.0144 - capsnet_accuracy: 0.9965 - decoder_accuracy: 0.0000e+00 - val_loss: 1.7794 - val_capsnet_loss: 0.0692 - val_decoder_loss: 3420.3887 - val_capsnet_accuracy: 0.9211 - val_decoder_accuracy: 0.0000e+00\n",
            "Epoch 34/50\n",
            "43/43 [==============================] - 15s 341ms/step - loss: 1.6694 - capsnet_loss: 0.0159 - decoder_loss: 3307.0158 - capsnet_accuracy: 0.9968 - decoder_accuracy: 0.0000e+00 - val_loss: 1.7669 - val_capsnet_loss: 0.0568 - val_decoder_loss: 3420.1570 - val_capsnet_accuracy: 0.9360 - val_decoder_accuracy: 0.0000e+00\n",
            "Epoch 35/50\n",
            "43/43 [==============================] - 15s 344ms/step - loss: 1.6764 - capsnet_loss: 0.0157 - decoder_loss: 3321.3601 - capsnet_accuracy: 0.9961 - decoder_accuracy: 0.0000e+00 - val_loss: 1.7711 - val_capsnet_loss: 0.0610 - val_decoder_loss: 3420.2473 - val_capsnet_accuracy: 0.9241 - val_decoder_accuracy: 0.0000e+00\n",
            "Epoch 36/50\n",
            "43/43 [==============================] - 15s 339ms/step - loss: 1.6603 - capsnet_loss: 0.0125 - decoder_loss: 3295.6446 - capsnet_accuracy: 0.9988 - decoder_accuracy: 0.0000e+00 - val_loss: 1.7659 - val_capsnet_loss: 0.0559 - val_decoder_loss: 3420.1760 - val_capsnet_accuracy: 0.9360 - val_decoder_accuracy: 0.0000e+00\n",
            "Epoch 37/50\n",
            "43/43 [==============================] - 15s 345ms/step - loss: 1.7016 - capsnet_loss: 0.0110 - decoder_loss: 3381.0516 - capsnet_accuracy: 0.9990 - decoder_accuracy: 0.0000e+00 - val_loss: 1.7674 - val_capsnet_loss: 0.0573 - val_decoder_loss: 3420.1738 - val_capsnet_accuracy: 0.9271 - val_decoder_accuracy: 0.0000e+00\n",
            "Epoch 38/50\n",
            "43/43 [==============================] - 15s 344ms/step - loss: 1.6691 - capsnet_loss: 0.0104 - decoder_loss: 3317.3961 - capsnet_accuracy: 0.9984 - decoder_accuracy: 0.0000e+00 - val_loss: 1.7652 - val_capsnet_loss: 0.0551 - val_decoder_loss: 3420.1284 - val_capsnet_accuracy: 0.9256 - val_decoder_accuracy: 0.0000e+00\n",
            "Epoch 39/50\n",
            "43/43 [==============================] - 15s 342ms/step - loss: 1.6781 - capsnet_loss: 0.0099 - decoder_loss: 3336.3613 - capsnet_accuracy: 0.9973 - decoder_accuracy: 0.0000e+00 - val_loss: 1.7659 - val_capsnet_loss: 0.0558 - val_decoder_loss: 3420.0200 - val_capsnet_accuracy: 0.9420 - val_decoder_accuracy: 0.0000e+00\n",
            "Epoch 40/50\n",
            "43/43 [==============================] - 15s 343ms/step - loss: 1.6425 - capsnet_loss: 0.0106 - decoder_loss: 3263.8990 - capsnet_accuracy: 0.9997 - decoder_accuracy: 0.0000e+00 - val_loss: 1.7681 - val_capsnet_loss: 0.0580 - val_decoder_loss: 3420.1350 - val_capsnet_accuracy: 0.9330 - val_decoder_accuracy: 0.0000e+00\n",
            "Epoch 41/50\n",
            "43/43 [==============================] - 15s 348ms/step - loss: 1.6794 - capsnet_loss: 0.0079 - decoder_loss: 3343.0150 - capsnet_accuracy: 0.9993 - decoder_accuracy: 0.0000e+00 - val_loss: 1.7673 - val_capsnet_loss: 0.0573 - val_decoder_loss: 3420.1128 - val_capsnet_accuracy: 0.9301 - val_decoder_accuracy: 0.0000e+00\n",
            "Epoch 42/50\n",
            "43/43 [==============================] - 15s 352ms/step - loss: 1.6872 - capsnet_loss: 0.0061 - decoder_loss: 3362.2502 - capsnet_accuracy: 0.9997 - decoder_accuracy: 0.0000e+00 - val_loss: 1.7662 - val_capsnet_loss: 0.0561 - val_decoder_loss: 3420.1021 - val_capsnet_accuracy: 0.9345 - val_decoder_accuracy: 0.0000e+00\n",
            "Epoch 43/50\n",
            "43/43 [==============================] - 15s 352ms/step - loss: 1.6467 - capsnet_loss: 0.0062 - decoder_loss: 3281.0659 - capsnet_accuracy: 0.9997 - decoder_accuracy: 0.0000e+00 - val_loss: 1.7751 - val_capsnet_loss: 0.0650 - val_decoder_loss: 3420.1819 - val_capsnet_accuracy: 0.9271 - val_decoder_accuracy: 0.0000e+00\n",
            "Epoch 44/50\n",
            "43/43 [==============================] - 15s 343ms/step - loss: 1.7279 - capsnet_loss: 0.0099 - decoder_loss: 3435.8884 - capsnet_accuracy: 0.9996 - decoder_accuracy: 0.0000e+00 - val_loss: 1.7701 - val_capsnet_loss: 0.0600 - val_decoder_loss: 3420.0825 - val_capsnet_accuracy: 0.9390 - val_decoder_accuracy: 0.0000e+00\n",
            "Epoch 45/50\n",
            "43/43 [==============================] - 15s 347ms/step - loss: 1.6552 - capsnet_loss: 0.0072 - decoder_loss: 3296.0184 - capsnet_accuracy: 0.9999 - decoder_accuracy: 0.0000e+00 - val_loss: 1.7629 - val_capsnet_loss: 0.0529 - val_decoder_loss: 3419.9973 - val_capsnet_accuracy: 0.9375 - val_decoder_accuracy: 0.0000e+00\n",
            "Epoch 46/50\n",
            "43/43 [==============================] - 15s 346ms/step - loss: 1.6661 - capsnet_loss: 0.0043 - decoder_loss: 3323.6029 - capsnet_accuracy: 1.0000 - decoder_accuracy: 0.0000e+00 - val_loss: 1.7644 - val_capsnet_loss: 0.0544 - val_decoder_loss: 3420.0439 - val_capsnet_accuracy: 0.9405 - val_decoder_accuracy: 0.0000e+00\n",
            "Epoch 47/50\n",
            "43/43 [==============================] - 15s 349ms/step - loss: 1.6682 - capsnet_loss: 0.0038 - decoder_loss: 3328.7119 - capsnet_accuracy: 1.0000 - decoder_accuracy: 0.0000e+00 - val_loss: 1.7643 - val_capsnet_loss: 0.0543 - val_decoder_loss: 3420.0161 - val_capsnet_accuracy: 0.9315 - val_decoder_accuracy: 0.0000e+00\n",
            "Epoch 48/50\n",
            "43/43 [==============================] - 15s 340ms/step - loss: 1.6548 - capsnet_loss: 0.0041 - decoder_loss: 3301.4409 - capsnet_accuracy: 1.0000 - decoder_accuracy: 0.0000e+00 - val_loss: 1.7640 - val_capsnet_loss: 0.0541 - val_decoder_loss: 3419.9363 - val_capsnet_accuracy: 0.9360 - val_decoder_accuracy: 0.0000e+00\n",
            "Epoch 49/50\n",
            "43/43 [==============================] - 15s 347ms/step - loss: 1.6653 - capsnet_loss: 0.0043 - decoder_loss: 3322.0731 - capsnet_accuracy: 1.0000 - decoder_accuracy: 0.0000e+00 - val_loss: 1.7625 - val_capsnet_loss: 0.0525 - val_decoder_loss: 3419.9829 - val_capsnet_accuracy: 0.9345 - val_decoder_accuracy: 0.0000e+00\n",
            "Epoch 50/50\n",
            "43/43 [==============================] - 15s 343ms/step - loss: 1.6707 - capsnet_loss: 0.0035 - decoder_loss: 3334.3663 - capsnet_accuracy: 1.0000 - decoder_accuracy: 0.0000e+00 - val_loss: 1.7607 - val_capsnet_loss: 0.0507 - val_decoder_loss: 3419.9502 - val_capsnet_accuracy: 0.9360 - val_decoder_accuracy: 0.0000e+00\n",
            "__________\n",
            "Time Took: 0:12:12.505183\n"
          ],
          "name": "stdout"
        }
      ]
    },
    {
      "cell_type": "code",
      "metadata": {
        "id": "JuhYDg4UB_YZ"
      },
      "source": [
        "import matplotlib.pyplot as plt"
      ],
      "execution_count": null,
      "outputs": []
    },
    {
      "cell_type": "code",
      "metadata": {
        "id": "eH_jRiuwMsr7"
      },
      "source": [
        "a=hist.history"
      ],
      "execution_count": null,
      "outputs": []
    },
    {
      "cell_type": "code",
      "metadata": {
        "cellView": "form",
        "id": "h7QXpEwUhMKh"
      },
      "source": [
        "#@title\n"
      ],
      "execution_count": null,
      "outputs": []
    },
    {
      "cell_type": "code",
      "metadata": {
        "id": "gxgxpchjNJ1r",
        "cellView": "form"
      },
      "source": [
        "#@title\n",
        "##import pickle\n",
        "# pickle.dump(a,open('/content/drive/MyDrive/Capsule Nets/history SAVEE.p','wb'))"
      ],
      "execution_count": null,
      "outputs": []
    },
    {
      "cell_type": "markdown",
      "metadata": {
        "id": "5s2NWE7UhPLe"
      },
      "source": [
        "3.6 Loss & Accuracy Curves"
      ]
    },
    {
      "cell_type": "code",
      "metadata": {
        "colab": {
          "base_uri": "https://localhost:8080/",
          "height": 653
        },
        "id": "CKGFjE16Bs1_",
        "outputId": "d593921e-5b07-4438-987b-b243410e0f7e"
      },
      "source": [
        "  # Loss Curves\n",
        "history = hist\n",
        "plt.figure(figsize=(25, 10))\n",
        "plt.subplot(1, 2, 1)\n",
        "plt.plot(history.history['loss'],'-g',linewidth=1.0)\n",
        "plt.plot(history.history['val_loss'],'r',linewidth=1.0)\n",
        "plt.legend(['Training loss', 'Validation Loss'],fontsize=14)\n",
        "plt.xlabel('Epochs ',fontsize=16)\n",
        "plt.ylabel('Loss',fontsize=16)\n",
        "plt.title('Loss Curves SAVEE Dataset',fontsize=22)\n",
        "plt.savefig('Loss_curves.png')\n",
        "# Accuracy Curves\n",
        "plt.subplot(1, 2, 2)\n",
        "plt.plot(history.history['capsnet_accuracy'],'-g',linewidth=1.0)\n",
        "plt.plot(history.history['val_capsnet_accuracy'],'r',linewidth=1.0)\n",
        "plt.legend(['Training Accuracy', 'Validation Accuracy'],fontsize=14)\n",
        "plt.xlabel('Epochs ',fontsize=16)\n",
        "\n",
        "plt.ylabel('Accuracy',fontsize=16)\n",
        "plt.title('Accuracy Curves for SAVEE Dataset',fontsize=22)\n",
        "plt.savefig('Accuracy_curves.png')\n",
        "plt.show()"
      ],
      "execution_count": null,
      "outputs": [
        {
          "output_type": "display_data",
          "data": {
            "image/png": "[encoded data removed]",
            "text/plain": [
              "<Figure size 1800x720 with 2 Axes>"
            ]
          },
          "metadata": {
            "tags": [],
            "needs_background": "light"
          }
        }
      ]
    },
    {
      "cell_type": "code",
      "metadata": {
        "id": "CPlcmUxLCUVE"
      },
      "source": [
        "abc = np.zeros(np.shape(y_test))"
      ],
      "execution_count": null,
      "outputs": []
    },
    {
      "cell_type": "markdown",
      "metadata": {
        "id": "pSAVgRMphX-D"
      },
      "source": [
        "3.7 Model Prediction"
      ]
    },
    {
      "cell_type": "code",
      "metadata": {
        "id": "JmoTn7mT6Fve"
      },
      "source": [
        "y_pred, x_recon = model.predict([x_test,abc], batch_size=100)"
      ],
      "execution_count": null,
      "outputs": []
    },
    {
      "cell_type": "code",
      "metadata": {
        "id": "CH4VuAMn9KwG",
        "colab": {
          "base_uri": "https://localhost:8080/"
        },
        "outputId": "8ca0fd69-4ad2-4cd9-8c0a-1bb4ca2294a0"
      },
      "source": [
        "y2,x2 = model.predict([x_train[0:2],np.array([0,0])])"
      ],
      "execution_count": null,
      "outputs": [
        {
          "output_type": "stream",
          "text": [
            "WARNING:tensorflow:Model was constructed with shape (None, 7) for input KerasTensor(type_spec=TensorSpec(shape=(None, 7), dtype=tf.float32, name='input_8'), name='input_8', description=\"created by layer 'input_8'\"), but it was called on an input with incompatible shape (None, 1).\n"
          ],
          "name": "stdout"
        }
      ]
    },
    {
      "cell_type": "markdown",
      "metadata": {
        "id": "ucUspuLBhiIY"
      },
      "source": [
        "# **4. Code ends here**"
      ]
    },
    {
      "cell_type": "code",
      "metadata": {
        "id": "uGT4EyAGniUB",
        "cellView": "form"
      },
      "source": [
        "#@title\n",
        "# model.save('/content/drive/MyDrive/Capsule Nets/mfcc/SAVEE model.h5')"
      ],
      "execution_count": null,
      "outputs": []
    },
    {
      "cell_type": "code",
      "metadata": {
        "id": "mYkAjJ6u-wRX",
        "cellView": "form"
      },
      "source": [
        "#@title\n",
        "y_train[0:2]"
      ],
      "execution_count": null,
      "outputs": []
    },
    {
      "cell_type": "code",
      "metadata": {
        "id": "Eix5_LJn-kb-",
        "cellView": "form"
      },
      "source": [
        "#@title\n",
        "y2.round(2)"
      ],
      "execution_count": null,
      "outputs": []
    },
    {
      "cell_type": "code",
      "metadata": {
        "id": "EZTZyW3b8OQz",
        "cellView": "form"
      },
      "source": [
        "#@title\n",
        "print('Test acc:', np.sum(np.argmax(y_pred, 1) == np.argmax(y_test, 1))/y_test.shape[0])"
      ],
      "execution_count": null,
      "outputs": []
    },
    {
      "cell_type": "code",
      "metadata": {
        "id": "q5Hjk1dN__Ji",
        "cellView": "form"
      },
      "source": [
        "#@title\n",
        "d1 = []\n",
        "for i in range(7):\n",
        "  for j in d:\n",
        "    if d[j] == i:\n",
        "      d1.append(j)\n",
        "d1\n"
      ],
      "execution_count": null,
      "outputs": []
    },
    {
      "cell_type": "code",
      "metadata": {
        "id": "y392h3tBQKNp",
        "cellView": "form"
      },
      "source": [
        "#@title\n",
        "from sklearn.metrics import multilabel_confusion_matrix\n",
        "from sklearn.metrics import confusion_matrix\n",
        "from sklearn.metrics import plot_confusion_matrix"
      ],
      "execution_count": null,
      "outputs": []
    },
    {
      "cell_type": "code",
      "metadata": {
        "id": "hqpeaV2LDlez",
        "cellView": "form"
      },
      "source": [
        "#@title\n",
        "em = ['n', 'h', 'a', 'd', 'su', 'f', 'sa']"
      ],
      "execution_count": null,
      "outputs": []
    },
    {
      "cell_type": "code",
      "metadata": {
        "id": "lwVQ4arEEnKh",
        "cellView": "form"
      },
      "source": [
        "#@title\n",
        "y_test_em = []\n",
        "for i in range(len(y_test)):\n",
        "  a = list(y_test[i])\n",
        "  y_test_em.append(em[a.index(max(a))])"
      ],
      "execution_count": null,
      "outputs": []
    },
    {
      "cell_type": "code",
      "metadata": {
        "id": "HkyL-ga9EcOF",
        "cellView": "form"
      },
      "source": [
        "#@title\n",
        "pred_em = []\n",
        "for i in range(len(y_pred)):\n",
        "  a = list(y_pred[i])\n",
        "  pred_em.append(em[a.index(max(a))])"
      ],
      "execution_count": null,
      "outputs": []
    },
    {
      "cell_type": "code",
      "metadata": {
        "id": "RIxrvcPzQLpW",
        "cellView": "form"
      },
      "source": [
        "#@title\n",
        "multilabel_confusion_matrix(y_test_em, pred_em,labels=['n', 'h', 'a', 'd', 'su', 'f', 'sa'])"
      ],
      "execution_count": null,
      "outputs": []
    },
    {
      "cell_type": "code",
      "metadata": {
        "id": "4NoFzhBcUbU_",
        "cellView": "form"
      },
      "source": [
        "#@title\n",
        "np.shape(y_test_em)"
      ],
      "execution_count": null,
      "outputs": []
    },
    {
      "cell_type": "code",
      "metadata": {
        "id": "AC_zVOMDUCGd",
        "cellView": "form"
      },
      "source": [
        "#@title\n",
        "res = confusion_matrix(y_test_em, pred_em,labels=['n', 'h', 'a', 'd', 'su', 'f', 'sa'])"
      ],
      "execution_count": null,
      "outputs": []
    },
    {
      "cell_type": "code",
      "metadata": {
        "id": "5dDn6dgCWHVT",
        "cellView": "form"
      },
      "source": [
        "#@title\n",
        "res"
      ],
      "execution_count": null,
      "outputs": []
    },
    {
      "cell_type": "code",
      "metadata": {
        "id": "Dlbie5RMHSGO",
        "cellView": "form"
      },
      "source": [
        "#@title\n",
        "res1=list(res)"
      ],
      "execution_count": null,
      "outputs": []
    },
    {
      "cell_type": "code",
      "metadata": {
        "id": "vKXGvlTmHgsr",
        "cellView": "form"
      },
      "source": [
        "#@title\n",
        "res"
      ],
      "execution_count": null,
      "outputs": []
    },
    {
      "cell_type": "code",
      "metadata": {
        "id": "9EX9dcJjG60J",
        "cellView": "form"
      },
      "source": [
        "#@title\n",
        "l= []\n",
        "for i in range(7):\n",
        "  l.append(np.sum(res1[i]))"
      ],
      "execution_count": null,
      "outputs": []
    },
    {
      "cell_type": "code",
      "metadata": {
        "id": "_Z05MAArH1oa",
        "cellView": "form"
      },
      "source": [
        "#@title\n",
        "l = np.array(l).reshape(7,1)"
      ],
      "execution_count": null,
      "outputs": []
    },
    {
      "cell_type": "code",
      "metadata": {
        "id": "tyl39YYRH7ZS",
        "cellView": "form"
      },
      "source": [
        "#@title\n",
        "res = (res/l).round(2)"
      ],
      "execution_count": null,
      "outputs": []
    },
    {
      "cell_type": "code",
      "metadata": {
        "id": "pNrJQiIbW8mE",
        "cellView": "form"
      },
      "source": [
        "#@title\n",
        "import pandas as pd\n",
        "res = pd.DataFrame(res,index = ['NEU', 'HAP', 'ANG', 'DIS', 'SUR', 'FEA', 'SAD'],columns = ['NEU', 'HAP', 'ANG', 'DIS', 'SUR', 'FEA', 'SAD'])"
      ],
      "execution_count": null,
      "outputs": []
    },
    {
      "cell_type": "code",
      "metadata": {
        "id": "Olh8ovHgIGpi",
        "cellView": "form"
      },
      "source": [
        "#@title\n",
        "res.to_csv('Confusion_matrix.csv',index=False)"
      ],
      "execution_count": null,
      "outputs": []
    },
    {
      "cell_type": "code",
      "metadata": {
        "id": "boKootzpYF_L",
        "cellView": "form"
      },
      "source": [
        "#@title\n",
        "import seaborn as sns\n",
        "import matplotlib.pyplot as plt"
      ],
      "execution_count": null,
      "outputs": []
    },
    {
      "cell_type": "code",
      "metadata": {
        "id": "mjCo9IQyVrhH",
        "cellView": "form"
      },
      "source": [
        "#@title\n",
        "fig, ax = plt.subplots(figsize=(15,10))  \n",
        "fi = sns.heatmap(res, annot=True ,ax=ax,fmt='g' )\n",
        "fi = fi.get_figure()\n",
        "fi.savefig('out.png')"
      ],
      "execution_count": null,
      "outputs": []
    },
    {
      "cell_type": "code",
      "metadata": {
        "id": "WZmtCC80N-aU",
        "cellView": "form"
      },
      "source": [
        "#@title\n",
        "from sklearn.metrics import f1_score"
      ],
      "execution_count": null,
      "outputs": []
    },
    {
      "cell_type": "code",
      "metadata": {
        "id": "3ZJ38YXWN_Ng",
        "cellView": "form"
      },
      "source": [
        "#@title\n",
        "f1_score(y_test_em, pred_em,labels=['n', 'h', 'a', 'd', 'su', 'f', 'sa'],average='weighted')"
      ],
      "execution_count": null,
      "outputs": []
    },
    {
      "cell_type": "code",
      "metadata": {
        "id": "VBgU63X3N_IT",
        "cellView": "form"
      },
      "source": [
        "#@title\n",
        "res1 = np.array(res1)"
      ],
      "execution_count": null,
      "outputs": []
    },
    {
      "cell_type": "code",
      "metadata": {
        "id": "vLPwlFTMP_7M",
        "cellView": "form"
      },
      "source": [
        "#@title\n",
        "s=0\n",
        "for i in range(7):\n",
        "  for j in range(i+1):\n",
        "    s = s + res1[i][j]\n",
        "t = 0\n",
        "for i in range(7):\n",
        "  t = t + res1[i][i]\n",
        "t"
      ],
      "execution_count": null,
      "outputs": []
    },
    {
      "cell_type": "code",
      "metadata": {
        "id": "LdpMcyTJQRGb",
        "cellView": "form"
      },
      "source": [
        "#@title\n",
        "s1=0\n",
        "for i in range(7):\n",
        "  for j in range(i,7):\n",
        "    s1 = s1 + res1[i][j]\n",
        "s1"
      ],
      "execution_count": null,
      "outputs": []
    },
    {
      "cell_type": "code",
      "metadata": {
        "id": "CSo42yTeRPIk",
        "cellView": "form"
      },
      "source": [
        "#@title\n",
        "prec = t/s1\n",
        "rec = t/s"
      ],
      "execution_count": null,
      "outputs": []
    },
    {
      "cell_type": "code",
      "metadata": {
        "id": "JqGwc7TwRUQP",
        "cellView": "form"
      },
      "source": [
        "#@title\n",
        "print(\"F1 Score is \",(2*prec*rec)/(rec+prec))"
      ],
      "execution_count": null,
      "outputs": []
    },
    {
      "cell_type": "code",
      "metadata": {
        "id": "pzDa4RpuRC9g",
        "cellView": "form"
      },
      "source": [
        "#@title\n",
        "print('Recall is',t/s1)"
      ],
      "execution_count": null,
      "outputs": []
    },
    {
      "cell_type": "code",
      "metadata": {
        "id": "dmG_UggzQcNi",
        "cellView": "form"
      },
      "source": [
        "#@title\n",
        "print('Presision is ',t/s)"
      ],
      "execution_count": null,
      "outputs": []
    }
  ]
}