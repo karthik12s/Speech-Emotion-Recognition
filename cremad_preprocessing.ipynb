{
  "nbformat": 4,
  "nbformat_minor": 0,
  "metadata": {
    "accelerator": "GPU",
    "colab": {
      "name": "cremad_preprocessing.ipynb",
      "provenance": [],
      "collapsed_sections": [],
      "mount_file_id": "1nsSIQJq7e-kwSWlMeyRclgyUumvGhKMS",
      "authorship_tag": "ABX9TyNkXuHjs58bx8tPeHAvmUFv",
      "include_colab_link": true
    },
    "kernelspec": {
      "display_name": "Python 3",
      "name": "python3"
    },
    "language_info": {
      "name": "python"
    }
  },
  "cells": [
    {
      "cell_type": "markdown",
      "metadata": {
        "id": "view-in-github",
        "colab_type": "text"
      },
      "source": [
        "<a href=\"https://colab.research.google.com/github/karthik12s/Speech-Emotion-Recognition/blob/main/cremad_preprocessing.ipynb\" target=\"_parent\"><img src=\"https://colab.research.google.com/assets/colab-badge.svg\" alt=\"Open In Colab\"/></a>"
      ]
    },
    {
      "cell_type": "markdown",
      "metadata": {
        "id": "vt-2sDyYJKof"
      },
      "source": [
        "# **Speech Emotion Recognition On Crema D Dataset**"
      ]
    },
    {
      "cell_type": "markdown",
      "metadata": {
        "id": "Yb_HzTnyJVj8"
      },
      "source": [
        "# **1. Downloading Dataset**"
      ]
    },
    {
      "cell_type": "markdown",
      "metadata": {
        "id": "gIJuQeSiJ3eL"
      },
      "source": [
        "Connecting Google Colab with Kaggle in order to to download the data from kaggle."
      ]
    },
    {
      "cell_type": "code",
      "metadata": {
        "colab": {
          "background_save": true
        },
        "id": "2kDLPSxWyr8H"
      },
      "source": [
        "# Run this cell and select the kaggle.json file downloaded\n",
        "# from the Kaggle account settings page.\n",
        "from google.colab import files\n",
        "files.upload()"
      ],
      "execution_count": null,
      "outputs": []
    },
    {
      "cell_type": "code",
      "metadata": {
        "colab": {
          "background_save": true
        },
        "id": "DUvgBc7my0p1"
      },
      "source": [
        "!ls -lha kaggle.json"
      ],
      "execution_count": null,
      "outputs": []
    },
    {
      "cell_type": "code",
      "metadata": {
        "colab": {
          "background_save": true
        },
        "id": "ZlyHtQuAy8SI"
      },
      "source": [
        "!pip install -q kaggle"
      ],
      "execution_count": null,
      "outputs": []
    },
    {
      "cell_type": "code",
      "metadata": {
        "colab": {
          "background_save": true
        },
        "id": "UQ-ro2nLy-vr"
      },
      "source": [
        "# The Kaggle API client expects this file to be in ~/.kaggle,\n",
        "# so move it there.\n",
        "!mkdir -p ~/.kaggle\n",
        "!cp kaggle.json ~/.kaggle/\n",
        "\n",
        "# This permissions change avoids a warning on Kaggle tool startup.\n",
        "!chmod 600 ~/.kaggle/kaggle.json"
      ],
      "execution_count": null,
      "outputs": []
    },
    {
      "cell_type": "code",
      "metadata": {
        "colab": {
          "background_save": true
        },
        "id": "3HTBTnYlzUeb"
      },
      "source": [
        "!kaggle datasets list "
      ],
      "execution_count": null,
      "outputs": []
    },
    {
      "cell_type": "code",
      "metadata": {
        "colab": {
          "background_save": true
        },
        "id": "r-tFcNldzY6R"
      },
      "source": [
        "!kaggle datasets download -d ejlok1/cremad"
      ],
      "execution_count": null,
      "outputs": []
    },
    {
      "cell_type": "code",
      "metadata": {
        "colab": {
          "background_save": true
        },
        "id": "FnJvJ8nJzlUW"
      },
      "source": [
        "!unzip \\*.zip"
      ],
      "execution_count": null,
      "outputs": []
    },
    {
      "cell_type": "markdown",
      "metadata": {
        "id": "vPb2vifTJmuj"
      },
      "source": [
        "# **2. Preprocessing Data**"
      ]
    },
    {
      "cell_type": "code",
      "metadata": {
        "colab": {
          "background_save": true
        },
        "id": "39LKEJV-z-yw"
      },
      "source": [
        "import glob\n",
        "import librosa\n",
        "import numpy as np\n",
        "import matplotlib.pyplot as plt\n",
        "from sklearn.preprocessing import StandardScaler, OneHotEncoder\n",
        "from sklearn.metrics import confusion_matrix, classification_report\n",
        "from sklearn.model_selection import train_test_split"
      ],
      "execution_count": null,
      "outputs": []
    },
    {
      "cell_type": "markdown",
      "metadata": {
        "id": "V55Nl9OLKcYa"
      },
      "source": [
        "2.2 Padding the audio files"
      ]
    },
    {
      "cell_type": "markdown",
      "metadata": {
        "id": "TCTWTX_yKljj"
      },
      "source": [
        "2.1 Loading all the .wav files and their corresponding labels "
      ]
    },
    {
      "cell_type": "code",
      "metadata": {
        "id": "EOv_VZfU1uzg"
      },
      "source": [
        "features = []\n",
        "labels = []\n",
        "a = glob.glob('/content/AudioWAV/*.wav')\n",
        "for i in range(len(a)):\n",
        "  s , sr = librosa.core.load(a[i])\n",
        "  features.append(s)\n",
        "  labels.append(a[i].split('_')[-2])"
      ],
      "execution_count": null,
      "outputs": []
    },
    {
      "cell_type": "code",
      "metadata": {
        "colab": {
          "background_save": true
        },
        "id": "ng66eFrk0Ecf"
      },
      "source": [
        "def pad_len(y,win_length = 90000):\n",
        "  if y.shape[0] < win_length:\n",
        "      ret_data = np.concatenate((y, np.zeros((win_length-y.shape[0],))), axis=0)\n",
        "  else:\n",
        "      ret_data = y[:win_length]\n",
        "  return ret_data"
      ],
      "execution_count": null,
      "outputs": []
    },
    {
      "cell_type": "markdown",
      "metadata": {
        "id": "mlKzHJNQLEed"
      },
      "source": [
        "2.3 Data Augumentation using\n",
        "\n",
        "\n",
        "1.   Pitch\n",
        "2.   Stretch\n",
        "3.   Noise\n",
        "4.   Time shifting\n",
        "5.   Lowering Speed\n",
        "6.   Increasing Speed\n",
        "\n"
      ]
    },
    {
      "cell_type": "code",
      "metadata": {
        "id": "1jiKB6yU26Q2"
      },
      "source": [
        "def pitch(data, sampling_rate, pitch_factor=0.8):\n",
        "    return librosa.effects.pitch_shift(data, sampling_rate, pitch_factor)\n",
        "\n",
        "def stretch(data, rate=0.70):\n",
        "    return librosa.effects.time_stretch(data, rate)\n",
        "\n",
        "def noise(data):\n",
        "    noise_amp = 0.04*np.random.uniform()*np.amax(data)\n",
        "    data = data + noise_amp*np.random.normal(size=data.shape[0])\n",
        "    return data\n",
        "\n",
        "def shift(data):\n",
        "    shift_range = int(np.random.uniform(low=-5, high = 5)*1000)\n",
        "    return np.roll(data, shift_range)\n",
        "\n",
        "def lower_speed(data, speed_factor = 0.75):\n",
        "    return librosa.effects.time_stretch(data, speed_factor)\n",
        "\n",
        "def higher_speed(data, speed_factor = 1.25):\n",
        "    return librosa.effects.time_stretch(data, speed_factor)"
      ],
      "execution_count": null,
      "outputs": []
    },
    {
      "cell_type": "markdown",
      "metadata": {
        "id": "cVwcsClOLi_r"
      },
      "source": [
        "2.4 Feature Extraction"
      ]
    },
    {
      "cell_type": "code",
      "metadata": {
        "id": "J6DNJGLL3YpX"
      },
      "source": [
        "def extract_features(data):\n",
        "    \n",
        "    result = np.array([])\n",
        "    mfccs = librosa.feature.mfcc(y=data, sr=22050, n_mfcc=58)\n",
        "    mfccs_processed = np.mean(mfccs.T,axis=0)\n",
        "    result = np.array(mfccs_processed)\n",
        "     \n",
        "    return result"
      ],
      "execution_count": null,
      "outputs": []
    },
    {
      "cell_type": "code",
      "metadata": {
        "id": "cqztaGxK3bOK"
      },
      "source": [
        "def get_features(data):\n",
        "\n",
        "    #without augmentation\n",
        "    res1 = extract_features(data)\n",
        "    result = np.array(res1)\n",
        "    \n",
        "    #noised\n",
        "    noise_data = noise(data)\n",
        "    res2 = extract_features(noise_data)\n",
        "    result = np.vstack((result, res2)) # stacking vertically\n",
        "    #stretched\n",
        "    stretch_data = stretch(data)\n",
        "    res3 = extract_features(stretch_data)\n",
        "    result = np.vstack((result, res3))\n",
        "    #shifted\n",
        "    shift_data = shift(data)\n",
        "    res4 = extract_features(shift_data)\n",
        "    result = np.vstack((result, res4))\n",
        "    #pitched\n",
        "    pitch_data = pitch(data, sample_rate)\n",
        "    res5 = extract_features(pitch_data)\n",
        "    result = np.vstack((result, res5)) \n",
        "    #speed up\n",
        "    higher_speed_data = higher_speed(data)\n",
        "    res6 = extract_features(higher_speed_data)\n",
        "    result = np.vstack((result, res6))\n",
        "    #speed down\n",
        "    lower_speed_data = higher_speed(data)\n",
        "    res7 = extract_features(lower_speed_data)\n",
        "    result = np.vstack((result, res7))\n",
        "    \n",
        "    return result"
      ],
      "execution_count": null,
      "outputs": []
    },
    {
      "cell_type": "code",
      "metadata": {
        "id": "lu-ovar43Ru_"
      },
      "source": [
        "sample_rate = 22050\n",
        "features1 = []\n",
        "for i in features:\n",
        "  features1.append(get_features(i))    "
      ],
      "execution_count": null,
      "outputs": []
    },
    {
      "cell_type": "code",
      "metadata": {
        "id": "tmSpI5Mb7LJO"
      },
      "source": [
        "X = []\n",
        "Y = []\n",
        "for i in range(len(features1)):\n",
        "  for j in features1[i]:\n",
        "    X.append(j)\n",
        "    Y.append(labels[i])"
      ],
      "execution_count": null,
      "outputs": []
    },
    {
      "cell_type": "code",
      "metadata": {
        "id": "GV8CWfIJV7qZ",
        "cellView": "form"
      },
      "source": [
        "#@title\n",
        "import pickle\n",
        "# pickle.dump(X,open('/content/drive/MyDrive/Capsule Nets/mfcc/CREMA_X_withoutlabels.p','wb'))\n",
        "# pickle.dump(Y,open('/content/drive/MyDrive/Capsule Nets/mfcc/CREMA_Y_withoutlabels.p','wb'))"
      ],
      "execution_count": null,
      "outputs": []
    },
    {
      "cell_type": "code",
      "metadata": {
        "id": "Y01yTAC9Oa-d",
        "cellView": "form"
      },
      "source": [
        "#@title\n",
        "# X = pickle.load(open('/content/drive/MyDrive/Capsule Nets/mfcc/CREMA_X_withoutlabels.p','rb'))\n",
        "# Y = pickle.load(open('/content/drive/MyDrive/Capsule Nets/mfcc/CREMA_Y_withoutlabels.p','rb'))"
      ],
      "execution_count": null,
      "outputs": []
    },
    {
      "cell_type": "code",
      "metadata": {
        "colab": {
          "base_uri": "https://localhost:8080/"
        },
        "id": "DYfZSiAp7Mnx",
        "outputId": "765de715-34ef-43a4-f2da-6af175ccd866"
      },
      "source": [
        "np.shape(X),np.shape(Y)"
      ],
      "execution_count": null,
      "outputs": [
        {
          "output_type": "execute_result",
          "data": {
            "text/plain": [
              "((52094, 58), (52094,))"
            ]
          },
          "metadata": {
            "tags": []
          },
          "execution_count": 5
        }
      ]
    },
    {
      "cell_type": "markdown",
      "metadata": {
        "id": "xR_UJhJ_MCPz"
      },
      "source": [
        "2.5 Encoding Labels"
      ]
    },
    {
      "cell_type": "code",
      "metadata": {
        "colab": {
          "base_uri": "https://localhost:8080/"
        },
        "id": "DP7VUTv07SPG",
        "outputId": "e33e58cb-3ab0-47c8-a37b-d342ae0a1e9f"
      },
      "source": [
        "d = {}\n",
        "j = 0\n",
        "for i in Y:\n",
        "  if i not in d:\n",
        "    d[i] = j\n",
        "    j=j+1\n",
        "d.keys()"
      ],
      "execution_count": null,
      "outputs": [
        {
          "output_type": "execute_result",
          "data": {
            "text/plain": [
              "dict_keys(['NEU', 'HAP', 'DIS', 'FEA', 'ANG', 'SAD'])"
            ]
          },
          "metadata": {
            "tags": []
          },
          "execution_count": 6
        }
      ]
    },
    {
      "cell_type": "code",
      "metadata": {
        "id": "Zx4q9HAeuR8W"
      },
      "source": [
        "# d = {'ANG': 0,\n",
        "#  'DIS': 1,\n",
        "#  'FEA': 2,\n",
        "#  'HAP': 3,\n",
        "#  'NEU': 4,\n",
        "#  'SAD': 5}"
      ],
      "execution_count": null,
      "outputs": []
    },
    {
      "cell_type": "code",
      "metadata": {
        "colab": {
          "base_uri": "https://localhost:8080/"
        },
        "id": "g6_lDYDFPm7J",
        "outputId": "7cf6018a-3acb-4af4-f1f2-2adb366fee29"
      },
      "source": [
        "d"
      ],
      "execution_count": null,
      "outputs": [
        {
          "output_type": "execute_result",
          "data": {
            "text/plain": [
              "{'ANG': 4, 'DIS': 2, 'FEA': 3, 'HAP': 1, 'NEU': 0, 'SAD': 5}"
            ]
          },
          "metadata": {
            "tags": []
          },
          "execution_count": 60
        }
      ]
    },
    {
      "cell_type": "code",
      "metadata": {
        "id": "fn8qvOthxnJl"
      },
      "source": [
        "d1 = []\n",
        "for i in range(6):\n",
        "  for j in d.keys():\n",
        "    if d[j] == i:\n",
        "      d1.append(j)"
      ],
      "execution_count": null,
      "outputs": []
    },
    {
      "cell_type": "code",
      "metadata": {
        "id": "7KLuBZTQQNBq"
      },
      "source": [
        "Y1 = np.zeros((np.shape(Y)[0],6))"
      ],
      "execution_count": null,
      "outputs": []
    },
    {
      "cell_type": "code",
      "metadata": {
        "id": "gw49swmSQQUy"
      },
      "source": [
        "for i in range(np.shape(Y)[0]):\n",
        "  Y1[i][d[Y[i]]] = 1.0"
      ],
      "execution_count": null,
      "outputs": []
    },
    {
      "cell_type": "code",
      "metadata": {
        "colab": {
          "base_uri": "https://localhost:8080/"
        },
        "id": "yKgLaApaQWAh",
        "outputId": "0fea87be-416c-472c-d669-4c0ddaaad45c"
      },
      "source": [
        "X = np.array(X)\n",
        "Y1 = np.array(Y1)\n",
        "x_train, x_test, y_train, y_test = train_test_split(X,Y1, random_state=0, test_size=0.20, shuffle=True)\n",
        "x_train.shape, y_train.shape, x_test.shape, y_test.shape"
      ],
      "execution_count": null,
      "outputs": [
        {
          "output_type": "execute_result",
          "data": {
            "text/plain": [
              "((41675, 58), (41675, 6), (10419, 58), (10419, 6))"
            ]
          },
          "metadata": {
            "tags": []
          },
          "execution_count": 23
        }
      ]
    },
    {
      "cell_type": "code",
      "metadata": {
        "id": "rERdg9_bQYTc"
      },
      "source": [
        "x_train, x_valid, y_train, y_valid = train_test_split(x_train, y_train, random_state=0, test_size=0.20, shuffle=True)"
      ],
      "execution_count": null,
      "outputs": []
    },
    {
      "cell_type": "markdown",
      "metadata": {
        "id": "nJz0uJz8MQ_g"
      },
      "source": [
        "# **3. Capsule Net Model Training**"
      ]
    },
    {
      "cell_type": "code",
      "metadata": {
        "id": "fF0Vdzrz5i9t"
      },
      "source": [
        "!pip install keras==2.1.6\n",
        "# !pip install tensorflow==1.7.0"
      ],
      "execution_count": null,
      "outputs": []
    },
    {
      "cell_type": "code",
      "metadata": {
        "id": "iRh2Xntu9vVJ"
      },
      "source": [
        "from tensorflow.keras.layers import Dense,Dropout,Activation,Multiply,BatchNormalization, Flatten,TimeDistributed,LSTM"
      ],
      "execution_count": null,
      "outputs": []
    },
    {
      "cell_type": "code",
      "metadata": {
        "colab": {
          "base_uri": "https://localhost:8080/"
        },
        "id": "7O9HIiyrskLX",
        "outputId": "c5050972-4431-4803-d329-cdeaab5baca0"
      },
      "source": [
        "#Author: Xifeng Guo, E-mail: `guoxifeng1990@163.com`, Github: `https://github.com/XifengGuo/CapsNet-Keras`\n",
        "\n",
        "import keras.backend as K\n",
        "import tensorflow as tf\n",
        "from tensorflow.keras import initializers, layers, models\n",
        "\n",
        "\n",
        "class Length(layers.Layer):\n",
        "    \"\"\"\n",
        "    Compute the length of vectors. This is used to compute a Tensor that has the same shape with y_true in margin_loss.\n",
        "    Using this layer as model's output can directly predict labels by using `y_pred = np.argmax(model.predict(x), 1)`\n",
        "    inputs: shape=[None, num_vectors, dim_vector]\n",
        "    output: shape=[None, num_vectors]\n",
        "    \"\"\"\n",
        "    def call(self, inputs, **kwargs):\n",
        "        return K.sqrt(K.sum(K.square(inputs), -1) + K.epsilon())\n",
        "\n",
        "    def compute_output_shape(self, input_shape):\n",
        "        return input_shape[:-1]\n",
        "\n",
        "    def get_config(self):\n",
        "        config = super(Length, self).get_config()\n",
        "        return config\n",
        "\n",
        "\n",
        "class Mask(layers.Layer):\n",
        "    \"\"\"\n",
        "    Mask a Tensor with shape=[None, num_capsule, dim_vector] either by the capsule with max length or by an additional \n",
        "    input mask. Except the max-length capsule (or specified capsule), all vectors are masked to zeros. Then flatten the\n",
        "    masked Tensor.\n",
        "    For example:\n",
        "        ```\n",
        "        x = keras.layers.Input(shape=[8, 3, 2])  # batch_size=8, each sample contains 3 capsules with dim_vector=2\n",
        "        y = keras.layers.Input(shape=[8, 3])  # True labels. 8 samples, 3 classes, one-hot coding.\n",
        "        out = Mask()(x)  # out.shape=[8, 6]\n",
        "        # or\n",
        "        out2 = Mask()([x, y])  # out2.shape=[8,6]. Masked with true labels y. Of course y can also be manipulated.\n",
        "        ```\n",
        "    \"\"\"\n",
        "    def call(self, inputs, **kwargs):\n",
        "        if type(inputs) is list:  # true label is provided with shape = [None, n_classes], i.e. one-hot code.\n",
        "            assert len(inputs) == 2\n",
        "            inputs, mask = inputs\n",
        "        else:  # if no true label, mask by the max length of capsules. Mainly used for prediction\n",
        "            # compute lengths of capsules\n",
        "            x = K.sqrt(K.sum(K.square(inputs), -1))\n",
        "            # generate the mask which is a one-hot code.\n",
        "            # mask.shape=[None, n_classes]=[None, num_capsule]\n",
        "            mask = K.one_hot(indices=K.argmax(x, 1), num_classes=x.get_shape().as_list()[1])\n",
        "\n",
        "        # inputs.shape=[None, num_capsule, dim_capsule]\n",
        "        # mask.shape=[None, num_capsule]\n",
        "        # masked.shape=[None, num_capsule * dim_capsule]\n",
        "        masked = K.batch_flatten(inputs * K.expand_dims(mask, -1))\n",
        "        return masked\n",
        "\n",
        "    def compute_output_shape(self, input_shape):\n",
        "        if type(input_shape[0]) is tuple:  # true label provided\n",
        "            return tuple([None, input_shape[0][1] * input_shape[0][2]])\n",
        "        else:  # no true label provided\n",
        "            return tuple([None, input_shape[1] * input_shape[2]])\n",
        "\n",
        "    def get_config(self):\n",
        "        config = super(Mask, self).get_config()\n",
        "        return config\n",
        "\n",
        "\n",
        "def squash(vectors, axis=-1):\n",
        "    \"\"\"\n",
        "    The non-linear activation used in Capsule. It drives the length of a large vector to near 1 and small vector to 0\n",
        "    :param vectors: some vectors to be squashed, N-dim tensor\n",
        "    :param axis: the axis to squash\n",
        "    :return: a Tensor with same shape as input vectors\n",
        "    \"\"\"\n",
        "    s_squared_norm = K.sum(K.square(vectors), axis, keepdims=True)\n",
        "    scale = s_squared_norm / (1 + s_squared_norm) / K.sqrt(s_squared_norm + K.epsilon())\n",
        "    return scale * vectors\n",
        "\n",
        "\n",
        "class CapsuleLayer(layers.Layer):\n",
        "    \"\"\"\n",
        "    The capsule layer. It is similar to Dense layer. Dense layer has `in_num` inputs, each is a scalar, the output of the \n",
        "    neuron from the former layer, and it has `out_num` output neurons. CapsuleLayer just expand the output of the neuron\n",
        "    from scalar to vector. So its input shape = [None, input_num_capsule, input_dim_capsule] and output shape = \\\n",
        "    [None, num_capsule, dim_capsule]. For Dense Layer, input_dim_capsule = dim_capsule = 1.\n",
        "    \n",
        "    :param num_capsule: number of capsules in this layer\n",
        "    :param dim_capsule: dimension of the output vectors of the capsules in this layer\n",
        "    :param routings: number of iterations for the routing algorithm\n",
        "    \"\"\"\n",
        "    def __init__(self, num_capsule, dim_capsule, routings=3,\n",
        "                 kernel_initializer='random_uniform',\n",
        "                 **kwargs):\n",
        "        super(CapsuleLayer, self).__init__(**kwargs)\n",
        "        self.num_capsule = num_capsule\n",
        "        self.dim_capsule = dim_capsule\n",
        "        self.routings = routings\n",
        "        self.kernel_initializer = initializers.get(kernel_initializer)\n",
        "\n",
        "    def build(self, input_shape):\n",
        "        assert len(input_shape) >= 3, \"The input Tensor should have shape=[None, input_num_capsule, input_dim_capsule]\"\n",
        "        self.input_num_capsule = input_shape[1]\n",
        "        self.input_dim_capsule = input_shape[2]\n",
        "\n",
        "        # Transform matrix\n",
        "        self.W = self.add_weight(shape=[self.num_capsule, self.input_num_capsule,\n",
        "                                        self.dim_capsule, self.input_dim_capsule],\n",
        "                                 initializer=self.kernel_initializer,\n",
        "                                 name='W')\n",
        "\n",
        "        self.built = True\n",
        "\n",
        "    def call(self, inputs, training=None):\n",
        "        # inputs.shape=[None, input_num_capsule, input_dim_capsule]\n",
        "        # inputs_expand.shape=[None, 1, input_num_capsule, input_dim_capsule]\n",
        "        inputs_expand = K.expand_dims(inputs, 1)\n",
        "\n",
        "        # Replicate num_capsule dimension to prepare being multiplied by W\n",
        "        # inputs_tiled.shape=[None, num_capsule, input_num_capsule, input_dim_capsule]\n",
        "        inputs_tiled = K.tile(inputs_expand, [1, self.num_capsule, 1, 1])\n",
        "\n",
        "        # Compute `inputs * W` by scanning inputs_tiled on dimension 0.\n",
        "        # x.shape=[num_capsule, input_num_capsule, input_dim_capsule]\n",
        "        # W.shape=[num_capsule, input_num_capsule, dim_capsule, input_dim_capsule]\n",
        "        # Regard the first two dimensions as `batch` dimension,\n",
        "        # then matmul: [input_dim_capsule] x [dim_capsule, input_dim_capsule]^T -> [dim_capsule].\n",
        "        # inputs_hat.shape = [None, num_capsule, input_num_capsule, dim_capsule]\n",
        "        inputs_hat = K.map_fn(lambda x: K.batch_dot(x, self.W, [2, 3]), elems=inputs_tiled)\n",
        "\n",
        "        # Begin: Routing algorithm ---------------------------------------------------------------------#\n",
        "        # The prior for coupling coefficient, initialized as zeros.\n",
        "        # b.shape = [None, self.num_capsule, self.input_num_capsule].\n",
        "        b = tf.zeros(shape=[K.shape(inputs_hat)[0], self.num_capsule, self.input_num_capsule])\n",
        "\n",
        "        assert self.routings > 0, 'The routings should be > 0.'\n",
        "        for i in range(self.routings):\n",
        "            # c.shape=[batch_size, num_capsule, input_num_capsule]\n",
        "            c = tf.nn.softmax(b)\n",
        "\n",
        "            # c.shape =  [batch_size, num_capsule, input_num_capsule]\n",
        "            # inputs_hat.shape=[None, num_capsule, input_num_capsule, dim_capsule]\n",
        "            # The first two dimensions as `batch` dimension,\n",
        "            # then matmal: [input_num_capsule] x [input_num_capsule, dim_capsule] -> [dim_capsule].\n",
        "            # outputs.shape=[None, num_capsule, dim_capsule]\n",
        "            outputs = squash(K.batch_dot(c, inputs_hat, [2, 2]))  # [None, 10, 16]\n",
        "\n",
        "            if i < self.routings - 1:\n",
        "                # outputs.shape =  [None, num_capsule, dim_capsule]\n",
        "                # inputs_hat.shape=[None, num_capsule, input_num_capsule, dim_capsule]\n",
        "                # The first two dimensions as `batch` dimension,\n",
        "                # then matmal: [dim_capsule] x [input_num_capsule, dim_capsule]^T -> [input_num_capsule].\n",
        "                # b.shape=[batch_size, num_capsule, input_num_capsule]\n",
        "                b += K.batch_dot(outputs, inputs_hat, [2, 3])\n",
        "        # End: Routing algorithm -----------------------------------------------------------------------#\n",
        "\n",
        "        return outputs\n",
        "\n",
        "    def compute_output_shape(self, input_shape):\n",
        "        return tuple([None, self.num_capsule, self.dim_capsule])\n",
        "\n",
        "    def get_config(self):\n",
        "        config = {\n",
        "            'num_capsule': self.num_capsule,\n",
        "            'dim_capsule': self.dim_capsule,\n",
        "            'routings': self.routings\n",
        "        }\n",
        "        base_config = super(CapsuleLayer, self).get_config()\n",
        "        return dict(list(base_config.items()) + list(config.items()))\n",
        "\n",
        "\n",
        "def PrimaryCap(inputs, dim_capsule, n_channels, kernel_size, strides, padding):\n",
        "    \"\"\"\n",
        "    Apply Conv2D `n_channels` times and concatenate all capsules\n",
        "    :param inputs: 4D tensor, shape=[None, width, height, channels]\n",
        "    :param dim_capsule: the dim of the output vector of capsule\n",
        "    :param n_channels: the number of types of capsules\n",
        "    :return: output tensor, shape=[None, num_capsule, dim_capsule]\n",
        "    \"\"\"\n",
        "    output = (layers.Conv1D(filters=dim_capsule*n_channels, kernel_size=kernel_size, strides=strides, padding=padding,\n",
        "                           name='primarycap_conv2d'))(inputs)\n",
        "    outputs = (layers.Reshape(target_shape=[-1, dim_capsule], name='primarycap_reshape'))(output)\n",
        "    return (layers.Lambda(squash, name='primarycap_squash'))(outputs)"
      ],
      "execution_count": null,
      "outputs": [
        {
          "output_type": "stream",
          "text": [
            "Using TensorFlow backend.\n"
          ],
          "name": "stderr"
        }
      ]
    },
    {
      "cell_type": "markdown",
      "metadata": {
        "id": "z8SdhWPtMr6F"
      },
      "source": [
        "3.1 Capsule Net Model"
      ]
    },
    {
      "cell_type": "code",
      "metadata": {
        "id": "Mh-WPIttsI1Z"
      },
      "source": [
        "\n",
        "def Caps1Net(input_shape, n_class, routings):\n",
        "    \"\"\"\n",
        "    A Capsule Network on MNIST.\n",
        "    :param input_shape: data shape, 3d, [width, height, channels]\n",
        "    :param n_class: number of classes\n",
        "    :param routings: number of routing iterations\n",
        "    :return: Two Keras Models, the first one used for training, and the second one for evaluation.\n",
        "            `eval_model` can also be used for training.\n",
        "    \"\"\"\n",
        "    x = layers.Input(shape=input_shape)\n",
        "    x1 = x\n",
        "    # Layer 1: Just a conventional Conv2D layer\n",
        "    conv1 = layers.Conv1D(filters=128, kernel_size=9, strides=1, padding='valid', activation='relu', name='conv1')(x)\n",
        "\n",
        "    # Layer 2: Conv2D layer with `squash` activation, then reshape to [None, num_capsule, dim_capsule]\n",
        "    primarycaps = PrimaryCap(conv1, dim_capsule=8, n_channels=32, kernel_size=9, strides=2, padding='valid')\n",
        "\n",
        "    # Layer 3: Capsule layer. Routing algorithm works here.\n",
        "    digitcaps = CapsuleLayer(num_capsule=n_class, dim_capsule=16, routings=routings,\n",
        "                             name='digitcaps')(primarycaps)\n",
        "\n",
        "    # Layer 4: This is an auxiliary layer to replace each capsule with its length. Just to match the true label's shape.\n",
        "    # If using tensorflow, this will not be necessary. :)\n",
        "    out_caps = Length(name='capsnet')(digitcaps)\n",
        "\n",
        "    # Decoder network.\n",
        "    y = layers.Input(shape=(n_class,))\n",
        "    masked_by_y = Mask()([digitcaps, y])  # The true label is used to mask the output of capsule layer. For training\n",
        "    masked = Mask()(digitcaps)  # Mask using the capsule with maximal length. For prediction\n",
        "\n",
        "    # Shared Decoder model in training and prediction\n",
        "    decoder = models.Sequential(name='decoder')\n",
        "    #decoder.add(layers.Dense(512, activation='relu', input_dim=16*n_class))\n",
        "    #decoder.add(layers.Dense(1024, activation='relu'))\n",
        "    decoder.add(layers.Dense(np.prod((input_shape)), activation='sigmoid',input_dim=16*n_class))\n",
        "    decoder.add(layers.Reshape(target_shape=(input_shape), name='out_recon'))\n",
        "\n",
        "    # Models for training and evaluation (prediction)\n",
        "    train_model = models.Model([x1, y], [out_caps, decoder(masked_by_y)])\n",
        "    eval_model = models.Model(x1, [out_caps, decoder(masked)])\n",
        "\n",
        "    # manipulate model\n",
        "    noise = layers.Input(shape=(n_class, 16))\n",
        "    noised_digitcaps = layers.Add()([digitcaps, noise])\n",
        "    masked_noised_y = Mask()([noised_digitcaps, y])\n",
        "    manipulate_model = models.Model([x1, y, noise], decoder(masked_noised_y))\n",
        "    return train_model, eval_model, manipulate_model"
      ],
      "execution_count": null,
      "outputs": []
    },
    {
      "cell_type": "code",
      "metadata": {
        "id": "PnbrLOJJwjuy"
      },
      "source": [
        "model, eval_model, manipulate_model = Caps1Net(input_shape=(58,1),\n",
        "                                                  n_class=6,\n",
        "                                                  routings=3)"
      ],
      "execution_count": null,
      "outputs": []
    },
    {
      "cell_type": "code",
      "metadata": {
        "id": "aNaSP7nA849c"
      },
      "source": [
        "from tensorflow.keras.utils import plot_model\n",
        "from IPython.display import Image"
      ],
      "execution_count": null,
      "outputs": []
    },
    {
      "cell_type": "code",
      "metadata": {
        "colab": {
          "base_uri": "https://localhost:8080/",
          "height": 441
        },
        "id": "Yxf6Sm9k8zzq",
        "outputId": "b6dd25ab-d811-4bb5-9f23-d305d3351b72"
      },
      "source": [
        "plot_model(model, show_shapes=True, show_layer_names=True, to_file='model.png')\n",
        "Image(retina=True, filename='model.png')"
      ],
      "execution_count": null,
      "outputs": [
        {
          "output_type": "execute_result",
          "data": {
            "image/png": "[encoded data removed]",
            "text/plain": [
              "<IPython.core.display.Image object>"
            ]
          },
          "metadata": {
            "tags": [],
            "image/png": {
              "height": 424,
              "width": 433
            }
          },
          "execution_count": 17
        }
      ]
    },
    {
      "cell_type": "markdown",
      "metadata": {
        "id": "28Wi5tVBMwyi"
      },
      "source": [
        "3.2 Model Summary"
      ]
    },
    {
      "cell_type": "code",
      "metadata": {
        "colab": {
          "base_uri": "https://localhost:8080/"
        },
        "id": "kiH0KYtb1uj5",
        "outputId": "8d8e2076-59b7-4974-ec1b-9242d3f157ca"
      },
      "source": [
        "model.summary()#"
      ],
      "execution_count": null,
      "outputs": [
        {
          "output_type": "stream",
          "text": [
            "Model: \"model_3\"\n",
            "__________________________________________________________________________________________________\n",
            "Layer (type)                    Output Shape         Param #     Connected to                     \n",
            "==================================================================================================\n",
            "input_4 (InputLayer)            [(None, 58, 1)]      0                                            \n",
            "__________________________________________________________________________________________________\n",
            "conv1 (Conv1D)                  (None, 50, 128)      1280        input_4[0][0]                    \n",
            "__________________________________________________________________________________________________\n",
            "primarycap_conv2d (Conv1D)      (None, 21, 256)      295168      conv1[0][0]                      \n",
            "__________________________________________________________________________________________________\n",
            "primarycap_reshape (Reshape)    (None, 672, 8)       0           primarycap_conv2d[0][0]          \n",
            "__________________________________________________________________________________________________\n",
            "primarycap_squash (Lambda)      (None, 672, 8)       0           primarycap_reshape[0][0]         \n",
            "__________________________________________________________________________________________________\n",
            "digitcaps (CapsuleLayer)        (None, 6, 16)        516096      primarycap_squash[0][0]          \n",
            "__________________________________________________________________________________________________\n",
            "input_5 (InputLayer)            [(None, 6)]          0                                            \n",
            "__________________________________________________________________________________________________\n",
            "mask_3 (Mask)                   (None, None)         0           digitcaps[0][0]                  \n",
            "                                                                 input_5[0][0]                    \n",
            "__________________________________________________________________________________________________\n",
            "capsnet (Length)                (None, 6)            0           digitcaps[0][0]                  \n",
            "__________________________________________________________________________________________________\n",
            "decoder (Sequential)            (None, 58, 1)        5626        mask_3[0][0]                     \n",
            "==================================================================================================\n",
            "Total params: 818,170\n",
            "Trainable params: 818,170\n",
            "Non-trainable params: 0\n",
            "__________________________________________________________________________________________________\n"
          ],
          "name": "stdout"
        }
      ]
    },
    {
      "cell_type": "markdown",
      "metadata": {
        "id": "mT7Xmd0KM0aE"
      },
      "source": [
        "3.3 Loss Function Definition"
      ]
    },
    {
      "cell_type": "code",
      "metadata": {
        "id": "Y-SNDR97k1FX"
      },
      "source": [
        "def margin_loss(y_true, y_pred):\n",
        "    \"\"\"\n",
        "    Margin loss for Eq.(4). When y_true[i, :] contains not just one `1`, this loss should work too. Not test it.\n",
        "    :param y_true: [None, n_classes]\n",
        "    :param y_pred: [None, num_capsule]\n",
        "    :return: a scalar loss value.\n",
        "    \"\"\"\n",
        "    L = y_true * K.square(K.maximum(0., 0.9 - y_pred)) + \\\n",
        "        0.5 * (1 - y_true) * K.square(K.maximum(0., y_pred - 0.1))\n",
        "\n",
        "    return K.mean(K.sum(L, 1))"
      ],
      "execution_count": null,
      "outputs": []
    },
    {
      "cell_type": "markdown",
      "metadata": {
        "id": "mw8WYvQDM6HC"
      },
      "source": [
        "3.4 Training the model"
      ]
    },
    {
      "cell_type": "code",
      "metadata": {
        "id": "oc2APzjHjwzq"
      },
      "source": [
        "def train(model, data, epochs, epoch_size_frac=1.0):\n",
        "    \"\"\"\n",
        "    Training a CapsuleNet\n",
        "    :param model: the CapsuleNet model\n",
        "    :param data: a tuple containing training and testing data, like `((x_train, y_train), (x_test, y_test))`\n",
        "    :param args: arguments\n",
        "    :return: The trained model\n",
        "    \"\"\"\n",
        "    start = datetime.today()\n",
        "    model.compile(optimizer='adam',\n",
        "                  loss=[margin_loss, 'mse'],\n",
        "                  loss_weights=[1., 0.0005],\n",
        "                  metrics={'out_caps': 'accuracy'})\n",
        "    (x_train, y_train), (x_test, y_test) = data\n",
        "    print(type(x_test))\n",
        "    print(type([[x_test, y_test],[y_test, x_test]]))\n",
        "    # callbacks\n",
        "    log = callbacks.CSVLogger('log.csv')\n",
        "    checkpoint = callbacks.ModelCheckpoint(\n",
        "        'weights-{epoch:02d}.h5',\n",
        "        save_best_only=True, \n",
        "        save_weights_only=True, \n",
        "        verbose=False)\n",
        "    lr_decay = callbacks.LearningRateScheduler(\n",
        "        schedule=lambda epoch: 0.001 * np.exp(-epoch / 10.))\n",
        "\n",
        "    # compile the model\n",
        "    model.compile(optimizer='adam',\n",
        "                  loss=[margin_loss, 'mse'],\n",
        "                  loss_weights=[1., 0.0005],\n",
        "                  metrics=['accuracy'])\n",
        "\n",
        "    \n",
        "    # Training without data augmentation:\n",
        "    # hist = model.fit([x_train, y_train], [y_train, x_train], batch_size=50, epochs=50,\n",
        "    #           validation_data=([x_test, y_test], [y_test, x_test]))\n",
        "    \n",
        "\n",
        "    '''# -----------------------------------Begin: Training with data augmentation -----------------------------------#\n",
        "    def train_generator(x, y, batch_size, shift_fraction=0.):\n",
        "        train_datagen = ImageDataGenerator(width_shift_range=shift_fraction,\n",
        "                                           height_shift_range=shift_fraction)  # shift up to 2 pixel for MNIST\n",
        "        generator = train_datagen.flow(x, y, batch_size=batch_size)\n",
        "        while 1:\n",
        "            x_batch, y_batch = generator.next()\n",
        "            yield ([x_batch, y_batch], [y_batch, x_batch])\n",
        "\n",
        "    # Training with data augmentation. If shift_fraction=0., also no augmentation.\n",
        "    hist = model.fit_generator(\n",
        "                        (x_train, y_train),\n",
        "                        steps_per_epoch=50,\n",
        "                        epochs=epochs,\n",
        "                        verbose=2,\n",
        "                        validation_data=[[x_test, y_test], \n",
        "                                         [y_test, x_test]],\n",
        "                        callbacks=[log, checkpoint, lr_decay])'''\n",
        "    hist=model.fit([x_train, y_train], [y_train, x_train], batch_size=50, epochs=70,\n",
        "               validation_data=([x_test, y_test], [y_test, x_test]), callbacks=[log, checkpoint])\n",
        "    # -----------------------------------End: Training with data augmentation -----------------------------------#\n",
        "\n",
        "    end = datetime.today()\n",
        "    \n",
        "    print(\"_\"*10)\n",
        "    print(\"Time Took: {}\".format(end - start))\n",
        "    return hist"
      ],
      "execution_count": null,
      "outputs": []
    },
    {
      "cell_type": "code",
      "metadata": {
        "id": "qudsAWKn2i6t",
        "cellView": "form"
      },
      "source": [
        "#@title\n",
        "# import pickle\n",
        "# x = pickle.load(open('/content/drive/MyDrive/Capsule Nets/mfcc/TESS_X.p','rb'))\n",
        "# Y1 = pickle.load(open('/content/drive/MyDrive/Capsule Nets/mfcc/TESS_Y.p','rb'))"
      ],
      "execution_count": null,
      "outputs": []
    },
    {
      "cell_type": "markdown",
      "metadata": {
        "id": "FzMvX5DnM_qa"
      },
      "source": [
        "3.5 MFCC Visualisation"
      ]
    },
    {
      "cell_type": "code",
      "metadata": {
        "colab": {
          "base_uri": "https://localhost:8080/",
          "height": 284
        },
        "id": "E8csfzWaLnCx",
        "outputId": "67f7fa91-2ebb-4753-913d-d3877bab90c6"
      },
      "source": [
        "plt.imshow((x_train[3]).reshape(58,1))"
      ],
      "execution_count": null,
      "outputs": [
        {
          "output_type": "execute_result",
          "data": {
            "text/plain": [
              "<matplotlib.image.AxesImage at 0x7f562bf132d0>"
            ]
          },
          "metadata": {
            "tags": []
          },
          "execution_count": 25
        },
        {
          "output_type": "display_data",
          "data": {
            "image/png": "[encoded data removed]",
            "text/plain": [
              "<Figure size 432x288 with 1 Axes>"
            ]
          },
          "metadata": {
            "tags": []
          }
        }
      ]
    },
    {
      "cell_type": "code",
      "metadata": {
        "id": "xE0MJK890l82"
      },
      "source": [
        "X_train = x_train\n",
        "X_test = x_test"
      ],
      "execution_count": null,
      "outputs": []
    },
    {
      "cell_type": "code",
      "metadata": {
        "id": "Gs9FGHZm6gtc"
      },
      "source": [
        "data=(X_train, y_train), (X_test, y_test)"
      ],
      "execution_count": null,
      "outputs": []
    },
    {
      "cell_type": "code",
      "metadata": {
        "id": "Lt8G5z9O6mB1"
      },
      "source": [
        "from keras.preprocessing.image import ImageDataGenerator\n",
        "from keras.utils.vis_utils import plot_model\n",
        "from datetime import datetime \n",
        "from numpy.random import seed\n",
        "from tensorflow.keras import callbacks"
      ],
      "execution_count": null,
      "outputs": []
    },
    {
      "cell_type": "code",
      "metadata": {
        "colab": {
          "base_uri": "https://localhost:8080/"
        },
        "id": "yZSt13Hd6bds",
        "outputId": "42c6be32-7436-4bb0-d131-6ee54b517fae"
      },
      "source": [
        "hist = train(model=model, \n",
        "             epochs= 70,#50,\n",
        "             data=data, \n",
        "             epoch_size_frac = 1)"
      ],
      "execution_count": null,
      "outputs": [
        {
          "output_type": "stream",
          "text": [
            "<class 'numpy.ndarray'>\n",
            "<class 'list'>\n",
            "Epoch 1/70\n",
            "667/667 [==============================] - 42s 60ms/step - loss: 2.1383 - capsnet_loss: 0.5963 - decoder_loss: 3083.9367 - capsnet_accuracy: 0.2381 - decoder_accuracy: 1.1222e-04 - val_loss: 1.9223 - val_capsnet_loss: 0.3820 - val_decoder_loss: 3080.6367 - val_capsnet_accuracy: 0.3883 - val_decoder_accuracy: 1.2576e-04\n",
            "Epoch 2/70\n",
            "667/667 [==============================] - 39s 59ms/step - loss: 1.9129 - capsnet_loss: 0.3745 - decoder_loss: 3076.6618 - capsnet_accuracy: 0.4030 - decoder_accuracy: 1.0107e-04 - val_loss: 1.8982 - val_capsnet_loss: 0.3591 - val_decoder_loss: 3078.0503 - val_capsnet_accuracy: 0.4356 - val_decoder_accuracy: 1.2576e-04\n",
            "Epoch 3/70\n",
            "667/667 [==============================] - 39s 58ms/step - loss: 1.8970 - capsnet_loss: 0.3553 - decoder_loss: 3083.5525 - capsnet_accuracy: 0.4452 - decoder_accuracy: 6.1044e-05 - val_loss: 1.8863 - val_capsnet_loss: 0.3478 - val_decoder_loss: 3077.0979 - val_capsnet_accuracy: 0.4682 - val_decoder_accuracy: 1.2576e-04\n",
            "Epoch 4/70\n",
            "667/667 [==============================] - 39s 59ms/step - loss: 1.8786 - capsnet_loss: 0.3400 - decoder_loss: 3077.1313 - capsnet_accuracy: 0.4780 - decoder_accuracy: 1.2142e-04 - val_loss: 1.8732 - val_capsnet_loss: 0.3348 - val_decoder_loss: 3076.7935 - val_capsnet_accuracy: 0.4917 - val_decoder_accuracy: 1.2576e-04\n",
            "Epoch 5/70\n",
            "667/667 [==============================] - 39s 59ms/step - loss: 1.8618 - capsnet_loss: 0.3266 - decoder_loss: 3070.5556 - capsnet_accuracy: 0.5048 - decoder_accuracy: 6.0354e-05 - val_loss: 1.8655 - val_capsnet_loss: 0.3272 - val_decoder_loss: 3076.5918 - val_capsnet_accuracy: 0.5082 - val_decoder_accuracy: 1.2576e-04\n",
            "Epoch 6/70\n",
            "667/667 [==============================] - 39s 58ms/step - loss: 1.8538 - capsnet_loss: 0.3133 - decoder_loss: 3081.1254 - capsnet_accuracy: 0.5314 - decoder_accuracy: 8.9815e-05 - val_loss: 1.8520 - val_capsnet_loss: 0.3137 - val_decoder_loss: 3076.4368 - val_capsnet_accuracy: 0.5350 - val_decoder_accuracy: 1.2576e-04\n",
            "Epoch 7/70\n",
            "667/667 [==============================] - 39s 59ms/step - loss: 1.8369 - capsnet_loss: 0.2997 - decoder_loss: 3074.4175 - capsnet_accuracy: 0.5604 - decoder_accuracy: 8.6680e-05 - val_loss: 1.8458 - val_capsnet_loss: 0.3076 - val_decoder_loss: 3076.3589 - val_capsnet_accuracy: 0.5436 - val_decoder_accuracy: 1.2576e-04\n",
            "Epoch 8/70\n",
            "667/667 [==============================] - 39s 59ms/step - loss: 1.8241 - capsnet_loss: 0.2891 - decoder_loss: 3069.9312 - capsnet_accuracy: 0.5836 - decoder_accuracy: 1.3536e-04 - val_loss: 1.8380 - val_capsnet_loss: 0.2999 - val_decoder_loss: 3076.3228 - val_capsnet_accuracy: 0.5620 - val_decoder_accuracy: 1.2576e-04\n",
            "Epoch 9/70\n",
            "667/667 [==============================] - 39s 59ms/step - loss: 1.8183 - capsnet_loss: 0.2799 - decoder_loss: 3076.8169 - capsnet_accuracy: 0.6049 - decoder_accuracy: 3.8160e-05 - val_loss: 1.8278 - val_capsnet_loss: 0.2897 - val_decoder_loss: 3076.2893 - val_capsnet_accuracy: 0.5840 - val_decoder_accuracy: 1.2576e-04\n",
            "Epoch 10/70\n",
            "667/667 [==============================] - 40s 59ms/step - loss: 1.8079 - capsnet_loss: 0.2683 - decoder_loss: 3079.1870 - capsnet_accuracy: 0.6340 - decoder_accuracy: 9.0569e-05 - val_loss: 1.8245 - val_capsnet_loss: 0.2864 - val_decoder_loss: 3076.2644 - val_capsnet_accuracy: 0.5876 - val_decoder_accuracy: 1.2576e-04\n",
            "Epoch 11/70\n",
            "667/667 [==============================] - 39s 59ms/step - loss: 1.8003 - capsnet_loss: 0.2577 - decoder_loss: 3085.1075 - capsnet_accuracy: 0.6485 - decoder_accuracy: 1.5087e-04 - val_loss: 1.8138 - val_capsnet_loss: 0.2756 - val_decoder_loss: 3076.2439 - val_capsnet_accuracy: 0.6122 - val_decoder_accuracy: 1.2576e-04\n",
            "Epoch 12/70\n",
            "667/667 [==============================] - 39s 58ms/step - loss: 1.7855 - capsnet_loss: 0.2471 - decoder_loss: 3076.6564 - capsnet_accuracy: 0.6697 - decoder_accuracy: 8.0106e-05 - val_loss: 1.8113 - val_capsnet_loss: 0.2731 - val_decoder_loss: 3076.2246 - val_capsnet_accuracy: 0.6217 - val_decoder_accuracy: 1.2576e-04\n",
            "Epoch 13/70\n",
            "667/667 [==============================] - 40s 59ms/step - loss: 1.7776 - capsnet_loss: 0.2363 - decoder_loss: 3082.4835 - capsnet_accuracy: 0.6916 - decoder_accuracy: 8.8682e-05 - val_loss: 1.8015 - val_capsnet_loss: 0.2634 - val_decoder_loss: 3076.2241 - val_capsnet_accuracy: 0.6330 - val_decoder_accuracy: 1.2576e-04\n",
            "Epoch 14/70\n",
            "667/667 [==============================] - 39s 59ms/step - loss: 1.7618 - capsnet_loss: 0.2255 - decoder_loss: 3072.5939 - capsnet_accuracy: 0.7150 - decoder_accuracy: 3.3456e-05 - val_loss: 1.7944 - val_capsnet_loss: 0.2563 - val_decoder_loss: 3076.2134 - val_capsnet_accuracy: 0.6498 - val_decoder_accuracy: 1.2576e-04\n",
            "Epoch 15/70\n",
            "667/667 [==============================] - 40s 60ms/step - loss: 1.7490 - capsnet_loss: 0.2152 - decoder_loss: 3067.4831 - capsnet_accuracy: 0.7318 - decoder_accuracy: 6.3644e-05 - val_loss: 1.7848 - val_capsnet_loss: 0.2467 - val_decoder_loss: 3076.2073 - val_capsnet_accuracy: 0.6692 - val_decoder_accuracy: 1.2576e-04\n",
            "Epoch 16/70\n",
            "667/667 [==============================] - 40s 60ms/step - loss: 1.7445 - capsnet_loss: 0.2016 - decoder_loss: 3085.8260 - capsnet_accuracy: 0.7580 - decoder_accuracy: 7.1788e-05 - val_loss: 1.7806 - val_capsnet_loss: 0.2425 - val_decoder_loss: 3076.1990 - val_capsnet_accuracy: 0.6770 - val_decoder_accuracy: 1.2576e-04\n",
            "Epoch 17/70\n",
            "667/667 [==============================] - 39s 58ms/step - loss: 1.7333 - capsnet_loss: 0.1959 - decoder_loss: 3074.7950 - capsnet_accuracy: 0.7677 - decoder_accuracy: 4.8457e-05 - val_loss: 1.7752 - val_capsnet_loss: 0.2371 - val_decoder_loss: 3076.1929 - val_capsnet_accuracy: 0.6862 - val_decoder_accuracy: 1.2576e-04\n",
            "Epoch 18/70\n",
            "667/667 [==============================] - 39s 59ms/step - loss: 1.7206 - capsnet_loss: 0.1838 - decoder_loss: 3073.6470 - capsnet_accuracy: 0.7898 - decoder_accuracy: 7.7852e-05 - val_loss: 1.7677 - val_capsnet_loss: 0.2296 - val_decoder_loss: 3076.1902 - val_capsnet_accuracy: 0.7052 - val_decoder_accuracy: 1.2576e-04\n",
            "Epoch 19/70\n",
            "667/667 [==============================] - 39s 59ms/step - loss: 1.7136 - capsnet_loss: 0.1758 - decoder_loss: 3075.5819 - capsnet_accuracy: 0.7990 - decoder_accuracy: 1.5473e-04 - val_loss: 1.7661 - val_capsnet_loss: 0.2280 - val_decoder_loss: 3076.1899 - val_capsnet_accuracy: 0.7052 - val_decoder_accuracy: 1.2576e-04\n",
            "Epoch 20/70\n",
            "667/667 [==============================] - 40s 60ms/step - loss: 1.7158 - capsnet_loss: 0.1687 - decoder_loss: 3094.2821 - capsnet_accuracy: 0.8116 - decoder_accuracy: 9.3239e-05 - val_loss: 1.7591 - val_capsnet_loss: 0.2210 - val_decoder_loss: 3076.1890 - val_capsnet_accuracy: 0.7186 - val_decoder_accuracy: 1.2576e-04\n",
            "Epoch 21/70\n",
            "667/667 [==============================] - 40s 60ms/step - loss: 1.6936 - capsnet_loss: 0.1577 - decoder_loss: 3071.8462 - capsnet_accuracy: 0.8271 - decoder_accuracy: 2.4091e-05 - val_loss: 1.7532 - val_capsnet_loss: 0.2151 - val_decoder_loss: 3076.1873 - val_capsnet_accuracy: 0.7315 - val_decoder_accuracy: 1.2576e-04\n",
            "Epoch 22/70\n",
            "667/667 [==============================] - 40s 60ms/step - loss: 1.6926 - capsnet_loss: 0.1519 - decoder_loss: 3081.5053 - capsnet_accuracy: 0.8381 - decoder_accuracy: 6.0720e-05 - val_loss: 1.7485 - val_capsnet_loss: 0.2104 - val_decoder_loss: 3076.1816 - val_capsnet_accuracy: 0.7329 - val_decoder_accuracy: 1.2576e-04\n",
            "Epoch 23/70\n",
            "667/667 [==============================] - 40s 59ms/step - loss: 1.6761 - capsnet_loss: 0.1434 - decoder_loss: 3065.3503 - capsnet_accuracy: 0.8499 - decoder_accuracy: 8.8979e-05 - val_loss: 1.7496 - val_capsnet_loss: 0.2115 - val_decoder_loss: 3076.1812 - val_capsnet_accuracy: 0.7360 - val_decoder_accuracy: 1.2576e-04\n",
            "Epoch 24/70\n",
            "667/667 [==============================] - 41s 61ms/step - loss: 1.6741 - capsnet_loss: 0.1372 - decoder_loss: 3073.7861 - capsnet_accuracy: 0.8585 - decoder_accuracy: 9.7710e-05 - val_loss: 1.7414 - val_capsnet_loss: 0.2033 - val_decoder_loss: 3076.1843 - val_capsnet_accuracy: 0.7455 - val_decoder_accuracy: 1.2576e-04\n",
            "Epoch 25/70\n",
            "667/667 [==============================] - 40s 60ms/step - loss: 1.6659 - capsnet_loss: 0.1294 - decoder_loss: 3072.9769 - capsnet_accuracy: 0.8697 - decoder_accuracy: 3.9638e-05 - val_loss: 1.7382 - val_capsnet_loss: 0.2002 - val_decoder_loss: 3076.1821 - val_capsnet_accuracy: 0.7525 - val_decoder_accuracy: 1.2576e-04\n",
            "Epoch 26/70\n",
            "667/667 [==============================] - 40s 60ms/step - loss: 1.6689 - capsnet_loss: 0.1250 - decoder_loss: 3087.9402 - capsnet_accuracy: 0.8760 - decoder_accuracy: 4.8039e-05 - val_loss: 1.7370 - val_capsnet_loss: 0.1989 - val_decoder_loss: 3076.1809 - val_capsnet_accuracy: 0.7603 - val_decoder_accuracy: 1.2576e-04\n",
            "Epoch 27/70\n",
            "667/667 [==============================] - 40s 60ms/step - loss: 1.6506 - capsnet_loss: 0.1184 - decoder_loss: 3064.4126 - capsnet_accuracy: 0.8850 - decoder_accuracy: 2.7175e-05 - val_loss: 1.7267 - val_capsnet_loss: 0.1886 - val_decoder_loss: 3076.1807 - val_capsnet_accuracy: 0.7696 - val_decoder_accuracy: 1.3238e-04\n",
            "Epoch 28/70\n",
            "667/667 [==============================] - 40s 60ms/step - loss: 1.6451 - capsnet_loss: 0.1113 - decoder_loss: 3067.7334 - capsnet_accuracy: 0.8954 - decoder_accuracy: 3.4442e-05 - val_loss: 1.7256 - val_capsnet_loss: 0.1875 - val_decoder_loss: 3076.1790 - val_capsnet_accuracy: 0.7749 - val_decoder_accuracy: 1.3238e-04\n",
            "Epoch 29/70\n",
            "667/667 [==============================] - 40s 60ms/step - loss: 1.6450 - capsnet_loss: 0.1070 - decoder_loss: 3076.0298 - capsnet_accuracy: 0.9028 - decoder_accuracy: 5.2018e-05 - val_loss: 1.7245 - val_capsnet_loss: 0.1864 - val_decoder_loss: 3076.1802 - val_capsnet_accuracy: 0.7758 - val_decoder_accuracy: 1.3238e-04\n",
            "Epoch 30/70\n",
            "667/667 [==============================] - 40s 60ms/step - loss: 1.6378 - capsnet_loss: 0.1027 - decoder_loss: 3070.1421 - capsnet_accuracy: 0.9044 - decoder_accuracy: 7.1336e-05 - val_loss: 1.7151 - val_capsnet_loss: 0.1770 - val_decoder_loss: 3076.1802 - val_capsnet_accuracy: 0.7864 - val_decoder_accuracy: 1.3238e-04\n",
            "Epoch 31/70\n",
            "667/667 [==============================] - 40s 60ms/step - loss: 1.6337 - capsnet_loss: 0.0959 - decoder_loss: 3075.6590 - capsnet_accuracy: 0.9121 - decoder_accuracy: 7.9547e-05 - val_loss: 1.7131 - val_capsnet_loss: 0.1751 - val_decoder_loss: 3076.1797 - val_capsnet_accuracy: 0.7947 - val_decoder_accuracy: 1.3238e-04\n",
            "Epoch 32/70\n",
            "667/667 [==============================] - 40s 59ms/step - loss: 1.6287 - capsnet_loss: 0.0924 - decoder_loss: 3072.6076 - capsnet_accuracy: 0.9158 - decoder_accuracy: 8.5111e-05 - val_loss: 1.7130 - val_capsnet_loss: 0.1749 - val_decoder_loss: 3076.1792 - val_capsnet_accuracy: 0.7908 - val_decoder_accuracy: 1.3238e-04\n",
            "Epoch 33/70\n",
            "667/667 [==============================] - 40s 60ms/step - loss: 1.6278 - capsnet_loss: 0.0905 - decoder_loss: 3074.6314 - capsnet_accuracy: 0.9189 - decoder_accuracy: 1.0343e-04 - val_loss: 1.7150 - val_capsnet_loss: 0.1770 - val_decoder_loss: 3076.1794 - val_capsnet_accuracy: 0.7889 - val_decoder_accuracy: 1.3569e-04\n",
            "Epoch 34/70\n",
            "667/667 [==============================] - 40s 60ms/step - loss: 1.6243 - capsnet_loss: 0.0827 - decoder_loss: 3083.0853 - capsnet_accuracy: 0.9280 - decoder_accuracy: 1.2244e-04 - val_loss: 1.7066 - val_capsnet_loss: 0.1685 - val_decoder_loss: 3076.1831 - val_capsnet_accuracy: 0.7981 - val_decoder_accuracy: 1.3569e-04\n",
            "Epoch 35/70\n",
            "667/667 [==============================] - 39s 59ms/step - loss: 1.6151 - capsnet_loss: 0.0805 - decoder_loss: 3069.2679 - capsnet_accuracy: 0.9312 - decoder_accuracy: 2.3740e-05 - val_loss: 1.7070 - val_capsnet_loss: 0.1689 - val_decoder_loss: 3076.1843 - val_capsnet_accuracy: 0.8037 - val_decoder_accuracy: 1.4231e-04\n",
            "Epoch 36/70\n",
            "667/667 [==============================] - 39s 59ms/step - loss: 1.6150 - capsnet_loss: 0.0774 - decoder_loss: 3075.2344 - capsnet_accuracy: 0.9347 - decoder_accuracy: 1.8097e-04 - val_loss: 1.7060 - val_capsnet_loss: 0.1679 - val_decoder_loss: 3076.1851 - val_capsnet_accuracy: 0.8065 - val_decoder_accuracy: 1.4231e-04\n",
            "Epoch 37/70\n",
            "667/667 [==============================] - 40s 60ms/step - loss: 1.6099 - capsnet_loss: 0.0725 - decoder_loss: 3074.7490 - capsnet_accuracy: 0.9427 - decoder_accuracy: 6.0401e-05 - val_loss: 1.7045 - val_capsnet_loss: 0.1664 - val_decoder_loss: 3076.1831 - val_capsnet_accuracy: 0.8080 - val_decoder_accuracy: 1.4562e-04\n",
            "Epoch 38/70\n",
            "667/667 [==============================] - 40s 60ms/step - loss: 1.6054 - capsnet_loss: 0.0709 - decoder_loss: 3069.0252 - capsnet_accuracy: 0.9437 - decoder_accuracy: 1.5473e-04 - val_loss: 1.7051 - val_capsnet_loss: 0.1670 - val_decoder_loss: 3076.1838 - val_capsnet_accuracy: 0.8126 - val_decoder_accuracy: 1.3238e-04\n",
            "Epoch 39/70\n",
            "667/667 [==============================] - 40s 60ms/step - loss: 1.6093 - capsnet_loss: 0.0672 - decoder_loss: 3084.1526 - capsnet_accuracy: 0.9470 - decoder_accuracy: 1.4670e-04 - val_loss: 1.6962 - val_capsnet_loss: 0.1581 - val_decoder_loss: 3076.1843 - val_capsnet_accuracy: 0.8195 - val_decoder_accuracy: 1.4231e-04\n",
            "Epoch 40/70\n",
            "667/667 [==============================] - 41s 61ms/step - loss: 1.6002 - capsnet_loss: 0.0613 - decoder_loss: 3077.6435 - capsnet_accuracy: 0.9518 - decoder_accuracy: 1.2295e-04 - val_loss: 1.7014 - val_capsnet_loss: 0.1633 - val_decoder_loss: 3076.1829 - val_capsnet_accuracy: 0.8094 - val_decoder_accuracy: 1.4562e-04\n",
            "Epoch 41/70\n",
            "667/667 [==============================] - 40s 60ms/step - loss: 1.6018 - capsnet_loss: 0.0618 - decoder_loss: 3079.9016 - capsnet_accuracy: 0.9523 - decoder_accuracy: 2.7093e-05 - val_loss: 1.7063 - val_capsnet_loss: 0.1682 - val_decoder_loss: 3076.1836 - val_capsnet_accuracy: 0.8038 - val_decoder_accuracy: 1.3238e-04\n",
            "Epoch 42/70\n",
            "667/667 [==============================] - 40s 60ms/step - loss: 1.5941 - capsnet_loss: 0.0585 - decoder_loss: 3071.2885 - capsnet_accuracy: 0.9557 - decoder_accuracy: 8.4351e-05 - val_loss: 1.6957 - val_capsnet_loss: 0.1576 - val_decoder_loss: 3076.1851 - val_capsnet_accuracy: 0.8126 - val_decoder_accuracy: 1.3238e-04\n",
            "Epoch 43/70\n",
            "667/667 [==============================] - 40s 61ms/step - loss: 1.5943 - capsnet_loss: 0.0554 - decoder_loss: 3077.6674 - capsnet_accuracy: 0.9615 - decoder_accuracy: 2.2023e-05 - val_loss: 1.6969 - val_capsnet_loss: 0.1588 - val_decoder_loss: 3076.1829 - val_capsnet_accuracy: 0.8150 - val_decoder_accuracy: 1.3238e-04\n",
            "Epoch 44/70\n",
            "667/667 [==============================] - 40s 61ms/step - loss: 1.5889 - capsnet_loss: 0.0530 - decoder_loss: 3071.8828 - capsnet_accuracy: 0.9618 - decoder_accuracy: 2.4472e-05 - val_loss: 1.6941 - val_capsnet_loss: 0.1560 - val_decoder_loss: 3076.1807 - val_capsnet_accuracy: 0.8225 - val_decoder_accuracy: 1.3238e-04\n",
            "Epoch 45/70\n",
            "667/667 [==============================] - 40s 61ms/step - loss: 1.5883 - capsnet_loss: 0.0530 - decoder_loss: 3070.5769 - capsnet_accuracy: 0.9601 - decoder_accuracy: 8.0458e-05 - val_loss: 1.6968 - val_capsnet_loss: 0.1588 - val_decoder_loss: 3076.1836 - val_capsnet_accuracy: 0.8179 - val_decoder_accuracy: 1.3238e-04\n",
            "Epoch 46/70\n",
            "667/667 [==============================] - 40s 60ms/step - loss: 1.5840 - capsnet_loss: 0.0481 - decoder_loss: 3071.7358 - capsnet_accuracy: 0.9669 - decoder_accuracy: 4.2768e-05 - val_loss: 1.6924 - val_capsnet_loss: 0.1543 - val_decoder_loss: 3076.1821 - val_capsnet_accuracy: 0.8222 - val_decoder_accuracy: 1.3238e-04\n",
            "Epoch 47/70\n",
            "667/667 [==============================] - 40s 61ms/step - loss: 1.5916 - capsnet_loss: 0.0466 - decoder_loss: 3089.9575 - capsnet_accuracy: 0.9670 - decoder_accuracy: 1.0175e-04 - val_loss: 1.6939 - val_capsnet_loss: 0.1558 - val_decoder_loss: 3076.1802 - val_capsnet_accuracy: 0.8212 - val_decoder_accuracy: 1.3238e-04\n",
            "Epoch 48/70\n",
            "667/667 [==============================] - 40s 60ms/step - loss: 1.5796 - capsnet_loss: 0.0451 - decoder_loss: 3068.8836 - capsnet_accuracy: 0.9694 - decoder_accuracy: 1.2478e-04 - val_loss: 1.6916 - val_capsnet_loss: 0.1535 - val_decoder_loss: 3076.1802 - val_capsnet_accuracy: 0.8251 - val_decoder_accuracy: 1.3238e-04\n",
            "Epoch 49/70\n",
            "667/667 [==============================] - 41s 61ms/step - loss: 1.5821 - capsnet_loss: 0.0417 - decoder_loss: 3080.9646 - capsnet_accuracy: 0.9740 - decoder_accuracy: 4.4528e-05 - val_loss: 1.6947 - val_capsnet_loss: 0.1566 - val_decoder_loss: 3076.1787 - val_capsnet_accuracy: 0.8222 - val_decoder_accuracy: 1.3569e-04\n",
            "Epoch 50/70\n",
            "667/667 [==============================] - 41s 61ms/step - loss: 1.5769 - capsnet_loss: 0.0409 - decoder_loss: 3071.8859 - capsnet_accuracy: 0.9737 - decoder_accuracy: 5.6121e-05 - val_loss: 1.6887 - val_capsnet_loss: 0.1506 - val_decoder_loss: 3076.1797 - val_capsnet_accuracy: 0.8302 - val_decoder_accuracy: 1.3900e-04\n",
            "Epoch 51/70\n",
            "667/667 [==============================] - 41s 61ms/step - loss: 1.5829 - capsnet_loss: 0.0410 - decoder_loss: 3083.9396 - capsnet_accuracy: 0.9741 - decoder_accuracy: 7.5183e-05 - val_loss: 1.6865 - val_capsnet_loss: 0.1484 - val_decoder_loss: 3076.1760 - val_capsnet_accuracy: 0.8302 - val_decoder_accuracy: 1.3569e-04\n",
            "Epoch 52/70\n",
            "667/667 [==============================] - 40s 60ms/step - loss: 1.5801 - capsnet_loss: 0.0385 - decoder_loss: 3083.1512 - capsnet_accuracy: 0.9758 - decoder_accuracy: 7.0659e-05 - val_loss: 1.6947 - val_capsnet_loss: 0.1566 - val_decoder_loss: 3076.1777 - val_capsnet_accuracy: 0.8250 - val_decoder_accuracy: 1.3569e-04\n",
            "Epoch 53/70\n",
            "667/667 [==============================] - 40s 61ms/step - loss: 1.5807 - capsnet_loss: 0.0378 - decoder_loss: 3085.8180 - capsnet_accuracy: 0.9760 - decoder_accuracy: 8.3624e-05 - val_loss: 1.6884 - val_capsnet_loss: 0.1503 - val_decoder_loss: 3076.1760 - val_capsnet_accuracy: 0.8296 - val_decoder_accuracy: 1.3900e-04\n",
            "Epoch 54/70\n",
            "667/667 [==============================] - 40s 61ms/step - loss: 1.5727 - capsnet_loss: 0.0333 - decoder_loss: 3078.7457 - capsnet_accuracy: 0.9805 - decoder_accuracy: 4.0192e-05 - val_loss: 1.6845 - val_capsnet_loss: 0.1464 - val_decoder_loss: 3076.1748 - val_capsnet_accuracy: 0.8336 - val_decoder_accuracy: 1.3900e-04\n",
            "Epoch 55/70\n",
            "667/667 [==============================] - 41s 61ms/step - loss: 1.5738 - capsnet_loss: 0.0321 - decoder_loss: 3083.5293 - capsnet_accuracy: 0.9802 - decoder_accuracy: 8.8334e-05 - val_loss: 1.6926 - val_capsnet_loss: 0.1545 - val_decoder_loss: 3076.1782 - val_capsnet_accuracy: 0.8247 - val_decoder_accuracy: 1.3900e-04\n",
            "Epoch 56/70\n",
            "667/667 [==============================] - 40s 61ms/step - loss: 1.5669 - capsnet_loss: 0.0326 - decoder_loss: 3068.5567 - capsnet_accuracy: 0.9801 - decoder_accuracy: 4.7749e-05 - val_loss: 1.6873 - val_capsnet_loss: 0.1492 - val_decoder_loss: 3076.1753 - val_capsnet_accuracy: 0.8314 - val_decoder_accuracy: 1.3569e-04\n",
            "Epoch 57/70\n",
            "667/667 [==============================] - 41s 62ms/step - loss: 1.5677 - capsnet_loss: 0.0301 - decoder_loss: 3075.2903 - capsnet_accuracy: 0.9829 - decoder_accuracy: 4.9149e-05 - val_loss: 1.6869 - val_capsnet_loss: 0.1488 - val_decoder_loss: 3076.1748 - val_capsnet_accuracy: 0.8318 - val_decoder_accuracy: 1.3569e-04\n",
            "Epoch 58/70\n",
            "667/667 [==============================] - 42s 62ms/step - loss: 1.5680 - capsnet_loss: 0.0280 - decoder_loss: 3079.9481 - capsnet_accuracy: 0.9841 - decoder_accuracy: 5.6123e-05 - val_loss: 1.6867 - val_capsnet_loss: 0.1486 - val_decoder_loss: 3076.1746 - val_capsnet_accuracy: 0.8355 - val_decoder_accuracy: 1.3569e-04\n",
            "Epoch 59/70\n",
            "667/667 [==============================] - 41s 62ms/step - loss: 1.5675 - capsnet_loss: 0.0296 - decoder_loss: 3075.6848 - capsnet_accuracy: 0.9838 - decoder_accuracy: 1.1074e-04 - val_loss: 1.6931 - val_capsnet_loss: 0.1550 - val_decoder_loss: 3076.1753 - val_capsnet_accuracy: 0.8267 - val_decoder_accuracy: 1.3238e-04\n",
            "Epoch 60/70\n",
            "667/667 [==============================] - 42s 62ms/step - loss: 1.5660 - capsnet_loss: 0.0274 - decoder_loss: 3077.1648 - capsnet_accuracy: 0.9851 - decoder_accuracy: 1.3102e-04 - val_loss: 1.6874 - val_capsnet_loss: 0.1493 - val_decoder_loss: 3076.1738 - val_capsnet_accuracy: 0.8361 - val_decoder_accuracy: 1.3238e-04\n",
            "Epoch 61/70\n",
            "667/667 [==============================] - 42s 63ms/step - loss: 1.5597 - capsnet_loss: 0.0265 - decoder_loss: 3066.4936 - capsnet_accuracy: 0.9855 - decoder_accuracy: 6.5956e-05 - val_loss: 1.6899 - val_capsnet_loss: 0.1518 - val_decoder_loss: 3076.1741 - val_capsnet_accuracy: 0.8299 - val_decoder_accuracy: 1.3238e-04\n",
            "Epoch 62/70\n",
            "667/667 [==============================] - 43s 64ms/step - loss: 1.5643 - capsnet_loss: 0.0260 - decoder_loss: 3076.6110 - capsnet_accuracy: 0.9856 - decoder_accuracy: 3.4738e-05 - val_loss: 1.6846 - val_capsnet_loss: 0.1465 - val_decoder_loss: 3076.1741 - val_capsnet_accuracy: 0.8344 - val_decoder_accuracy: 1.3238e-04\n",
            "Epoch 63/70\n",
            "667/667 [==============================] - 42s 63ms/step - loss: 1.5592 - capsnet_loss: 0.0243 - decoder_loss: 3069.8040 - capsnet_accuracy: 0.9879 - decoder_accuracy: 8.1623e-05 - val_loss: 1.6910 - val_capsnet_loss: 0.1529 - val_decoder_loss: 3076.1736 - val_capsnet_accuracy: 0.8316 - val_decoder_accuracy: 1.3238e-04\n",
            "Epoch 64/70\n",
            "667/667 [==============================] - 42s 64ms/step - loss: 1.5596 - capsnet_loss: 0.0251 - decoder_loss: 3068.9587 - capsnet_accuracy: 0.9875 - decoder_accuracy: 4.6688e-05 - val_loss: 1.6889 - val_capsnet_loss: 0.1508 - val_decoder_loss: 3076.1724 - val_capsnet_accuracy: 0.8322 - val_decoder_accuracy: 1.3569e-04\n",
            "Epoch 65/70\n",
            "667/667 [==============================] - 43s 64ms/step - loss: 1.5573 - capsnet_loss: 0.0215 - decoder_loss: 3071.4486 - capsnet_accuracy: 0.9897 - decoder_accuracy: 1.2114e-04 - val_loss: 1.6872 - val_capsnet_loss: 0.1491 - val_decoder_loss: 3076.1721 - val_capsnet_accuracy: 0.8333 - val_decoder_accuracy: 1.4231e-04\n",
            "Epoch 66/70\n",
            "667/667 [==============================] - 42s 63ms/step - loss: 1.5592 - capsnet_loss: 0.0221 - decoder_loss: 3074.2399 - capsnet_accuracy: 0.9888 - decoder_accuracy: 4.9386e-05 - val_loss: 1.6884 - val_capsnet_loss: 0.1503 - val_decoder_loss: 3076.1736 - val_capsnet_accuracy: 0.8328 - val_decoder_accuracy: 1.3238e-04\n",
            "Epoch 67/70\n",
            "667/667 [==============================] - 42s 63ms/step - loss: 1.5634 - capsnet_loss: 0.0225 - decoder_loss: 3081.8891 - capsnet_accuracy: 0.9901 - decoder_accuracy: 1.5202e-04 - val_loss: 1.6897 - val_capsnet_loss: 0.1516 - val_decoder_loss: 3076.1721 - val_capsnet_accuracy: 0.8340 - val_decoder_accuracy: 1.3238e-04\n",
            "Epoch 68/70\n",
            "667/667 [==============================] - 43s 64ms/step - loss: 1.5596 - capsnet_loss: 0.0205 - decoder_loss: 3078.3007 - capsnet_accuracy: 0.9893 - decoder_accuracy: 9.6854e-05 - val_loss: 1.6888 - val_capsnet_loss: 0.1508 - val_decoder_loss: 3076.1741 - val_capsnet_accuracy: 0.8301 - val_decoder_accuracy: 1.3569e-04\n",
            "Epoch 69/70\n",
            "667/667 [==============================] - 42s 63ms/step - loss: 1.5562 - capsnet_loss: 0.0200 - decoder_loss: 3072.2807 - capsnet_accuracy: 0.9907 - decoder_accuracy: 5.2254e-05 - val_loss: 1.6952 - val_capsnet_loss: 0.1571 - val_decoder_loss: 3076.1726 - val_capsnet_accuracy: 0.8328 - val_decoder_accuracy: 1.3238e-04\n",
            "Epoch 70/70\n",
            "667/667 [==============================] - 42s 64ms/step - loss: 1.5596 - capsnet_loss: 0.0193 - decoder_loss: 3080.5497 - capsnet_accuracy: 0.9912 - decoder_accuracy: 3.2784e-05 - val_loss: 1.6891 - val_capsnet_loss: 0.1511 - val_decoder_loss: 3076.1719 - val_capsnet_accuracy: 0.8357 - val_decoder_accuracy: 1.4231e-04\n",
            "__________\n",
            "Time Took: 0:47:04.698284\n"
          ],
          "name": "stdout"
        }
      ]
    },
    {
      "cell_type": "markdown",
      "metadata": {
        "id": "sTJaBPnsNi81"
      },
      "source": [
        "3.6 Loss & Accuracy Curves"
      ]
    },
    {
      "cell_type": "code",
      "metadata": {
        "colab": {
          "base_uri": "https://localhost:8080/",
          "height": 490
        },
        "id": "CKGFjE16Bs1_",
        "outputId": "ccca421f-f6d6-4b9a-b5dc-7ce87845bd61"
      },
      "source": [
        "  # Loss Curves\n",
        "history = hist\n",
        "plt.figure(figsize=(25, 10))\n",
        "plt.subplot(1, 2, 1)\n",
        "plt.plot(history.history['loss'],'-g',linewidth=1.0)\n",
        "plt.plot(history.history['val_loss'],'r',linewidth=1.0)\n",
        "plt.legend(['Training loss', 'Validation Loss'],fontsize=14)\n",
        "plt.xlabel('Epochs ',fontsize=16)\n",
        "plt.ylabel('Loss',fontsize=16)\n",
        "plt.title('Loss Curves CREMA-D Dataset',fontsize=22)\n",
        "plt.savefig('Loss_curves.png')\n",
        "# Accuracy Curves\n",
        "plt.subplot(1, 2, 2)\n",
        "plt.plot(history.history['capsnet_accuracy'],'-g',linewidth=1.0)\n",
        "plt.plot(history.history['val_capsnet_accuracy'],'r',linewidth=1.0)\n",
        "plt.legend(['Training Accuracy', 'Validation Accuracy'],fontsize=14)\n",
        "plt.xlabel('Epochs ',fontsize=16)\n",
        "\n",
        "plt.ylabel('Accuracy',fontsize=16)\n",
        "plt.title('Accuracy Curves for CREMA-D Dataset',fontsize=22)\n",
        "plt.savefig('Accuracy_curves.png')\n",
        "plt.show()"
      ],
      "execution_count": null,
      "outputs": [
        {
          "output_type": "display_data",
          "data": {
            "image/png": "[encoded data removed]",
            "text/plain": [
              "<Figure size 1800x720 with 2 Axes>"
            ]
          },
          "metadata": {
            "tags": []
          }
        }
      ]
    },
    {
      "cell_type": "code",
      "metadata": {
        "id": "CPlcmUxLCUVE"
      },
      "source": [
        "abc = np.zeros(np.shape(y_test))"
      ],
      "execution_count": null,
      "outputs": []
    },
    {
      "cell_type": "markdown",
      "metadata": {
        "id": "sS8zjbJbNsqv"
      },
      "source": [
        "3.7 Model Prediction"
      ]
    },
    {
      "cell_type": "code",
      "metadata": {
        "id": "JmoTn7mT6Fve"
      },
      "source": [
        "y_pred, x_recon = model.predict([x_test,abc], batch_size=100)"
      ],
      "execution_count": null,
      "outputs": []
    },
    {
      "cell_type": "code",
      "metadata": {
        "colab": {
          "base_uri": "https://localhost:8080/"
        },
        "id": "CH4VuAMn9KwG",
        "outputId": "d8e475cf-c8a6-4046-d2cd-0e6d02a5c764"
      },
      "source": [
        "y2,x2 = model.predict([x_train[0:2],np.array([0,0])])"
      ],
      "execution_count": null,
      "outputs": [
        {
          "output_type": "stream",
          "text": [
            "WARNING:tensorflow:Model was constructed with shape (None, 6) for input KerasTensor(type_spec=TensorSpec(shape=(None, 6), dtype=tf.float32, name='input_5'), name='input_5', description=\"created by layer 'input_5'\"), but it was called on an input with incompatible shape (None, 1).\n"
          ],
          "name": "stdout"
        }
      ]
    },
    {
      "cell_type": "code",
      "metadata": {
        "id": "uGT4EyAGniUB",
        "cellView": "form"
      },
      "source": [
        "#@title\n",
        "model.save('/content/drive/MyDrive/Capsule Nets/mfcc/Crema D model.h5')"
      ],
      "execution_count": null,
      "outputs": []
    },
    {
      "cell_type": "code",
      "metadata": {
        "colab": {
          "base_uri": "https://localhost:8080/"
        },
        "id": "Eix5_LJn-kb-",
        "outputId": "107995a9-3fff-4abf-ec40-b319224af0a1"
      },
      "source": [
        "y2.round(2)"
      ],
      "execution_count": null,
      "outputs": [
        {
          "output_type": "execute_result",
          "data": {
            "text/plain": [
              "array([[0.04, 0.  , 0.  , 0.21, 0.02, 1.  ],\n",
              "       [0.06, 1.  , 0.01, 0.07, 0.  , 0.  ]], dtype=float32)"
            ]
          },
          "metadata": {
            "tags": []
          },
          "execution_count": 55
        }
      ]
    },
    {
      "cell_type": "code",
      "metadata": {
        "colab": {
          "base_uri": "https://localhost:8080/"
        },
        "id": "EZTZyW3b8OQz",
        "outputId": "9289594e-90ee-466f-c52b-54a5bb470c15"
      },
      "source": [
        "print('Test acc:', np.sum(np.argmax(y_pred, 1) == np.argmax(y_test, 1))/y_test.shape[0])"
      ],
      "execution_count": null,
      "outputs": [
        {
          "output_type": "stream",
          "text": [
            "Test acc: 0.8356848066033209\n"
          ],
          "name": "stdout"
        }
      ]
    },
    {
      "cell_type": "markdown",
      "metadata": {
        "id": "R2msbLEdEDIv"
      },
      "source": [
        "# **Code ends here!!**"
      ]
    },
    {
      "cell_type": "code",
      "metadata": {
        "id": "y392h3tBQKNp",
        "cellView": "form"
      },
      "source": [
        "#@title\n",
        "from sklearn.metrics import multilabel_confusion_matrix\n",
        "from sklearn.metrics import confusion_matrix\n",
        "from sklearn.metrics import plot_confusion_matrix"
      ],
      "execution_count": null,
      "outputs": []
    },
    {
      "cell_type": "code",
      "metadata": {
        "id": "hqpeaV2LDlez",
        "cellView": "form"
      },
      "source": [
        "#@title\n",
        "em = ['NEU', 'HAP', 'DIS', 'FEA', 'ANG', 'SAD']"
      ],
      "execution_count": null,
      "outputs": []
    },
    {
      "cell_type": "code",
      "metadata": {
        "id": "lwVQ4arEEnKh",
        "cellView": "form"
      },
      "source": [
        "#@title\n",
        "y_test_em = []\n",
        "for i in range(len(y_test)):\n",
        "  a = list(y_test[i])\n",
        "  y_test_em.append(em[a.index(max(a))])"
      ],
      "execution_count": null,
      "outputs": []
    },
    {
      "cell_type": "code",
      "metadata": {
        "id": "HkyL-ga9EcOF",
        "cellView": "form"
      },
      "source": [
        "#@title\n",
        "pred_em = []\n",
        "for i in range(len(y_pred)):\n",
        "  a = list(y_pred[i])\n",
        "  pred_em.append(em[a.index(max(a))])"
      ],
      "execution_count": null,
      "outputs": []
    },
    {
      "cell_type": "code",
      "metadata": {
        "colab": {
          "base_uri": "https://localhost:8080/"
        },
        "id": "RIxrvcPzQLpW",
        "cellView": "form",
        "outputId": "3929c659-6a7f-480b-bc4b-685409596d1d"
      },
      "source": [
        "#@title\n",
        "multilabel_confusion_matrix(y_test_em, pred_em,labels=['NEU', 'HAP', 'DIS', 'FEA', 'ANG', 'SAD'])"
      ],
      "execution_count": null,
      "outputs": [
        {
          "output_type": "execute_result",
          "data": {
            "text/plain": [
              "array([[[8663,  247],\n",
              "        [ 282, 1227]],\n",
              "\n",
              "       [[8328,  308],\n",
              "        [ 297, 1486]],\n",
              "\n",
              "       [[8478,  198],\n",
              "        [ 434, 1309]],\n",
              "\n",
              "       [[8358,  268],\n",
              "        [ 317, 1476]],\n",
              "\n",
              "       [[8428,  193],\n",
              "        [ 201, 1597]],\n",
              "\n",
              "       [[8128,  498],\n",
              "        [ 181, 1612]]])"
            ]
          },
          "metadata": {
            "tags": []
          },
          "execution_count": 74
        }
      ]
    },
    {
      "cell_type": "code",
      "metadata": {
        "colab": {
          "base_uri": "https://localhost:8080/"
        },
        "id": "4NoFzhBcUbU_",
        "cellView": "form",
        "outputId": "1b608aa2-a91b-485c-b9bd-bfc43bcca63f"
      },
      "source": [
        "#@title\n",
        "np.shape(y_test_em)"
      ],
      "execution_count": null,
      "outputs": [
        {
          "output_type": "execute_result",
          "data": {
            "text/plain": [
              "(10419,)"
            ]
          },
          "metadata": {
            "tags": []
          },
          "execution_count": 64
        }
      ]
    },
    {
      "cell_type": "code",
      "metadata": {
        "id": "AC_zVOMDUCGd",
        "cellView": "form"
      },
      "source": [
        "#@title\n",
        "res = confusion_matrix(y_test_em, pred_em,labels=['NEU', 'HAP', 'DIS', 'FEA', 'ANG', 'SAD'])"
      ],
      "execution_count": null,
      "outputs": []
    },
    {
      "cell_type": "code",
      "metadata": {
        "colab": {
          "base_uri": "https://localhost:8080/"
        },
        "id": "5dDn6dgCWHVT",
        "cellView": "form",
        "outputId": "12923822-e4ec-4e72-996a-648eb3fd9406"
      },
      "source": [
        "#@title\n",
        "res"
      ],
      "execution_count": null,
      "outputs": [
        {
          "output_type": "execute_result",
          "data": {
            "text/plain": [
              "array([[1227,   66,   56,   38,   16,  106],\n",
              "       [  54, 1486,   47,   62,   91,   43],\n",
              "       [  82,   73, 1309,   61,   54,  164],\n",
              "       [  26,   57,   33, 1476,   29,  172],\n",
              "       [  31,   94,   29,   34, 1597,   13],\n",
              "       [  54,   18,   33,   73,    3, 1612]])"
            ]
          },
          "metadata": {
            "tags": []
          },
          "execution_count": 95
        }
      ]
    },
    {
      "cell_type": "code",
      "metadata": {
        "id": "Dlbie5RMHSGO",
        "cellView": "form"
      },
      "source": [
        "#@title\n",
        "res1=list(res)"
      ],
      "execution_count": null,
      "outputs": []
    },
    {
      "cell_type": "code",
      "metadata": {
        "colab": {
          "base_uri": "https://localhost:8080/"
        },
        "id": "vKXGvlTmHgsr",
        "cellView": "form",
        "outputId": "d4c7d70f-9b8d-4cfd-96f0-ada9c23ee406"
      },
      "source": [
        "#@title\n",
        "res"
      ],
      "execution_count": null,
      "outputs": [
        {
          "output_type": "execute_result",
          "data": {
            "text/plain": [
              "array([[1227,   66,   56,   38,   16,  106],\n",
              "       [  54, 1486,   47,   62,   91,   43],\n",
              "       [  82,   73, 1309,   61,   54,  164],\n",
              "       [  26,   57,   33, 1476,   29,  172],\n",
              "       [  31,   94,   29,   34, 1597,   13],\n",
              "       [  54,   18,   33,   73,    3, 1612]])"
            ]
          },
          "metadata": {
            "tags": []
          },
          "execution_count": 97
        }
      ]
    },
    {
      "cell_type": "code",
      "metadata": {
        "id": "9EX9dcJjG60J",
        "cellView": "form"
      },
      "source": [
        "#@title\n",
        "l= []\n",
        "for i in range(6):\n",
        "  l.append(np.sum(res1[i]))"
      ],
      "execution_count": null,
      "outputs": []
    },
    {
      "cell_type": "code",
      "metadata": {
        "id": "_Z05MAArH1oa",
        "cellView": "form"
      },
      "source": [
        "#@title\n",
        "l = np.array(l).reshape(6,1)"
      ],
      "execution_count": null,
      "outputs": []
    },
    {
      "cell_type": "code",
      "metadata": {
        "id": "tyl39YYRH7ZS",
        "cellView": "form"
      },
      "source": [
        "#@title\n",
        "res = (res/l).round(2)"
      ],
      "execution_count": null,
      "outputs": []
    },
    {
      "cell_type": "code",
      "metadata": {
        "id": "pNrJQiIbW8mE",
        "cellView": "form"
      },
      "source": [
        "#@title\n",
        "import pandas as pd\n",
        "res = pd.DataFrame(res,index = ['NEU', 'HAP', 'DIS', 'FEA', 'ANG', 'SAD'],columns = ['NEU', 'HAP', 'DIS', 'FEA', 'ANG', 'SAD'])"
      ],
      "execution_count": null,
      "outputs": []
    },
    {
      "cell_type": "code",
      "metadata": {
        "id": "Olh8ovHgIGpi",
        "cellView": "form"
      },
      "source": [
        "#@title\n",
        "res.to_csv('Confusion_matrix.csv',index=False)"
      ],
      "execution_count": null,
      "outputs": []
    },
    {
      "cell_type": "code",
      "metadata": {
        "id": "boKootzpYF_L",
        "cellView": "form"
      },
      "source": [
        "#@title\n",
        "import seaborn as sns\n",
        "import matplotlib.pyplot as plt"
      ],
      "execution_count": null,
      "outputs": []
    },
    {
      "cell_type": "code",
      "metadata": {
        "colab": {
          "base_uri": "https://localhost:8080/",
          "height": 592
        },
        "id": "mjCo9IQyVrhH",
        "cellView": "form",
        "outputId": "f788bace-8ce8-4cd6-fd41-defc98a69b7d"
      },
      "source": [
        "#@title\n",
        "fig, ax = plt.subplots(figsize=(15,10))  \n",
        "fi = sns.heatmap(res, annot=True ,ax=ax,fmt='g' )\n",
        "fi = fi.get_figure()\n",
        "fi.savefig('out.png')"
      ],
      "execution_count": null,
      "outputs": [
        {
          "output_type": "display_data",
          "data": {
            "image/png": "[encoded data removed]",
            "text/plain": [
              "<Figure size 1080x720 with 2 Axes>"
            ]
          },
          "metadata": {
            "tags": []
          }
        }
      ]
    },
    {
      "cell_type": "code",
      "metadata": {
        "id": "WZmtCC80N-aU",
        "cellView": "form"
      },
      "source": [
        "#@title\n",
        "from sklearn.metrics import f1_score"
      ],
      "execution_count": null,
      "outputs": []
    },
    {
      "cell_type": "code",
      "metadata": {
        "colab": {
          "base_uri": "https://localhost:8080/"
        },
        "id": "3ZJ38YXWN_Ng",
        "cellView": "form",
        "outputId": "2e05c39e-c9e2-4dbc-e568-8ebe819ae66b"
      },
      "source": [
        "#@title\n",
        "f1_score(y_test_em, pred_em,labels=['ANG','SUR','HAP','CALM','FEAR','SAD','NEU','DIS'],average='weighted')"
      ],
      "execution_count": null,
      "outputs": [
        {
          "output_type": "execute_result",
          "data": {
            "text/plain": [
              "0.939645373277762"
            ]
          },
          "metadata": {
            "tags": []
          },
          "execution_count": 77
        }
      ]
    },
    {
      "cell_type": "code",
      "metadata": {
        "id": "VBgU63X3N_IT",
        "cellView": "form"
      },
      "source": [
        "#@title\n",
        "res1 = np.array(res1)"
      ],
      "execution_count": null,
      "outputs": []
    },
    {
      "cell_type": "code",
      "metadata": {
        "colab": {
          "base_uri": "https://localhost:8080/"
        },
        "id": "vLPwlFTMP_7M",
        "cellView": "form",
        "outputId": "27a95a16-1609-420d-f3d3-a811e9a24304"
      },
      "source": [
        "#@title\n",
        "s=0\n",
        "for i in range(8):\n",
        "  for j in range(i+1):\n",
        "    s = s + res1[i][j]\n",
        "t = 0\n",
        "for i in range(8):\n",
        "  t = t + res1[i][i]\n",
        "t"
      ],
      "execution_count": null,
      "outputs": [
        {
          "output_type": "execute_result",
          "data": {
            "text/plain": [
              "1957"
            ]
          },
          "metadata": {
            "tags": []
          },
          "execution_count": 86
        }
      ]
    },
    {
      "cell_type": "code",
      "metadata": {
        "colab": {
          "base_uri": "https://localhost:8080/"
        },
        "id": "LdpMcyTJQRGb",
        "cellView": "form",
        "outputId": "db8575cc-af31-4421-b902-4beef530bd52"
      },
      "source": [
        "#@title\n",
        "s1=0\n",
        "for i in range(8):\n",
        "  for j in range(i,8):\n",
        "    s1 = s1 + res1[i][j]\n",
        "s1"
      ],
      "execution_count": null,
      "outputs": [
        {
          "output_type": "execute_result",
          "data": {
            "text/plain": [
              "1953"
            ]
          },
          "metadata": {
            "tags": []
          },
          "execution_count": 91
        }
      ]
    },
    {
      "cell_type": "code",
      "metadata": {
        "id": "CSo42yTeRPIk",
        "cellView": "form"
      },
      "source": [
        "#@title\n",
        "prec = t/s1\n",
        "rec = t/s"
      ],
      "execution_count": null,
      "outputs": []
    },
    {
      "cell_type": "code",
      "metadata": {
        "colab": {
          "base_uri": "https://localhost:8080/"
        },
        "id": "JqGwc7TwRUQP",
        "cellView": "form",
        "outputId": "ae7130ed-7e1f-469e-fc8c-0a677d324c6e"
      },
      "source": [
        "#@title\n",
        "print(\"F1 Score is \",(2*prec*rec)/(rec+prec))"
      ],
      "execution_count": null,
      "outputs": [
        {
          "output_type": "stream",
          "text": [
            "F1 Score is  0.9687979539641944\n"
          ],
          "name": "stdout"
        }
      ]
    },
    {
      "cell_type": "code",
      "metadata": {
        "colab": {
          "base_uri": "https://localhost:8080/"
        },
        "id": "pzDa4RpuRC9g",
        "cellView": "form",
        "outputId": "9889bad2-9d54-4bd6-a5f0-53a527ccb069"
      },
      "source": [
        "#@title\n",
        "print('Recall is',t/s1)"
      ],
      "execution_count": null,
      "outputs": [
        {
          "output_type": "stream",
          "text": [
            "Recall is 0.9697900665642601\n"
          ],
          "name": "stdout"
        }
      ]
    },
    {
      "cell_type": "code",
      "metadata": {
        "colab": {
          "base_uri": "https://localhost:8080/"
        },
        "id": "dmG_UggzQcNi",
        "cellView": "form",
        "outputId": "8a1eadbd-e6cd-4e08-e87c-4e843b04f645"
      },
      "source": [
        "#@title\n",
        "print('Presision is ',t/s)"
      ],
      "execution_count": null,
      "outputs": [
        {
          "output_type": "stream",
          "text": [
            "Presision is  0.9678078691875319\n"
          ],
          "name": "stdout"
        }
      ]
    },
    {
      "cell_type": "code",
      "metadata": {
        "id": "r1UZBlTMGhBs",
        "cellView": "form"
      },
      "source": [
        "#@title\n",
        "#model.save('/content/drive/MyDrive/Capsule Nets/capsulenet_RAVDESS_93.h5')"
      ],
      "execution_count": null,
      "outputs": []
    },
    {
      "cell_type": "code",
      "metadata": {
        "id": "dVXngs1lezpy",
        "cellView": "form"
      },
      "source": [
        "#@title\n"
      ],
      "execution_count": null,
      "outputs": []
    },
    {
      "cell_type": "code",
      "metadata": {
        "id": "JybEi4oAezmg",
        "cellView": "form"
      },
      "source": [
        "#@title\n",
        "x_train1 = pickle.load(open('/content/drive/MyDrive/Capsule Nets/mfcc/x_train.p', 'rb'))\n",
        "# x_valid = pickle.load(open('/content/drive/MyDrive/Capsule Nets/mfcc/x_valid.p', 'rb'))\n",
        "# x_test = pickle.load(open('/content/drive/MyDrive/Capsule Nets/mfcc/x_test.p', 'rb'))\n",
        "y_train1 = pickle.load(open('/content/drive/MyDrive/Capsule Nets/mfcc/y_train.p', 'rb'))\n",
        "# y_valid = pickle.load(open('/content/drive/MyDrive/Capsule Nets/mfcc/y_valid.p', 'rb'))\n",
        "# y_test = pickle.load(open('/content/drive/MyDrive/Capsule Nets/mfcc/y_test.p', 'rb'))"
      ],
      "execution_count": null,
      "outputs": []
    },
    {
      "cell_type": "code",
      "metadata": {
        "colab": {
          "base_uri": "https://localhost:8080/"
        },
        "id": "_D2p1KD2g_HJ",
        "cellView": "form",
        "outputId": "4bb5b7bc-ebf6-4d9e-866b-35db10f71f7b"
      },
      "source": [
        "#@title\n",
        "np.shape(x_train1)"
      ],
      "execution_count": null,
      "outputs": [
        {
          "output_type": "execute_result",
          "data": {
            "text/plain": [
              "(6451, 58)"
            ]
          },
          "metadata": {
            "tags": []
          },
          "execution_count": 72
        }
      ]
    },
    {
      "cell_type": "code",
      "metadata": {
        "id": "9DitW1O5ezjY",
        "cellView": "form"
      },
      "source": [
        "#@title\n",
        "a,b = model.predict([x_train1,np.zeros([6451,6])], batch_size=100)"
      ],
      "execution_count": null,
      "outputs": []
    },
    {
      "cell_type": "code",
      "metadata": {
        "id": "XpSKXwXkhuLr",
        "cellView": "form"
      },
      "source": [
        "#@title\n",
        "d = {'ANG': 0,\n",
        " 'DIS': 1,\n",
        " 'FEA': 2,\n",
        " 'HAP': 3,\n",
        " 'NEU': 4,\n",
        " 'SAD': 5}"
      ],
      "execution_count": null,
      "outputs": []
    },
    {
      "cell_type": "code",
      "metadata": {
        "id": "xJFUwXFjinz5",
        "cellView": "form"
      },
      "source": [
        "#@title\n",
        "d12 = {}\n",
        "for i in d:\n",
        "  d12[d[i]] = i"
      ],
      "execution_count": null,
      "outputs": []
    },
    {
      "cell_type": "code",
      "metadata": {
        "colab": {
          "base_uri": "https://localhost:8080/"
        },
        "id": "1adCPO--iro2",
        "cellView": "form",
        "outputId": "2d880cbb-196f-4a8c-afc9-a8a486fd7e7d"
      },
      "source": [
        "#@title\n"
      ],
      "execution_count": null,
      "outputs": [
        {
          "output_type": "execute_result",
          "data": {
            "text/plain": [
              "{0: 'ANG', 1: 'DIS', 2: 'FEA', 3: 'HAP', 4: 'NEU', 5: 'SAD'}"
            ]
          },
          "metadata": {
            "tags": []
          },
          "execution_count": 90
        }
      ]
    },
    {
      "cell_type": "code",
      "metadata": {
        "id": "y23d5hlpezcW",
        "cellView": "form"
      },
      "source": [
        "#@title\n",
        "a1 =a.round(2)"
      ],
      "execution_count": null,
      "outputs": []
    },
    {
      "cell_type": "code",
      "metadata": {
        "id": "F5yBDQTxjA7c",
        "cellView": "form"
      },
      "source": [
        "#@title\n",
        "k=16"
      ],
      "execution_count": null,
      "outputs": []
    },
    {
      "cell_type": "code",
      "metadata": {
        "colab": {
          "base_uri": "https://localhost:8080/",
          "height": 35
        },
        "id": "KfmV1yoHh6cq",
        "cellView": "form",
        "outputId": "efff0c9e-68e5-4598-a67a-1ab86c61db95"
      },
      "source": [
        "#@title\n",
        "a2 = list(a1[k])\n",
        "d12[a2.index(max(a2))]"
      ],
      "execution_count": null,
      "outputs": [
        {
          "output_type": "execute_result",
          "data": {
            "application/vnd.google.colaboratory.intrinsic+json": {
              "type": "string"
            },
            "text/plain": [
              "'ANG'"
            ]
          },
          "metadata": {
            "tags": []
          },
          "execution_count": 103
        }
      ]
    },
    {
      "cell_type": "code",
      "metadata": {
        "colab": {
          "base_uri": "https://localhost:8080/",
          "height": 35
        },
        "id": "yMMoZTahezZM",
        "cellView": "form",
        "outputId": "cbb1d2ef-a0b7-4be9-83ea-eab1051af40c"
      },
      "source": [
        "#@title\n",
        "a3 = list(y_train1.round(2)[k])\n",
        "d11[a3.index(max(a3))]"
      ],
      "execution_count": null,
      "outputs": [
        {
          "output_type": "execute_result",
          "data": {
            "application/vnd.google.colaboratory.intrinsic+json": {
              "type": "string"
            },
            "text/plain": [
              "'fear'"
            ]
          },
          "metadata": {
            "tags": []
          },
          "execution_count": 104
        }
      ]
    },
    {
      "cell_type": "code",
      "metadata": {
        "id": "KozDD-57hxur",
        "cellView": "form"
      },
      "source": [
        "#@title\n",
        "d1= {'angry': 0,\n",
        " 'calm': 3,\n",
        " 'disgust': 7,\n",
        " 'fear': 4,\n",
        " 'happy': 2,\n",
        " 'neutral': 6,\n",
        " 'sad': 5,\n",
        " 'surprise': 1}"
      ],
      "execution_count": null,
      "outputs": []
    },
    {
      "cell_type": "code",
      "metadata": {
        "id": "yvnIbC_diUIi",
        "cellView": "form"
      },
      "source": [
        "#@title\n",
        "d11 = {}\n",
        "for i in d1:\n",
        "  d11[d1[i]] = i"
      ],
      "execution_count": null,
      "outputs": []
    },
    {
      "cell_type": "code",
      "metadata": {
        "id": "pk4y7XIbezVU",
        "cellView": "form"
      },
      "source": [
        "#@title\n"
      ],
      "execution_count": null,
      "outputs": []
    },
    {
      "cell_type": "code",
      "metadata": {
        "id": "VIZFwPCCezR1",
        "cellView": "form"
      },
      "source": [
        "#@title\n"
      ],
      "execution_count": null,
      "outputs": []
    },
    {
      "cell_type": "code",
      "metadata": {
        "id": "uG_RARnZezOR",
        "cellView": "form"
      },
      "source": [
        "#@title\n"
      ],
      "execution_count": null,
      "outputs": []
    }
  ]
}