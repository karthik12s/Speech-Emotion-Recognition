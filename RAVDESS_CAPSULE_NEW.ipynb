{
  "nbformat": 4,
  "nbformat_minor": 0,
  "metadata": {
    "accelerator": "GPU",
    "colab": {
      "name": "RAVDESS CAPSULE NEW.ipynb",
      "provenance": [],
      "collapsed_sections": [
        "oeiMQV-risxE",
        "R2msbLEdEDIv"
      ],
      "toc_visible": true,
      "include_colab_link": true
    },
    "kernelspec": {
      "display_name": "Python 3",
      "name": "python3"
    }
  },
  "cells": [
    {
      "cell_type": "markdown",
      "metadata": {
        "id": "view-in-github",
        "colab_type": "text"
      },
      "source": [
        "<a href=\"https://colab.research.google.com/github/karthik12s/Speech-Emotion-Recognition/blob/main/RAVDESS_CAPSULE_NEW.ipynb\" target=\"_parent\"><img src=\"https://colab.research.google.com/assets/colab-badge.svg\" alt=\"Open In Colab\"/></a>"
      ]
    },
    {
      "cell_type": "markdown",
      "metadata": {
        "id": "oeiMQV-risxE"
      },
      "source": [
        "# **3. Capsule Net Model Training**"
      ]
    },
    {
      "cell_type": "code",
      "metadata": {
        "id": "A0QBKszJ5CbR"
      },
      "source": [
        "import pickle"
      ],
      "execution_count": null,
      "outputs": []
    },
    {
      "cell_type": "code",
      "metadata": {
        "colab": {
          "base_uri": "https://localhost:8080/"
        },
        "id": "fF0Vdzrz5i9t",
        "outputId": "14c59553-1f5d-4741-8d4a-1bb9c78690a7"
      },
      "source": [
        "!pip install keras==2.1.6\n",
        "# !pip install tensorflow==1.7.0"
      ],
      "execution_count": null,
      "outputs": [
        {
          "output_type": "stream",
          "text": [
            "Collecting keras==2.1.6\n",
            "\u001b[?25l  Downloading https://files.pythonhosted.org/packages/54/e8/eaff7a09349ae9bd40d3ebaf028b49f5e2392c771f294910f75bb608b241/Keras-2.1.6-py2.py3-none-any.whl (339kB)\n",
            "\r\u001b[K     |█                               | 10kB 22.3MB/s eta 0:00:01\r\u001b[K     |██                              | 20kB 24.8MB/s eta 0:00:01\r\u001b[K     |███                             | 30kB 9.1MB/s eta 0:00:01\r\u001b[K     |███▉                            | 40kB 3.2MB/s eta 0:00:01\r\u001b[K     |████▉                           | 51kB 3.9MB/s eta 0:00:01\r\u001b[K     |█████▉                          | 61kB 4.5MB/s eta 0:00:01\r\u001b[K     |██████▊                         | 71kB 4.6MB/s eta 0:00:01\r\u001b[K     |███████▊                        | 81kB 4.9MB/s eta 0:00:01\r\u001b[K     |████████▊                       | 92kB 5.3MB/s eta 0:00:01\r\u001b[K     |█████████▋                      | 102kB 5.5MB/s eta 0:00:01\r\u001b[K     |██████████▋                     | 112kB 5.5MB/s eta 0:00:01\r\u001b[K     |███████████▋                    | 122kB 5.5MB/s eta 0:00:01\r\u001b[K     |████████████▌                   | 133kB 5.5MB/s eta 0:00:01\r\u001b[K     |█████████████▌                  | 143kB 5.5MB/s eta 0:00:01\r\u001b[K     |██████████████▌                 | 153kB 5.5MB/s eta 0:00:01\r\u001b[K     |███████████████▍                | 163kB 5.5MB/s eta 0:00:01\r\u001b[K     |████████████████▍               | 174kB 5.5MB/s eta 0:00:01\r\u001b[K     |█████████████████▍              | 184kB 5.5MB/s eta 0:00:01\r\u001b[K     |██████████████████▎             | 194kB 5.5MB/s eta 0:00:01\r\u001b[K     |███████████████████▎            | 204kB 5.5MB/s eta 0:00:01\r\u001b[K     |████████████████████▎           | 215kB 5.5MB/s eta 0:00:01\r\u001b[K     |█████████████████████▎          | 225kB 5.5MB/s eta 0:00:01\r\u001b[K     |██████████████████████▏         | 235kB 5.5MB/s eta 0:00:01\r\u001b[K     |███████████████████████▏        | 245kB 5.5MB/s eta 0:00:01\r\u001b[K     |████████████████████████▏       | 256kB 5.5MB/s eta 0:00:01\r\u001b[K     |█████████████████████████       | 266kB 5.5MB/s eta 0:00:01\r\u001b[K     |██████████████████████████      | 276kB 5.5MB/s eta 0:00:01\r\u001b[K     |███████████████████████████     | 286kB 5.5MB/s eta 0:00:01\r\u001b[K     |████████████████████████████    | 296kB 5.5MB/s eta 0:00:01\r\u001b[K     |█████████████████████████████   | 307kB 5.5MB/s eta 0:00:01\r\u001b[K     |██████████████████████████████  | 317kB 5.5MB/s eta 0:00:01\r\u001b[K     |██████████████████████████████▉ | 327kB 5.5MB/s eta 0:00:01\r\u001b[K     |███████████████████████████████▉| 337kB 5.5MB/s eta 0:00:01\r\u001b[K     |████████████████████████████████| 348kB 5.5MB/s \n",
            "\u001b[?25hRequirement already satisfied: pyyaml in /usr/local/lib/python3.7/dist-packages (from keras==2.1.6) (3.13)\n",
            "Requirement already satisfied: h5py in /usr/local/lib/python3.7/dist-packages (from keras==2.1.6) (2.10.0)\n",
            "Requirement already satisfied: scipy>=0.14 in /usr/local/lib/python3.7/dist-packages (from keras==2.1.6) (1.4.1)\n",
            "Requirement already satisfied: six>=1.9.0 in /usr/local/lib/python3.7/dist-packages (from keras==2.1.6) (1.15.0)\n",
            "Requirement already satisfied: numpy>=1.9.1 in /usr/local/lib/python3.7/dist-packages (from keras==2.1.6) (1.19.5)\n",
            "Installing collected packages: keras\n",
            "  Found existing installation: Keras 2.4.3\n",
            "    Uninstalling Keras-2.4.3:\n",
            "      Successfully uninstalled Keras-2.4.3\n",
            "Successfully installed keras-2.1.6\n"
          ],
          "name": "stdout"
        }
      ]
    },
    {
      "cell_type": "code",
      "metadata": {
        "id": "iRh2Xntu9vVJ"
      },
      "source": [
        "from tensorflow.keras.layers import Dense,Dropout,Activation,Multiply,BatchNormalization, Flatten,TimeDistributed,LSTM"
      ],
      "execution_count": null,
      "outputs": []
    },
    {
      "cell_type": "code",
      "metadata": {
        "colab": {
          "base_uri": "https://localhost:8080/"
        },
        "id": "7O9HIiyrskLX",
        "outputId": "66a2f3aa-9972-434b-b363-926b32caa4d0"
      },
      "source": [
        "#Author: Xifeng Guo, E-mail: `guoxifeng1990@163.com`, Github: `https://github.com/XifengGuo/CapsNet-Keras`\n",
        "\n",
        "\n",
        "import keras.backend as K\n",
        "import tensorflow as tf\n",
        "from tensorflow.keras import initializers, layers, models\n",
        "\n",
        "\n",
        "class Length(layers.Layer):\n",
        "    \"\"\"\n",
        "    Compute the length of vectors. This is used to compute a Tensor that has the same shape with y_true in margin_loss.\n",
        "    Using this layer as model's output can directly predict labels by using `y_pred = np.argmax(model.predict(x), 1)`\n",
        "    inputs: shape=[None, num_vectors, dim_vector]\n",
        "    output: shape=[None, num_vectors]\n",
        "    \"\"\"\n",
        "    def call(self, inputs, **kwargs):\n",
        "        return K.sqrt(K.sum(K.square(inputs), -1) + K.epsilon())\n",
        "\n",
        "    def compute_output_shape(self, input_shape):\n",
        "        return input_shape[:-1]\n",
        "\n",
        "    def get_config(self):\n",
        "        config = super(Length, self).get_config()\n",
        "        return config\n",
        "\n",
        "\n",
        "class Mask(layers.Layer):\n",
        "    \"\"\"\n",
        "    Mask a Tensor with shape=[None, num_capsule, dim_vector] either by the capsule with max length or by an additional \n",
        "    input mask. Except the max-length capsule (or specified capsule), all vectors are masked to zeros. Then flatten the\n",
        "    masked Tensor.\n",
        "    For example:\n",
        "        ```\n",
        "        x = keras.layers.Input(shape=[8, 3, 2])  # batch_size=8, each sample contains 3 capsules with dim_vector=2\n",
        "        y = keras.layers.Input(shape=[8, 3])  # True labels. 8 samples, 3 classes, one-hot coding.\n",
        "        out = Mask()(x)  # out.shape=[8, 6]\n",
        "        # or\n",
        "        out2 = Mask()([x, y])  # out2.shape=[8,6]. Masked with true labels y. Of course y can also be manipulated.\n",
        "        ```\n",
        "    \"\"\"\n",
        "    def call(self, inputs, **kwargs):\n",
        "        if type(inputs) is list:  # true label is provided with shape = [None, n_classes], i.e. one-hot code.\n",
        "            assert len(inputs) == 2\n",
        "            inputs, mask = inputs\n",
        "        else:  # if no true label, mask by the max length of capsules. Mainly used for prediction\n",
        "            # compute lengths of capsules\n",
        "            x = K.sqrt(K.sum(K.square(inputs), -1))\n",
        "            # generate the mask which is a one-hot code.\n",
        "            # mask.shape=[None, n_classes]=[None, num_capsule]\n",
        "            mask = K.one_hot(indices=K.argmax(x, 1), num_classes=x.get_shape().as_list()[1])\n",
        "\n",
        "        # inputs.shape=[None, num_capsule, dim_capsule]\n",
        "        # mask.shape=[None, num_capsule]\n",
        "        # masked.shape=[None, num_capsule * dim_capsule]\n",
        "        masked = K.batch_flatten(inputs * K.expand_dims(mask, -1))\n",
        "        return masked\n",
        "\n",
        "    def compute_output_shape(self, input_shape):\n",
        "        if type(input_shape[0]) is tuple:  # true label provided\n",
        "            return tuple([None, input_shape[0][1] * input_shape[0][2]])\n",
        "        else:  # no true label provided\n",
        "            return tuple([None, input_shape[1] * input_shape[2]])\n",
        "\n",
        "    def get_config(self):\n",
        "        config = super(Mask, self).get_config()\n",
        "        return config\n",
        "\n",
        "\n",
        "def squash(vectors, axis=-1):\n",
        "    \"\"\"\n",
        "    The non-linear activation used in Capsule. It drives the length of a large vector to near 1 and small vector to 0\n",
        "    :param vectors: some vectors to be squashed, N-dim tensor\n",
        "    :param axis: the axis to squash\n",
        "    :return: a Tensor with same shape as input vectors\n",
        "    \"\"\"\n",
        "    s_squared_norm = K.sum(K.square(vectors), axis, keepdims=True)\n",
        "    scale = s_squared_norm / (1 + s_squared_norm) / K.sqrt(s_squared_norm + K.epsilon())\n",
        "    return scale * vectors\n",
        "\n",
        "\n",
        "class CapsuleLayer(layers.Layer):\n",
        "    \"\"\"\n",
        "    The capsule layer. It is similar to Dense layer. Dense layer has `in_num` inputs, each is a scalar, the output of the \n",
        "    neuron from the former layer, and it has `out_num` output neurons. CapsuleLayer just expand the output of the neuron\n",
        "    from scalar to vector. So its input shape = [None, input_num_capsule, input_dim_capsule] and output shape = \\\n",
        "    [None, num_capsule, dim_capsule]. For Dense Layer, input_dim_capsule = dim_capsule = 1.\n",
        "    \n",
        "    :param num_capsule: number of capsules in this layer\n",
        "    :param dim_capsule: dimension of the output vectors of the capsules in this layer\n",
        "    :param routings: number of iterations for the routing algorithm\n",
        "    \"\"\"\n",
        "    def __init__(self, num_capsule, dim_capsule, routings=3,\n",
        "                 kernel_initializer='random_uniform',\n",
        "                 **kwargs):\n",
        "        super(CapsuleLayer, self).__init__(**kwargs)\n",
        "        self.num_capsule = num_capsule\n",
        "        self.dim_capsule = dim_capsule\n",
        "        self.routings = routings\n",
        "        self.kernel_initializer = initializers.get(kernel_initializer)\n",
        "\n",
        "    def build(self, input_shape):\n",
        "        assert len(input_shape) >= 3, \"The input Tensor should have shape=[None, input_num_capsule, input_dim_capsule]\"\n",
        "        self.input_num_capsule = input_shape[1]\n",
        "        self.input_dim_capsule = input_shape[2]\n",
        "\n",
        "        # Transform matrix\n",
        "        self.W = self.add_weight(shape=[self.num_capsule, self.input_num_capsule,\n",
        "                                        self.dim_capsule, self.input_dim_capsule],\n",
        "                                 initializer=self.kernel_initializer,\n",
        "                                 name='W')\n",
        "\n",
        "        self.built = True\n",
        "\n",
        "    def call(self, inputs, training=None):\n",
        "        # inputs.shape=[None, input_num_capsule, input_dim_capsule]\n",
        "        # inputs_expand.shape=[None, 1, input_num_capsule, input_dim_capsule]\n",
        "        inputs_expand = K.expand_dims(inputs, 1)\n",
        "\n",
        "        # Replicate num_capsule dimension to prepare being multiplied by W\n",
        "        # inputs_tiled.shape=[None, num_capsule, input_num_capsule, input_dim_capsule]\n",
        "        inputs_tiled = K.tile(inputs_expand, [1, self.num_capsule, 1, 1])\n",
        "\n",
        "        # Compute `inputs * W` by scanning inputs_tiled on dimension 0.\n",
        "        # x.shape=[num_capsule, input_num_capsule, input_dim_capsule]\n",
        "        # W.shape=[num_capsule, input_num_capsule, dim_capsule, input_dim_capsule]\n",
        "        # Regard the first two dimensions as `batch` dimension,\n",
        "        # then matmul: [input_dim_capsule] x [dim_capsule, input_dim_capsule]^T -> [dim_capsule].\n",
        "        # inputs_hat.shape = [None, num_capsule, input_num_capsule, dim_capsule]\n",
        "        inputs_hat = K.map_fn(lambda x: K.batch_dot(x, self.W, [2, 3]), elems=inputs_tiled)\n",
        "\n",
        "        # Begin: Routing algorithm ---------------------------------------------------------------------#\n",
        "        # The prior for coupling coefficient, initialized as zeros.\n",
        "        # b.shape = [None, self.num_capsule, self.input_num_capsule].\n",
        "        b = tf.zeros(shape=[K.shape(inputs_hat)[0], self.num_capsule, self.input_num_capsule])\n",
        "\n",
        "        assert self.routings > 0, 'The routings should be > 0.'\n",
        "        for i in range(self.routings):\n",
        "            # c.shape=[batch_size, num_capsule, input_num_capsule]\n",
        "            c = tf.nn.softmax(b)\n",
        "\n",
        "            # c.shape =  [batch_size, num_capsule, input_num_capsule]\n",
        "            # inputs_hat.shape=[None, num_capsule, input_num_capsule, dim_capsule]\n",
        "            # The first two dimensions as `batch` dimension,\n",
        "            # then matmal: [input_num_capsule] x [input_num_capsule, dim_capsule] -> [dim_capsule].\n",
        "            # outputs.shape=[None, num_capsule, dim_capsule]\n",
        "            outputs = squash(K.batch_dot(c, inputs_hat, [2, 2]))  # [None, 10, 16]\n",
        "\n",
        "            if i < self.routings - 1:\n",
        "                # outputs.shape =  [None, num_capsule, dim_capsule]\n",
        "                # inputs_hat.shape=[None, num_capsule, input_num_capsule, dim_capsule]\n",
        "                # The first two dimensions as `batch` dimension,\n",
        "                # then matmal: [dim_capsule] x [input_num_capsule, dim_capsule]^T -> [input_num_capsule].\n",
        "                # b.shape=[batch_size, num_capsule, input_num_capsule]\n",
        "                b += K.batch_dot(outputs, inputs_hat, [2, 3])\n",
        "        # End: Routing algorithm -----------------------------------------------------------------------#\n",
        "\n",
        "        return outputs\n",
        "\n",
        "    def compute_output_shape(self, input_shape):\n",
        "        return tuple([None, self.num_capsule, self.dim_capsule])\n",
        "\n",
        "    def get_config(self):\n",
        "        config = {\n",
        "            'num_capsule': self.num_capsule,\n",
        "            'dim_capsule': self.dim_capsule,\n",
        "            'routings': self.routings\n",
        "        }\n",
        "        base_config = super(CapsuleLayer, self).get_config()\n",
        "        return dict(list(base_config.items()) + list(config.items()))\n",
        "\n",
        "\n",
        "def PrimaryCap(inputs, dim_capsule, n_channels, kernel_size, strides, padding):\n",
        "    \"\"\"\n",
        "    Apply Conv2D `n_channels` times and concatenate all capsules\n",
        "    :param inputs: 4D tensor, shape=[None, width, height, channels]\n",
        "    :param dim_capsule: the dim of the output vector of capsule\n",
        "    :param n_channels: the number of types of capsules\n",
        "    :return: output tensor, shape=[None, num_capsule, dim_capsule]\n",
        "    \"\"\"\n",
        "    output = (layers.Conv1D(filters=dim_capsule*n_channels, kernel_size=kernel_size, strides=strides, padding=padding,\n",
        "                           name='primarycap_conv2d'))(inputs)\n",
        "    outputs = (layers.Reshape(target_shape=[-1, dim_capsule], name='primarycap_reshape'))(output)\n",
        "    return (layers.Lambda(squash, name='primarycap_squash'))(outputs)"
      ],
      "execution_count": null,
      "outputs": [
        {
          "output_type": "stream",
          "text": [
            "Using TensorFlow backend.\n"
          ],
          "name": "stderr"
        }
      ]
    },
    {
      "cell_type": "markdown",
      "metadata": {
        "id": "uIfFfiusjBpF"
      },
      "source": [
        "3.1 Capsule Net Model"
      ]
    },
    {
      "cell_type": "code",
      "metadata": {
        "id": "Mh-WPIttsI1Z"
      },
      "source": [
        "def Caps1Net(input_shape, n_class, routings):\n",
        "    \"\"\"\n",
        "    A Capsule Network on MNIST.\n",
        "    :param input_shape: data shape, 3d, [width, height, channels]\n",
        "    :param n_class: number of classes\n",
        "    :param routings: number of routing iterations\n",
        "    :return: Two Keras Models, the first one used for training, and the second one for evaluation.\n",
        "            `eval_model` can also be used for training.\n",
        "    \"\"\"\n",
        "    x = layers.Input(shape=input_shape)\n",
        "    x1 = x\n",
        "    # Layer 1: Just a conventional Conv2D layer\n",
        "    conv1 = layers.Conv1D(filters=128, kernel_size=9, strides=1, padding='valid', activation='relu', name='conv1')(x)\n",
        "\n",
        "    # Layer 2: Conv2D layer with `squash` activation, then reshape to [None, num_capsule, dim_capsule]\n",
        "    primarycaps = PrimaryCap(conv1, dim_capsule=8, n_channels=32, kernel_size=9, strides=2, padding='valid')\n",
        "\n",
        "    # Layer 3: Capsule layer. Routing algorithm works here.\n",
        "    digitcaps = CapsuleLayer(num_capsule=n_class, dim_capsule=16, routings=routings,\n",
        "                             name='digitcaps')(primarycaps)\n",
        "\n",
        "    # Layer 4: This is an auxiliary layer to replace each capsule with its length. Just to match the true label's shape.\n",
        "    # If using tensorflow, this will not be necessary. :)\n",
        "    out_caps = Length(name='capsnet')(digitcaps)\n",
        "\n",
        "    # Decoder network.\n",
        "    y = layers.Input(shape=(n_class,))\n",
        "    masked_by_y = Mask()([digitcaps, y])  # The true label is used to mask the output of capsule layer. For training\n",
        "    masked = Mask()(digitcaps)  # Mask using the capsule with maximal length. For prediction\n",
        "\n",
        "    # Shared Decoder model in training and prediction\n",
        "    decoder = models.Sequential(name='decoder')\n",
        "    #decoder.add(layers.Dense(512, activation='relu', input_dim=16*n_class))\n",
        "    #decoder.add(layers.Dense(1024, activation='relu'))\n",
        "    decoder.add(layers.Dense(np.prod((input_shape)), activation='sigmoid',input_dim=16*n_class))\n",
        "    decoder.add(layers.Reshape(target_shape=(input_shape), name='out_recon'))\n",
        "\n",
        "    # Models for training and evaluation (prediction)\n",
        "    train_model = models.Model([x1, y], [out_caps, decoder(masked_by_y)])\n",
        "    eval_model = models.Model(x1, [out_caps, decoder(masked)])\n",
        "\n",
        "    # manipulate model\n",
        "    noise = layers.Input(shape=(n_class, 16))\n",
        "    noised_digitcaps = layers.Add()([digitcaps, noise])\n",
        "    masked_noised_y = Mask()([noised_digitcaps, y])\n",
        "    manipulate_model = models.Model([x1, y, noise], decoder(masked_noised_y))\n",
        "    return train_model, eval_model, manipulate_model"
      ],
      "execution_count": null,
      "outputs": []
    },
    {
      "cell_type": "code",
      "metadata": {
        "id": "bPX4oRq-yXfu"
      },
      "source": [
        "import numpy as np"
      ],
      "execution_count": null,
      "outputs": []
    },
    {
      "cell_type": "code",
      "metadata": {
        "colab": {
          "base_uri": "https://localhost:8080/"
        },
        "id": "PnbrLOJJwjuy",
        "outputId": "bffc93ad-643c-4db0-8d42-dc4267c0fb1e"
      },
      "source": [
        "model, eval_model, manipulate_model = Caps1Net(input_shape=(58,1),\n",
        "                                                  n_class=8,\n",
        "                                                  routings=3)"
      ],
      "execution_count": null,
      "outputs": [
        {
          "output_type": "stream",
          "text": [
            "WARNING:tensorflow:From /usr/local/lib/python3.7/dist-packages/tensorflow/python/util/deprecation.py:605: calling map_fn_v2 (from tensorflow.python.ops.map_fn) with dtype is deprecated and will be removed in a future version.\n",
            "Instructions for updating:\n",
            "Use fn_output_signature instead\n"
          ],
          "name": "stdout"
        }
      ]
    },
    {
      "cell_type": "code",
      "metadata": {
        "id": "aNaSP7nA849c"
      },
      "source": [
        "from tensorflow.keras.utils import plot_model\n",
        "from IPython.display import Image"
      ],
      "execution_count": null,
      "outputs": []
    },
    {
      "cell_type": "code",
      "metadata": {
        "id": "Yxf6Sm9k8zzq"
      },
      "source": [
        "# plot_model(model, show_shapes=True, show_layer_names=True, to_file='model.png')\n",
        "# Image(retina=True, filename='model.png')"
      ],
      "execution_count": null,
      "outputs": []
    },
    {
      "cell_type": "markdown",
      "metadata": {
        "id": "T8gJsTY_jGg5"
      },
      "source": [
        "3.2 Model Summary"
      ]
    },
    {
      "cell_type": "code",
      "metadata": {
        "colab": {
          "base_uri": "https://localhost:8080/"
        },
        "id": "kiH0KYtb1uj5",
        "outputId": "a5321b53-a718-4929-f63b-41a481a1732b"
      },
      "source": [
        "model.summary()#"
      ],
      "execution_count": null,
      "outputs": [
        {
          "output_type": "stream",
          "text": [
            "Model: \"model\"\n",
            "__________________________________________________________________________________________________\n",
            "Layer (type)                    Output Shape         Param #     Connected to                     \n",
            "==================================================================================================\n",
            "input_1 (InputLayer)            [(None, 58, 1)]      0                                            \n",
            "__________________________________________________________________________________________________\n",
            "conv1 (Conv1D)                  (None, 50, 128)      1280        input_1[0][0]                    \n",
            "__________________________________________________________________________________________________\n",
            "primarycap_conv2d (Conv1D)      (None, 21, 256)      295168      conv1[0][0]                      \n",
            "__________________________________________________________________________________________________\n",
            "primarycap_reshape (Reshape)    (None, 672, 8)       0           primarycap_conv2d[0][0]          \n",
            "__________________________________________________________________________________________________\n",
            "primarycap_squash (Lambda)      (None, 672, 8)       0           primarycap_reshape[0][0]         \n",
            "__________________________________________________________________________________________________\n",
            "digitcaps (CapsuleLayer)        (None, 8, 16)        688128      primarycap_squash[0][0]          \n",
            "__________________________________________________________________________________________________\n",
            "input_2 (InputLayer)            [(None, 8)]          0                                            \n",
            "__________________________________________________________________________________________________\n",
            "mask (Mask)                     (None, None)         0           digitcaps[0][0]                  \n",
            "                                                                 input_2[0][0]                    \n",
            "__________________________________________________________________________________________________\n",
            "capsnet (Length)                (None, 8)            0           digitcaps[0][0]                  \n",
            "__________________________________________________________________________________________________\n",
            "decoder (Sequential)            (None, 58, 1)        7482        mask[0][0]                       \n",
            "==================================================================================================\n",
            "Total params: 992,058\n",
            "Trainable params: 992,058\n",
            "Non-trainable params: 0\n",
            "__________________________________________________________________________________________________\n"
          ],
          "name": "stdout"
        }
      ]
    },
    {
      "cell_type": "markdown",
      "metadata": {
        "id": "CRL37qWnjKLg"
      },
      "source": [
        "3.3 Loss Function Definition"
      ]
    },
    {
      "cell_type": "code",
      "metadata": {
        "id": "Y-SNDR97k1FX"
      },
      "source": [
        "def margin_loss(y_true, y_pred):\n",
        "    \"\"\"\n",
        "    Margin loss for Eq.(4). When y_true[i, :] contains not just one `1`, this loss should work too. Not test it.\n",
        "    :param y_true: [None, n_classes]\n",
        "    :param y_pred: [None, num_capsule]\n",
        "    :return: a scalar loss value.\n",
        "    \"\"\"\n",
        "    L = y_true * K.square(K.maximum(0., 0.9 - y_pred)) + \\\n",
        "        0.5 * (1 - y_true) * K.square(K.maximum(0., y_pred - 0.1))\n",
        "\n",
        "    return K.mean(K.sum(L, 1))"
      ],
      "execution_count": null,
      "outputs": []
    },
    {
      "cell_type": "markdown",
      "metadata": {
        "id": "CH6WJvFojOkg"
      },
      "source": [
        "3.4 Training the model"
      ]
    },
    {
      "cell_type": "code",
      "metadata": {
        "id": "oc2APzjHjwzq"
      },
      "source": [
        "def train(model, data, epochs, epoch_size_frac=1.0):\n",
        "    \"\"\"\n",
        "    Training a CapsuleNet\n",
        "    :param model: the CapsuleNet model\n",
        "    :param data: a tuple containing training and testing data, like `((x_train, y_train), (x_test, y_test))`\n",
        "    :param args: arguments\n",
        "    :return: The trained model\n",
        "    \"\"\"\n",
        "    start = datetime.today()\n",
        "    model.compile(optimizer='adam',\n",
        "                  loss=[margin_loss, 'mse'],\n",
        "                  loss_weights=[1., 0.0005],\n",
        "                  metrics={'out_caps': 'accuracy'})\n",
        "    (x_train, y_train), (x_test, y_test) = data\n",
        "    print(type(x_test))\n",
        "    print(type([[x_test, y_test],[y_test, x_test]]))\n",
        "    # callbacks\n",
        "    log = callbacks.CSVLogger('log.csv')\n",
        "    checkpoint = callbacks.ModelCheckpoint(\n",
        "        'weights-{epoch:02d}.h5',\n",
        "        save_best_only=True, \n",
        "        save_weights_only=True, \n",
        "        verbose=False)\n",
        "    lr_decay = callbacks.LearningRateScheduler(\n",
        "        schedule=lambda epoch: 0.001 * np.exp(-epoch / 10.))\n",
        "\n",
        "    # compile the model\n",
        "    model.compile(optimizer='adam',\n",
        "                  loss=[margin_loss, 'mse'],\n",
        "                  loss_weights=[1., 0.0005],\n",
        "                  metrics=['accuracy'])\n",
        "\n",
        "    \n",
        "    # Training without data augmentation:\n",
        "    hist = model.fit([x_train, y_train], [y_train, x_train], batch_size=50, epochs=50,\n",
        "              validation_data=([x_test, y_test], [y_test, x_test]))\n",
        "    \n",
        "\n",
        "    '''# -----------------------------------Begin: Training with data augmentation -----------------------------------#\n",
        "    def train_generator(x, y, batch_size, shift_fraction=0.):\n",
        "        train_datagen = ImageDataGenerator(width_shift_range=shift_fraction,\n",
        "                                           height_shift_range=shift_fraction)  # shift up to 2 pixel for MNIST\n",
        "        generator = train_datagen.flow(x, y, batch_size=batch_size)\n",
        "        while 1:\n",
        "            x_batch, y_batch = generator.next()\n",
        "            yield ([x_batch, y_batch], [y_batch, x_batch])\n",
        "\n",
        "    # Training with data augmentation. If shift_fraction=0., also no augmentation.\n",
        "    hist = model.fit_generator(\n",
        "                        (x_train, y_train),\n",
        "                        steps_per_epoch=50,\n",
        "                        epochs=epochs,\n",
        "                        verbose=2,\n",
        "                        validation_data=[[x_test, y_test], \n",
        "                                         [y_test, x_test]],\n",
        "                        callbacks=[log, checkpoint, lr_decay])'''\n",
        "    #hist=model.fit(x_train, x_train, batch_size=64, epochs=150, validation_data=(x_test, y_test), callbacks=[log, checkpoint, lr_decay])\n",
        "    # -----------------------------------End: Training with data augmentation -----------------------------------#\n",
        "\n",
        "    end = datetime.today()\n",
        "    \n",
        "    print(\"_\"*10)\n",
        "    print(\"Time Took: {}\".format(end - start))\n",
        "    return hist"
      ],
      "execution_count": null,
      "outputs": []
    },
    {
      "cell_type": "markdown",
      "metadata": {
        "id": "WlEsxFuRjVqg"
      },
      "source": [
        "3.5 MFCC Visualisation"
      ]
    },
    {
      "cell_type": "code",
      "metadata": {
        "id": "gOq_tjnWL13q"
      },
      "source": [
        "import pickle\n",
        "import matplotlib.pyplot as plt"
      ],
      "execution_count": null,
      "outputs": []
    },
    {
      "cell_type": "code",
      "metadata": {
        "id": "UQBKN7bYtJx3",
        "cellView": "form"
      },
      "source": [
        "#@title\n",
        "x_train = pickle.load(open('/content/drive/MyDrive/Capsule Nets/mfcc/x_train.p', 'rb'))\n",
        "x_valid = pickle.load(open('/content/drive/MyDrive/Capsule Nets/mfcc/x_valid.p', 'rb'))\n",
        "x_test = pickle.load(open('/content/drive/MyDrive/Capsule Nets/mfcc/x_test.p', 'rb'))\n",
        "y_train = pickle.load(open('/content/drive/MyDrive/Capsule Nets/mfcc/y_train.p', 'rb'))\n",
        "y_valid = pickle.load(open('/content/drive/MyDrive/Capsule Nets/mfcc/y_valid.p', 'rb'))\n",
        "y_test = pickle.load(open('/content/drive/MyDrive/Capsule Nets/mfcc/y_test.p', 'rb'))"
      ],
      "execution_count": null,
      "outputs": []
    },
    {
      "cell_type": "code",
      "metadata": {
        "colab": {
          "base_uri": "https://localhost:8080/",
          "height": 284
        },
        "id": "E8csfzWaLnCx",
        "outputId": "02239022-b53b-4092-e94b-afe62ef868da"
      },
      "source": [
        "plt.imshow((x_train[3]).reshape(58,1))"
      ],
      "execution_count": null,
      "outputs": [
        {
          "output_type": "execute_result",
          "data": {
            "text/plain": [
              "<matplotlib.image.AxesImage at 0x7fef88665810>"
            ]
          },
          "metadata": {
            "tags": []
          },
          "execution_count": 11
        },
        {
          "output_type": "display_data",
          "data": {
            "image/png": "[encoded data removed]",
            "text/plain": [
              "<Figure size 432x288 with 1 Axes>"
            ]
          },
          "metadata": {
            "tags": []
          }
        }
      ]
    },
    {
      "cell_type": "code",
      "metadata": {
        "id": "xE0MJK890l82"
      },
      "source": [
        "X_train = x_train\n",
        "X_test = x_test"
      ],
      "execution_count": null,
      "outputs": []
    },
    {
      "cell_type": "code",
      "metadata": {
        "id": "Gs9FGHZm6gtc"
      },
      "source": [
        "data=(X_train, y_train), (X_test, y_test)"
      ],
      "execution_count": null,
      "outputs": []
    },
    {
      "cell_type": "code",
      "metadata": {
        "id": "Lt8G5z9O6mB1"
      },
      "source": [
        "from keras.preprocessing.image import ImageDataGenerator\n",
        "from keras import callbacks\n",
        "from keras.utils.vis_utils import plot_model\n",
        "from datetime import datetime \n",
        "from numpy.random import seed\n"
      ],
      "execution_count": null,
      "outputs": []
    },
    {
      "cell_type": "code",
      "metadata": {
        "colab": {
          "base_uri": "https://localhost:8080/"
        },
        "id": "yZSt13Hd6bds",
        "outputId": "b0b0b732-06d2-463b-cbbf-79b462dd596b"
      },
      "source": [
        "hist = train(model=model, \n",
        "             epochs= 30,#50,\n",
        "             data=data, \n",
        "             epoch_size_frac = 1)"
      ],
      "execution_count": null,
      "outputs": [
        {
          "output_type": "stream",
          "text": [
            "<class 'numpy.ndarray'>\n",
            "<class 'list'>\n",
            "Epoch 1/50\n",
            "130/130 [==============================] - 27s 70ms/step - loss: 3.5429 - capsnet_loss: 0.8070 - decoder_loss: 5471.7942 - capsnet_accuracy: 0.1258 - decoder_accuracy: 0.0000e+00 - val_loss: 3.2350 - val_capsnet_loss: 0.5300 - val_decoder_loss: 5409.9727 - val_capsnet_accuracy: 0.1300 - val_decoder_accuracy: 0.0000e+00\n",
            "Epoch 2/50\n",
            "130/130 [==============================] - 8s 64ms/step - loss: 3.1899 - capsnet_loss: 0.4949 - decoder_loss: 5390.0245 - capsnet_accuracy: 0.1719 - decoder_accuracy: 0.0000e+00 - val_loss: 3.1711 - val_capsnet_loss: 0.4672 - val_decoder_loss: 5407.9238 - val_capsnet_accuracy: 0.2634 - val_decoder_accuracy: 0.0000e+00\n",
            "Epoch 3/50\n",
            "130/130 [==============================] - 8s 64ms/step - loss: 3.1808 - capsnet_loss: 0.4572 - decoder_loss: 5447.0998 - capsnet_accuracy: 0.2868 - decoder_accuracy: 0.0000e+00 - val_loss: 3.1517 - val_capsnet_loss: 0.4487 - val_decoder_loss: 5406.1284 - val_capsnet_accuracy: 0.3026 - val_decoder_accuracy: 0.0000e+00\n",
            "Epoch 4/50\n",
            "130/130 [==============================] - 8s 65ms/step - loss: 3.1310 - capsnet_loss: 0.4368 - decoder_loss: 5388.3240 - capsnet_accuracy: 0.3480 - decoder_accuracy: 0.0000e+00 - val_loss: 3.1191 - val_capsnet_loss: 0.4168 - val_decoder_loss: 5404.5732 - val_capsnet_accuracy: 0.3938 - val_decoder_accuracy: 0.0000e+00\n",
            "Epoch 5/50\n",
            "130/130 [==============================] - 8s 63ms/step - loss: 3.1128 - capsnet_loss: 0.3998 - decoder_loss: 5425.9820 - capsnet_accuracy: 0.4225 - decoder_accuracy: 0.0000e+00 - val_loss: 3.0733 - val_capsnet_loss: 0.3718 - val_decoder_loss: 5403.1250 - val_capsnet_accuracy: 0.4638 - val_decoder_accuracy: 0.0000e+00\n",
            "Epoch 6/50\n",
            "130/130 [==============================] - 8s 64ms/step - loss: 3.0660 - capsnet_loss: 0.3579 - decoder_loss: 5416.0501 - capsnet_accuracy: 0.4864 - decoder_accuracy: 0.0000e+00 - val_loss: 3.0351 - val_capsnet_loss: 0.3340 - val_decoder_loss: 5402.2002 - val_capsnet_accuracy: 0.5288 - val_decoder_accuracy: 0.0000e+00\n",
            "Epoch 7/50\n",
            "130/130 [==============================] - 8s 65ms/step - loss: 3.0375 - capsnet_loss: 0.3163 - decoder_loss: 5442.3249 - capsnet_accuracy: 0.5600 - decoder_accuracy: 0.0000e+00 - val_loss: 3.0140 - val_capsnet_loss: 0.3134 - val_decoder_loss: 5401.3481 - val_capsnet_accuracy: 0.5570 - val_decoder_accuracy: 0.0000e+00\n",
            "Epoch 8/50\n",
            "130/130 [==============================] - 8s 64ms/step - loss: 3.0006 - capsnet_loss: 0.2993 - decoder_loss: 5402.5501 - capsnet_accuracy: 0.5971 - decoder_accuracy: 0.0000e+00 - val_loss: 2.9778 - val_capsnet_loss: 0.2774 - val_decoder_loss: 5400.7637 - val_capsnet_accuracy: 0.6533 - val_decoder_accuracy: 0.0000e+00\n",
            "Epoch 9/50\n",
            "130/130 [==============================] - 8s 62ms/step - loss: 2.9702 - capsnet_loss: 0.2538 - decoder_loss: 5432.7587 - capsnet_accuracy: 0.6784 - decoder_accuracy: 0.0000e+00 - val_loss: 2.9788 - val_capsnet_loss: 0.2787 - val_decoder_loss: 5400.0635 - val_capsnet_accuracy: 0.6766 - val_decoder_accuracy: 0.0000e+00\n",
            "Epoch 10/50\n",
            "130/130 [==============================] - 8s 63ms/step - loss: 2.9405 - capsnet_loss: 0.2347 - decoder_loss: 5411.5909 - capsnet_accuracy: 0.7216 - decoder_accuracy: 0.0000e+00 - val_loss: 2.9362 - val_capsnet_loss: 0.2360 - val_decoder_loss: 5400.2998 - val_capsnet_accuracy: 0.7143 - val_decoder_accuracy: 0.0000e+00\n",
            "Epoch 11/50\n",
            "130/130 [==============================] - 8s 64ms/step - loss: 2.9169 - capsnet_loss: 0.2004 - decoder_loss: 5433.0193 - capsnet_accuracy: 0.7735 - decoder_accuracy: 0.0000e+00 - val_loss: 2.9196 - val_capsnet_loss: 0.2196 - val_decoder_loss: 5400.0962 - val_capsnet_accuracy: 0.7381 - val_decoder_accuracy: 0.0000e+00\n",
            "Epoch 12/50\n",
            "130/130 [==============================] - 8s 63ms/step - loss: 2.9116 - capsnet_loss: 0.1795 - decoder_loss: 5464.1464 - capsnet_accuracy: 0.8032 - decoder_accuracy: 0.0000e+00 - val_loss: 2.9098 - val_capsnet_loss: 0.2099 - val_decoder_loss: 5399.9395 - val_capsnet_accuracy: 0.7758 - val_decoder_accuracy: 0.0000e+00\n",
            "Epoch 13/50\n",
            "130/130 [==============================] - 8s 63ms/step - loss: 2.8479 - capsnet_loss: 0.1579 - decoder_loss: 5379.9317 - capsnet_accuracy: 0.8469 - decoder_accuracy: 0.0000e+00 - val_loss: 2.8850 - val_capsnet_loss: 0.1852 - val_decoder_loss: 5399.7305 - val_capsnet_accuracy: 0.8001 - val_decoder_accuracy: 0.0000e+00\n",
            "Epoch 14/50\n",
            "130/130 [==============================] - 8s 63ms/step - loss: 2.8425 - capsnet_loss: 0.1434 - decoder_loss: 5398.1033 - capsnet_accuracy: 0.8600 - decoder_accuracy: 0.0000e+00 - val_loss: 2.8625 - val_capsnet_loss: 0.1628 - val_decoder_loss: 5399.4165 - val_capsnet_accuracy: 0.8155 - val_decoder_accuracy: 0.0000e+00\n",
            "Epoch 15/50\n",
            "130/130 [==============================] - 8s 64ms/step - loss: 2.8423 - capsnet_loss: 0.1236 - decoder_loss: 5437.3871 - capsnet_accuracy: 0.8829 - decoder_accuracy: 0.0000e+00 - val_loss: 2.8519 - val_capsnet_loss: 0.1523 - val_decoder_loss: 5399.2480 - val_capsnet_accuracy: 0.8433 - val_decoder_accuracy: 0.0000e+00\n",
            "Epoch 16/50\n",
            "130/130 [==============================] - 8s 64ms/step - loss: 2.8125 - capsnet_loss: 0.1112 - decoder_loss: 5402.5815 - capsnet_accuracy: 0.9035 - decoder_accuracy: 0.0000e+00 - val_loss: 2.8371 - val_capsnet_loss: 0.1375 - val_decoder_loss: 5399.1426 - val_capsnet_accuracy: 0.8547 - val_decoder_accuracy: 0.0000e+00\n",
            "Epoch 17/50\n",
            "130/130 [==============================] - 8s 65ms/step - loss: 2.8125 - capsnet_loss: 0.0996 - decoder_loss: 5425.7963 - capsnet_accuracy: 0.9201 - decoder_accuracy: 0.0000e+00 - val_loss: 2.8267 - val_capsnet_loss: 0.1272 - val_decoder_loss: 5399.0967 - val_capsnet_accuracy: 0.8646 - val_decoder_accuracy: 0.0000e+00\n",
            "Epoch 18/50\n",
            "130/130 [==============================] - 9s 66ms/step - loss: 2.7941 - capsnet_loss: 0.0862 - decoder_loss: 5415.6602 - capsnet_accuracy: 0.9380 - decoder_accuracy: 0.0000e+00 - val_loss: 2.8231 - val_capsnet_loss: 0.1235 - val_decoder_loss: 5399.1699 - val_capsnet_accuracy: 0.8720 - val_decoder_accuracy: 0.0000e+00\n",
            "Epoch 19/50\n",
            "130/130 [==============================] - 9s 66ms/step - loss: 2.7810 - capsnet_loss: 0.0763 - decoder_loss: 5409.5314 - capsnet_accuracy: 0.9454 - decoder_accuracy: 0.0000e+00 - val_loss: 2.8141 - val_capsnet_loss: 0.1145 - val_decoder_loss: 5399.0601 - val_capsnet_accuracy: 0.8805 - val_decoder_accuracy: 0.0000e+00\n",
            "Epoch 20/50\n",
            "130/130 [==============================] - 9s 66ms/step - loss: 2.7790 - capsnet_loss: 0.0703 - decoder_loss: 5417.3829 - capsnet_accuracy: 0.9475 - decoder_accuracy: 0.0000e+00 - val_loss: 2.8091 - val_capsnet_loss: 0.1096 - val_decoder_loss: 5399.0435 - val_capsnet_accuracy: 0.8864 - val_decoder_accuracy: 0.0000e+00\n",
            "Epoch 21/50\n",
            "130/130 [==============================] - 9s 66ms/step - loss: 2.7715 - capsnet_loss: 0.0680 - decoder_loss: 5406.9568 - capsnet_accuracy: 0.9520 - decoder_accuracy: 0.0000e+00 - val_loss: 2.8013 - val_capsnet_loss: 0.1018 - val_decoder_loss: 5399.0044 - val_capsnet_accuracy: 0.8934 - val_decoder_accuracy: 0.0000e+00\n",
            "Epoch 22/50\n",
            "130/130 [==============================] - 9s 67ms/step - loss: 2.7529 - capsnet_loss: 0.0560 - decoder_loss: 5393.7375 - capsnet_accuracy: 0.9670 - decoder_accuracy: 0.0000e+00 - val_loss: 2.7980 - val_capsnet_loss: 0.0986 - val_decoder_loss: 5398.9751 - val_capsnet_accuracy: 0.9013 - val_decoder_accuracy: 0.0000e+00\n",
            "Epoch 23/50\n",
            "130/130 [==============================] - 9s 66ms/step - loss: 2.7778 - capsnet_loss: 0.0638 - decoder_loss: 5428.0189 - capsnet_accuracy: 0.9522 - decoder_accuracy: 0.0000e+00 - val_loss: 2.7952 - val_capsnet_loss: 0.0958 - val_decoder_loss: 5398.9136 - val_capsnet_accuracy: 0.9048 - val_decoder_accuracy: 0.0000e+00\n",
            "Epoch 24/50\n",
            "130/130 [==============================] - 9s 67ms/step - loss: 2.7658 - capsnet_loss: 0.0458 - decoder_loss: 5439.9927 - capsnet_accuracy: 0.9728 - decoder_accuracy: 0.0000e+00 - val_loss: 2.7923 - val_capsnet_loss: 0.0928 - val_decoder_loss: 5398.9785 - val_capsnet_accuracy: 0.9167 - val_decoder_accuracy: 0.0000e+00\n",
            "Epoch 25/50\n",
            "130/130 [==============================] - 9s 66ms/step - loss: 2.7652 - capsnet_loss: 0.0571 - decoder_loss: 5416.1640 - capsnet_accuracy: 0.9642 - decoder_accuracy: 0.0000e+00 - val_loss: 2.8019 - val_capsnet_loss: 0.1024 - val_decoder_loss: 5399.0220 - val_capsnet_accuracy: 0.9112 - val_decoder_accuracy: 0.0000e+00\n",
            "Epoch 26/50\n",
            "130/130 [==============================] - 9s 68ms/step - loss: 2.7688 - capsnet_loss: 0.0396 - decoder_loss: 5458.4539 - capsnet_accuracy: 0.9800 - decoder_accuracy: 0.0000e+00 - val_loss: 2.7838 - val_capsnet_loss: 0.0844 - val_decoder_loss: 5398.9185 - val_capsnet_accuracy: 0.9162 - val_decoder_accuracy: 0.0000e+00\n",
            "Epoch 27/50\n",
            "130/130 [==============================] - 9s 67ms/step - loss: 2.7384 - capsnet_loss: 0.0330 - decoder_loss: 5410.7851 - capsnet_accuracy: 0.9822 - decoder_accuracy: 0.0000e+00 - val_loss: 2.7874 - val_capsnet_loss: 0.0879 - val_decoder_loss: 5398.8223 - val_capsnet_accuracy: 0.9201 - val_decoder_accuracy: 0.0000e+00\n",
            "Epoch 28/50\n",
            "130/130 [==============================] - 8s 65ms/step - loss: 2.7606 - capsnet_loss: 0.0459 - decoder_loss: 5429.4843 - capsnet_accuracy: 0.9767 - decoder_accuracy: 0.0000e+00 - val_loss: 2.7927 - val_capsnet_loss: 0.0932 - val_decoder_loss: 5398.9463 - val_capsnet_accuracy: 0.9226 - val_decoder_accuracy: 0.0000e+00\n",
            "Epoch 29/50\n",
            "130/130 [==============================] - 9s 66ms/step - loss: 2.7279 - capsnet_loss: 0.0384 - decoder_loss: 5378.9125 - capsnet_accuracy: 0.9823 - decoder_accuracy: 0.0000e+00 - val_loss: 2.7760 - val_capsnet_loss: 0.0766 - val_decoder_loss: 5398.8311 - val_capsnet_accuracy: 0.9216 - val_decoder_accuracy: 0.0000e+00\n",
            "Epoch 30/50\n",
            "130/130 [==============================] - 9s 66ms/step - loss: 2.7390 - capsnet_loss: 0.0257 - decoder_loss: 5426.6609 - capsnet_accuracy: 0.9880 - decoder_accuracy: 0.0000e+00 - val_loss: 2.7788 - val_capsnet_loss: 0.0794 - val_decoder_loss: 5398.8936 - val_capsnet_accuracy: 0.9261 - val_decoder_accuracy: 0.0000e+00\n",
            "Epoch 31/50\n",
            "130/130 [==============================] - 9s 66ms/step - loss: 2.7455 - capsnet_loss: 0.0288 - decoder_loss: 5433.4527 - capsnet_accuracy: 0.9843 - decoder_accuracy: 0.0000e+00 - val_loss: 2.7764 - val_capsnet_loss: 0.0770 - val_decoder_loss: 5398.8486 - val_capsnet_accuracy: 0.9216 - val_decoder_accuracy: 0.0000e+00\n",
            "Epoch 32/50\n",
            "130/130 [==============================] - 9s 67ms/step - loss: 2.7127 - capsnet_loss: 0.0226 - decoder_loss: 5380.1604 - capsnet_accuracy: 0.9900 - decoder_accuracy: 0.0000e+00 - val_loss: 2.7685 - val_capsnet_loss: 0.0691 - val_decoder_loss: 5398.8320 - val_capsnet_accuracy: 0.9330 - val_decoder_accuracy: 0.0000e+00\n",
            "Epoch 33/50\n",
            "130/130 [==============================] - 9s 68ms/step - loss: 2.7053 - capsnet_loss: 0.0197 - decoder_loss: 5371.1313 - capsnet_accuracy: 0.9912 - decoder_accuracy: 0.0000e+00 - val_loss: 2.7796 - val_capsnet_loss: 0.0802 - val_decoder_loss: 5398.7842 - val_capsnet_accuracy: 0.9231 - val_decoder_accuracy: 0.0000e+00\n",
            "Epoch 34/50\n",
            "130/130 [==============================] - 9s 66ms/step - loss: 2.7363 - capsnet_loss: 0.0468 - decoder_loss: 5378.9123 - capsnet_accuracy: 0.9699 - decoder_accuracy: 0.0000e+00 - val_loss: 2.7682 - val_capsnet_loss: 0.0688 - val_decoder_loss: 5398.8232 - val_capsnet_accuracy: 0.9241 - val_decoder_accuracy: 0.0000e+00\n",
            "Epoch 35/50\n",
            "130/130 [==============================] - 9s 68ms/step - loss: 2.7331 - capsnet_loss: 0.0212 - decoder_loss: 5423.9316 - capsnet_accuracy: 0.9906 - decoder_accuracy: 0.0000e+00 - val_loss: 2.7696 - val_capsnet_loss: 0.0702 - val_decoder_loss: 5398.8398 - val_capsnet_accuracy: 0.9370 - val_decoder_accuracy: 0.0000e+00\n",
            "Epoch 36/50\n",
            "130/130 [==============================] - 9s 66ms/step - loss: 2.7085 - capsnet_loss: 0.0151 - decoder_loss: 5386.9188 - capsnet_accuracy: 0.9940 - decoder_accuracy: 0.0000e+00 - val_loss: 2.7611 - val_capsnet_loss: 0.0617 - val_decoder_loss: 5398.7900 - val_capsnet_accuracy: 0.9410 - val_decoder_accuracy: 0.0000e+00\n",
            "Epoch 37/50\n",
            "130/130 [==============================] - 9s 66ms/step - loss: 2.7136 - capsnet_loss: 0.0134 - decoder_loss: 5400.4330 - capsnet_accuracy: 0.9948 - decoder_accuracy: 0.0000e+00 - val_loss: 2.7695 - val_capsnet_loss: 0.0701 - val_decoder_loss: 5398.8379 - val_capsnet_accuracy: 0.9375 - val_decoder_accuracy: 0.0000e+00\n",
            "Epoch 38/50\n",
            "130/130 [==============================] - 9s 66ms/step - loss: 2.7219 - capsnet_loss: 0.0118 - decoder_loss: 5420.0367 - capsnet_accuracy: 0.9956 - decoder_accuracy: 0.0000e+00 - val_loss: 2.7649 - val_capsnet_loss: 0.0655 - val_decoder_loss: 5398.8140 - val_capsnet_accuracy: 0.9380 - val_decoder_accuracy: 0.0000e+00\n",
            "Epoch 39/50\n",
            "130/130 [==============================] - 9s 66ms/step - loss: 2.7047 - capsnet_loss: 0.0131 - decoder_loss: 5383.1596 - capsnet_accuracy: 0.9961 - decoder_accuracy: 0.0000e+00 - val_loss: 2.7646 - val_capsnet_loss: 0.0652 - val_decoder_loss: 5398.8130 - val_capsnet_accuracy: 0.9325 - val_decoder_accuracy: 0.0000e+00\n",
            "Epoch 40/50\n",
            "130/130 [==============================] - 9s 67ms/step - loss: 2.7299 - capsnet_loss: 0.0099 - decoder_loss: 5440.1113 - capsnet_accuracy: 0.9969 - decoder_accuracy: 0.0000e+00 - val_loss: 2.7678 - val_capsnet_loss: 0.0684 - val_decoder_loss: 5398.8213 - val_capsnet_accuracy: 0.9385 - val_decoder_accuracy: 0.0000e+00\n",
            "Epoch 41/50\n",
            "130/130 [==============================] - 9s 67ms/step - loss: 2.7115 - capsnet_loss: 0.0104 - decoder_loss: 5402.0612 - capsnet_accuracy: 0.9965 - decoder_accuracy: 0.0000e+00 - val_loss: 2.7622 - val_capsnet_loss: 0.0628 - val_decoder_loss: 5398.7979 - val_capsnet_accuracy: 0.9355 - val_decoder_accuracy: 0.0000e+00\n",
            "Epoch 42/50\n",
            "130/130 [==============================] - 9s 68ms/step - loss: 2.7090 - capsnet_loss: 0.0090 - decoder_loss: 5400.0729 - capsnet_accuracy: 0.9968 - decoder_accuracy: 0.0000e+00 - val_loss: 2.7597 - val_capsnet_loss: 0.0604 - val_decoder_loss: 5398.7847 - val_capsnet_accuracy: 0.9405 - val_decoder_accuracy: 0.0000e+00\n",
            "Epoch 43/50\n",
            "130/130 [==============================] - 9s 68ms/step - loss: 2.7262 - capsnet_loss: 0.0085 - decoder_loss: 5435.4162 - capsnet_accuracy: 0.9966 - decoder_accuracy: 0.0000e+00 - val_loss: 2.7608 - val_capsnet_loss: 0.0614 - val_decoder_loss: 5398.7837 - val_capsnet_accuracy: 0.9385 - val_decoder_accuracy: 0.0000e+00\n",
            "Epoch 44/50\n",
            "130/130 [==============================] - 9s 69ms/step - loss: 2.7050 - capsnet_loss: 0.0073 - decoder_loss: 5395.4524 - capsnet_accuracy: 0.9976 - decoder_accuracy: 0.0000e+00 - val_loss: 2.7587 - val_capsnet_loss: 0.0593 - val_decoder_loss: 5398.7812 - val_capsnet_accuracy: 0.9420 - val_decoder_accuracy: 0.0000e+00\n",
            "Epoch 45/50\n",
            "130/130 [==============================] - 9s 69ms/step - loss: 2.7183 - capsnet_loss: 0.0055 - decoder_loss: 5425.5849 - capsnet_accuracy: 0.9980 - decoder_accuracy: 0.0000e+00 - val_loss: 2.7593 - val_capsnet_loss: 0.0599 - val_decoder_loss: 5398.7783 - val_capsnet_accuracy: 0.9425 - val_decoder_accuracy: 0.0000e+00\n",
            "Epoch 46/50\n",
            "130/130 [==============================] - 9s 68ms/step - loss: 2.7090 - capsnet_loss: 0.0066 - decoder_loss: 5404.8113 - capsnet_accuracy: 0.9978 - decoder_accuracy: 0.0000e+00 - val_loss: 2.7647 - val_capsnet_loss: 0.0653 - val_decoder_loss: 5398.8022 - val_capsnet_accuracy: 0.9375 - val_decoder_accuracy: 0.0000e+00\n",
            "Epoch 47/50\n",
            "130/130 [==============================] - 9s 67ms/step - loss: 2.7188 - capsnet_loss: 0.0063 - decoder_loss: 5425.1885 - capsnet_accuracy: 0.9974 - decoder_accuracy: 0.0000e+00 - val_loss: 2.7577 - val_capsnet_loss: 0.0583 - val_decoder_loss: 5398.7695 - val_capsnet_accuracy: 0.9444 - val_decoder_accuracy: 0.0000e+00\n",
            "Epoch 48/50\n",
            "130/130 [==============================] - 8s 65ms/step - loss: 2.7120 - capsnet_loss: 0.0042 - decoder_loss: 5415.6369 - capsnet_accuracy: 0.9986 - decoder_accuracy: 0.0000e+00 - val_loss: 2.7662 - val_capsnet_loss: 0.0668 - val_decoder_loss: 5398.8037 - val_capsnet_accuracy: 0.9405 - val_decoder_accuracy: 0.0000e+00\n",
            "Epoch 49/50\n",
            "130/130 [==============================] - 8s 64ms/step - loss: 2.7034 - capsnet_loss: 0.0057 - decoder_loss: 5395.2970 - capsnet_accuracy: 0.9979 - decoder_accuracy: 0.0000e+00 - val_loss: 2.7571 - val_capsnet_loss: 0.0578 - val_decoder_loss: 5398.7676 - val_capsnet_accuracy: 0.9425 - val_decoder_accuracy: 0.0000e+00\n",
            "Epoch 50/50\n",
            "130/130 [==============================] - 9s 66ms/step - loss: 2.7308 - capsnet_loss: 0.0044 - decoder_loss: 5452.9006 - capsnet_accuracy: 0.9986 - decoder_accuracy: 0.0000e+00 - val_loss: 2.7597 - val_capsnet_loss: 0.0603 - val_decoder_loss: 5398.7749 - val_capsnet_accuracy: 0.9395 - val_decoder_accuracy: 0.0000e+00\n",
            "__________\n",
            "Time Took: 0:07:25.910793\n"
          ],
          "name": "stdout"
        }
      ]
    },
    {
      "cell_type": "code",
      "metadata": {
        "cellView": "form",
        "id": "Z64QpMKXjptn"
      },
      "source": [
        "#@title\n"
      ],
      "execution_count": null,
      "outputs": []
    },
    {
      "cell_type": "code",
      "metadata": {
        "id": "Bcq23uilG5gt",
        "cellView": "form"
      },
      "source": [
        "#@title\n",
        "# import pickle\n",
        "# history = pickle.load(open('/content/drive/MyDrive/Capsule Nets/history.p','rb'))"
      ],
      "execution_count": null,
      "outputs": []
    },
    {
      "cell_type": "code",
      "metadata": {
        "id": "eH_jRiuwMsr7",
        "cellView": "form"
      },
      "source": [
        "#@title\n",
        "# a=hist.history"
      ],
      "execution_count": null,
      "outputs": []
    },
    {
      "cell_type": "code",
      "metadata": {
        "id": "gxgxpchjNJ1r",
        "cellView": "form"
      },
      "source": [
        "#@title\n",
        "##import pickle\n",
        "#pickle.dump(a,open('/content/drive/MyDrive/Capsule Nets/history.p','wb'))"
      ],
      "execution_count": null,
      "outputs": []
    },
    {
      "cell_type": "markdown",
      "metadata": {
        "id": "mEO9cv7OjvE9"
      },
      "source": [
        "3.6 Loss & Accuracy Curves"
      ]
    },
    {
      "cell_type": "code",
      "metadata": {
        "colab": {
          "base_uri": "https://localhost:8080/",
          "height": 490
        },
        "id": "CKGFjE16Bs1_",
        "outputId": "a2ff3d0d-6eb4-4c12-9c24-e248a7e88e4e"
      },
      "source": [
        "  # Loss Curves\n",
        "#history = hist\n",
        "plt.figure(figsize=(25, 10))\n",
        "plt.subplot(1, 2, 1)\n",
        "plt.plot(history['loss'],'-g',linewidth=1.0)\n",
        "plt.plot(history['val_loss'],'r',linewidth=1.0)\n",
        "plt.legend(['Training loss', 'Validation Loss'],fontsize=14)\n",
        "plt.xlabel('Epochs ',fontsize=16)\n",
        "plt.ylabel('Loss',fontsize=16)\n",
        "plt.title('Loss Curves for RAVDESS Dataset',fontsize=22)\n",
        "plt.savefig('Loss_curves.png')\n",
        "# Accuracy Curves\n",
        "plt.subplot(1, 2, 2)\n",
        "plt.plot(history['capsnet_accuracy'],'-g',linewidth=1.0)\n",
        "plt.plot(history['val_capsnet_accuracy'],'r',linewidth=1.0)\n",
        "plt.legend(['Training Accuracy', 'Validation Accuracy'],fontsize=14)\n",
        "plt.xlabel('Epochs ',fontsize=16)\n",
        "\n",
        "plt.ylabel('Accuracy',fontsize=16)\n",
        "plt.title('Accuracy Curves for RAVDESS Dataset',fontsize=22)\n",
        "plt.savefig('Accuracy_curves.png')\n",
        "plt.show()"
      ],
      "execution_count": null,
      "outputs": [
        {
          "output_type": "display_data",
          "data": {
            "image/png": "[encoded data removed]",
            "text/plain": [
              "<Figure size 1800x720 with 2 Axes>"
            ]
          },
          "metadata": {
            "tags": [],
            "needs_background": "light"
          }
        }
      ]
    },
    {
      "cell_type": "code",
      "metadata": {
        "id": "CPlcmUxLCUVE"
      },
      "source": [
        "abc = np.zeros(np.shape(y_test))"
      ],
      "execution_count": null,
      "outputs": []
    },
    {
      "cell_type": "markdown",
      "metadata": {
        "id": "P6Q93k5mj6KB"
      },
      "source": [
        "3.7 Model Prediction"
      ]
    },
    {
      "cell_type": "code",
      "metadata": {
        "id": "JmoTn7mT6Fve"
      },
      "source": [
        "y_pred, x_recon = model.predict([x_test,abc], batch_size=100)"
      ],
      "execution_count": null,
      "outputs": []
    },
    {
      "cell_type": "code",
      "metadata": {
        "colab": {
          "base_uri": "https://localhost:8080/"
        },
        "id": "CH4VuAMn9KwG",
        "outputId": "d41dcec6-c38e-4d2f-e7e9-fe3c8ff5030d"
      },
      "source": [
        "y2,x2 = model.predict([x_train[0:2],np.array([0,0])])"
      ],
      "execution_count": null,
      "outputs": [
        {
          "output_type": "stream",
          "text": [
            "WARNING:tensorflow:Model was constructed with shape (None, 8) for input KerasTensor(type_spec=TensorSpec(shape=(None, 8), dtype=tf.float32, name='input_2'), name='input_2', description=\"created by layer 'input_2'\"), but it was called on an input with incompatible shape (None, 1).\n"
          ],
          "name": "stdout"
        }
      ]
    },
    {
      "cell_type": "code",
      "metadata": {
        "colab": {
          "base_uri": "https://localhost:8080/"
        },
        "id": "mYkAjJ6u-wRX",
        "outputId": "e7f36e07-db65-4dc2-86cc-d0361edff485"
      },
      "source": [
        "y_train[0:2]"
      ],
      "execution_count": null,
      "outputs": [
        {
          "output_type": "execute_result",
          "data": {
            "text/plain": [
              "array([[1., 0., 0., 0., 0., 0., 0., 0.],\n",
              "       [0., 0., 0., 0., 1., 0., 0., 0.]])"
            ]
          },
          "metadata": {
            "tags": []
          },
          "execution_count": 64
        }
      ]
    },
    {
      "cell_type": "code",
      "metadata": {
        "colab": {
          "base_uri": "https://localhost:8080/"
        },
        "id": "Eix5_LJn-kb-",
        "outputId": "bfe3b569-f1ec-4626-9b38-bbd4fb95fb1f"
      },
      "source": [
        "y2.round(2)"
      ],
      "execution_count": null,
      "outputs": [
        {
          "output_type": "execute_result",
          "data": {
            "text/plain": [
              "array([[1.  , 0.  , 0.03, 0.03, 0.14, 0.03, 0.09, 0.01],\n",
              "       [0.03, 0.01, 0.1 , 0.11, 0.95, 0.  , 0.09, 0.  ]], dtype=float32)"
            ]
          },
          "metadata": {
            "tags": []
          },
          "execution_count": 63
        }
      ]
    },
    {
      "cell_type": "code",
      "metadata": {
        "colab": {
          "base_uri": "https://localhost:8080/"
        },
        "id": "EZTZyW3b8OQz",
        "outputId": "873355fe-94b4-488e-cf4b-e4f81763d0d8"
      },
      "source": [
        "print('Test acc:', np.sum(np.argmax(y_pred, 1) == np.argmax(y_test, 1))/y_test.shape[0])"
      ],
      "execution_count": null,
      "outputs": [
        {
          "output_type": "stream",
          "text": [
            "Test acc: 0.939484126984127\n"
          ],
          "name": "stdout"
        }
      ]
    },
    {
      "cell_type": "markdown",
      "metadata": {
        "id": "R2msbLEdEDIv"
      },
      "source": [
        "# **Code ends here!!**"
      ]
    },
    {
      "cell_type": "code",
      "metadata": {
        "id": "y392h3tBQKNp"
      },
      "source": [
        "from sklearn.metrics import multilabel_confusion_matrix\n",
        "from sklearn.metrics import confusion_matrix\n",
        "from sklearn.metrics import plot_confusion_matrix"
      ],
      "execution_count": null,
      "outputs": []
    },
    {
      "cell_type": "code",
      "metadata": {
        "id": "hqpeaV2LDlez"
      },
      "source": [
        "em = ['ANG','SUR','HAP','CALM','FEAR','SAD','NEU','DIS']"
      ],
      "execution_count": null,
      "outputs": []
    },
    {
      "cell_type": "code",
      "metadata": {
        "id": "lwVQ4arEEnKh"
      },
      "source": [
        "y_test_em = []\n",
        "for i in range(len(y_test)):\n",
        "  a = list(y_test[i])\n",
        "  y_test_em.append(em[a.index(max(a))])"
      ],
      "execution_count": null,
      "outputs": []
    },
    {
      "cell_type": "code",
      "metadata": {
        "id": "HkyL-ga9EcOF"
      },
      "source": [
        "pred_em = []\n",
        "for i in range(len(y_pred)):\n",
        "  a = list(y_pred[i])\n",
        "  pred_em.append(em[a.index(max(a))])"
      ],
      "execution_count": null,
      "outputs": []
    },
    {
      "cell_type": "code",
      "metadata": {
        "colab": {
          "base_uri": "https://localhost:8080/"
        },
        "id": "RIxrvcPzQLpW",
        "outputId": "de999c46-6d29-4d4d-ea21-38a0ef956c8a"
      },
      "source": [
        "multilabel_confusion_matrix(y_test_em, pred_em,labels=['ANG','SUR','HAP','CALM','FEAR','SAD','NEU','DIS'])"
      ],
      "execution_count": null,
      "outputs": [
        {
          "output_type": "execute_result",
          "data": {
            "text/plain": [
              "array([[[1727,    8],\n",
              "        [  17,  264]],\n",
              "\n",
              "       [[1730,   12],\n",
              "        [  15,  259]],\n",
              "\n",
              "       [[1711,   14],\n",
              "        [  19,  272]],\n",
              "\n",
              "       [[1767,    8],\n",
              "        [  12,  229]],\n",
              "\n",
              "       [[1733,   20],\n",
              "        [  12,  251]],\n",
              "\n",
              "       [[1713,   28],\n",
              "        [  17,  258]],\n",
              "\n",
              "       [[1871,   16],\n",
              "        [  12,  117]],\n",
              "\n",
              "       [[1738,   16],\n",
              "        [  18,  244]]])"
            ]
          },
          "metadata": {
            "tags": []
          },
          "execution_count": 36
        }
      ]
    },
    {
      "cell_type": "code",
      "metadata": {
        "colab": {
          "base_uri": "https://localhost:8080/",
          "height": 34
        },
        "id": "4NoFzhBcUbU_",
        "outputId": "c0f92604-b1fc-47ec-b6f4-ba3cb2a9674c"
      },
      "source": [
        "np.shape(y_test_em)"
      ],
      "execution_count": null,
      "outputs": [
        {
          "output_type": "execute_result",
          "data": {
            "text/plain": [
              "(269,)"
            ]
          },
          "metadata": {
            "tags": []
          },
          "execution_count": 47
        }
      ]
    },
    {
      "cell_type": "code",
      "metadata": {
        "id": "AC_zVOMDUCGd"
      },
      "source": [
        "res = confusion_matrix(y_test_em, pred_em,labels=['ANG','SUR','HAP','CALM','FEAR','SAD','NEU','DIS'])"
      ],
      "execution_count": null,
      "outputs": []
    },
    {
      "cell_type": "code",
      "metadata": {
        "colab": {
          "base_uri": "https://localhost:8080/"
        },
        "id": "5dDn6dgCWHVT",
        "outputId": "9beef032-cfb0-448b-d7dd-cc8c0cb65795"
      },
      "source": [
        "res"
      ],
      "execution_count": null,
      "outputs": [
        {
          "output_type": "execute_result",
          "data": {
            "text/plain": [
              "array([[264,   1,   2,   1,   1,   1,   2,   9],\n",
              "       [  1, 259,   3,   0,   1,   6,   0,   4],\n",
              "       [  3,   4, 272,   1,   6,   2,   2,   1],\n",
              "       [  0,   0,   2, 229,   0,   4,   6,   0],\n",
              "       [  2,   3,   3,   0, 251,   2,   1,   1],\n",
              "       [  0,   2,   1,   3,   9, 258,   1,   1],\n",
              "       [  0,   2,   1,   2,   1,   6, 117,   0],\n",
              "       [  2,   0,   2,   1,   2,   7,   4, 244]])"
            ]
          },
          "metadata": {
            "tags": []
          },
          "execution_count": 55
        }
      ]
    },
    {
      "cell_type": "code",
      "metadata": {
        "id": "Dlbie5RMHSGO"
      },
      "source": [
        "res1=list(res)"
      ],
      "execution_count": null,
      "outputs": []
    },
    {
      "cell_type": "code",
      "metadata": {
        "colab": {
          "base_uri": "https://localhost:8080/",
          "height": 284
        },
        "id": "vKXGvlTmHgsr",
        "outputId": "d63cf1fe-375b-4a8b-e93b-b4e3bfb303cf"
      },
      "source": [
        "res"
      ],
      "execution_count": null,
      "outputs": [
        {
          "output_type": "execute_result",
          "data": {
            "text/html": [
              "<div>\n",
              "<style scoped>\n",
              "    .dataframe tbody tr th:only-of-type {\n",
              "        vertical-align: middle;\n",
              "    }\n",
              "\n",
              "    .dataframe tbody tr th {\n",
              "        vertical-align: top;\n",
              "    }\n",
              "\n",
              "    .dataframe thead th {\n",
              "        text-align: right;\n",
              "    }\n",
              "</style>\n",
              "<table border=\"1\" class=\"dataframe\">\n",
              "  <thead>\n",
              "    <tr style=\"text-align: right;\">\n",
              "      <th></th>\n",
              "      <th>ANG</th>\n",
              "      <th>SUR</th>\n",
              "      <th>HAP</th>\n",
              "      <th>CALM</th>\n",
              "      <th>FEAR</th>\n",
              "      <th>SAD</th>\n",
              "      <th>NEU</th>\n",
              "      <th>DIS</th>\n",
              "    </tr>\n",
              "  </thead>\n",
              "  <tbody>\n",
              "    <tr>\n",
              "      <th>ANG</th>\n",
              "      <td>264</td>\n",
              "      <td>1</td>\n",
              "      <td>2</td>\n",
              "      <td>1</td>\n",
              "      <td>1</td>\n",
              "      <td>1</td>\n",
              "      <td>2</td>\n",
              "      <td>9</td>\n",
              "    </tr>\n",
              "    <tr>\n",
              "      <th>SUR</th>\n",
              "      <td>1</td>\n",
              "      <td>259</td>\n",
              "      <td>3</td>\n",
              "      <td>0</td>\n",
              "      <td>1</td>\n",
              "      <td>6</td>\n",
              "      <td>0</td>\n",
              "      <td>4</td>\n",
              "    </tr>\n",
              "    <tr>\n",
              "      <th>HAP</th>\n",
              "      <td>3</td>\n",
              "      <td>4</td>\n",
              "      <td>272</td>\n",
              "      <td>1</td>\n",
              "      <td>6</td>\n",
              "      <td>2</td>\n",
              "      <td>2</td>\n",
              "      <td>1</td>\n",
              "    </tr>\n",
              "    <tr>\n",
              "      <th>CALM</th>\n",
              "      <td>0</td>\n",
              "      <td>0</td>\n",
              "      <td>2</td>\n",
              "      <td>229</td>\n",
              "      <td>0</td>\n",
              "      <td>4</td>\n",
              "      <td>6</td>\n",
              "      <td>0</td>\n",
              "    </tr>\n",
              "    <tr>\n",
              "      <th>FEAR</th>\n",
              "      <td>2</td>\n",
              "      <td>3</td>\n",
              "      <td>3</td>\n",
              "      <td>0</td>\n",
              "      <td>251</td>\n",
              "      <td>2</td>\n",
              "      <td>1</td>\n",
              "      <td>1</td>\n",
              "    </tr>\n",
              "    <tr>\n",
              "      <th>SAD</th>\n",
              "      <td>0</td>\n",
              "      <td>2</td>\n",
              "      <td>1</td>\n",
              "      <td>3</td>\n",
              "      <td>9</td>\n",
              "      <td>258</td>\n",
              "      <td>1</td>\n",
              "      <td>1</td>\n",
              "    </tr>\n",
              "    <tr>\n",
              "      <th>NEU</th>\n",
              "      <td>0</td>\n",
              "      <td>2</td>\n",
              "      <td>1</td>\n",
              "      <td>2</td>\n",
              "      <td>1</td>\n",
              "      <td>6</td>\n",
              "      <td>117</td>\n",
              "      <td>0</td>\n",
              "    </tr>\n",
              "    <tr>\n",
              "      <th>DIS</th>\n",
              "      <td>2</td>\n",
              "      <td>0</td>\n",
              "      <td>2</td>\n",
              "      <td>1</td>\n",
              "      <td>2</td>\n",
              "      <td>7</td>\n",
              "      <td>4</td>\n",
              "      <td>244</td>\n",
              "    </tr>\n",
              "  </tbody>\n",
              "</table>\n",
              "</div>"
            ],
            "text/plain": [
              "      ANG  SUR  HAP  CALM  FEAR  SAD  NEU  DIS\n",
              "ANG   264    1    2     1     1    1    2    9\n",
              "SUR     1  259    3     0     1    6    0    4\n",
              "HAP     3    4  272     1     6    2    2    1\n",
              "CALM    0    0    2   229     0    4    6    0\n",
              "FEAR    2    3    3     0   251    2    1    1\n",
              "SAD     0    2    1     3     9  258    1    1\n",
              "NEU     0    2    1     2     1    6  117    0\n",
              "DIS     2    0    2     1     2    7    4  244"
            ]
          },
          "metadata": {
            "tags": []
          },
          "execution_count": 53
        }
      ]
    },
    {
      "cell_type": "code",
      "metadata": {
        "id": "9EX9dcJjG60J"
      },
      "source": [
        "l= []\n",
        "for i in range(8):\n",
        "  l.append(np.sum(res1[i]))"
      ],
      "execution_count": null,
      "outputs": []
    },
    {
      "cell_type": "code",
      "metadata": {
        "id": "_Z05MAArH1oa"
      },
      "source": [
        "l = np.array(l).reshape(8,1)"
      ],
      "execution_count": null,
      "outputs": []
    },
    {
      "cell_type": "code",
      "metadata": {
        "id": "tyl39YYRH7ZS"
      },
      "source": [
        "res = (res/l).round(2)"
      ],
      "execution_count": null,
      "outputs": []
    },
    {
      "cell_type": "code",
      "metadata": {
        "id": "pNrJQiIbW8mE"
      },
      "source": [
        "import pandas as pd\n",
        "res = pd.DataFrame(res,index = ['ANG','SUR','HAP','CALM','FEAR','SAD','NEU','DIS'],columns = ['ANG','SUR','HAP','CALM','FEAR','SAD','NEU','DIS'])"
      ],
      "execution_count": null,
      "outputs": []
    },
    {
      "cell_type": "code",
      "metadata": {
        "id": "Olh8ovHgIGpi"
      },
      "source": [
        "res.to_csv('Confusion_matrix.csv',index=False)"
      ],
      "execution_count": null,
      "outputs": []
    },
    {
      "cell_type": "code",
      "metadata": {
        "id": "boKootzpYF_L"
      },
      "source": [
        "import seaborn as sns\n",
        "import matplotlib.pyplot as plt"
      ],
      "execution_count": null,
      "outputs": []
    },
    {
      "cell_type": "code",
      "metadata": {
        "colab": {
          "base_uri": "https://localhost:8080/",
          "height": 592
        },
        "id": "mjCo9IQyVrhH",
        "outputId": "b3d45f0c-2690-46cd-e4f9-ba263fca92ff"
      },
      "source": [
        "fig, ax = plt.subplots(figsize=(15,10))  \n",
        "fi = sns.heatmap(res, annot=True ,ax=ax,fmt='g' )\n",
        "fi = fi.get_figure()\n",
        "fi.savefig('out.png')"
      ],
      "execution_count": null,
      "outputs": [
        {
          "output_type": "display_data",
          "data": {
            "image/png": "[encoded data removed]",
            "text/plain": [
              "<Figure size 1080x720 with 2 Axes>"
            ]
          },
          "metadata": {
            "tags": []
          }
        }
      ]
    },
    {
      "cell_type": "code",
      "metadata": {
        "id": "WZmtCC80N-aU"
      },
      "source": [
        "from sklearn.metrics import f1_score"
      ],
      "execution_count": null,
      "outputs": []
    },
    {
      "cell_type": "code",
      "metadata": {
        "colab": {
          "base_uri": "https://localhost:8080/"
        },
        "id": "3ZJ38YXWN_Ng",
        "outputId": "2e05c39e-c9e2-4dbc-e568-8ebe819ae66b"
      },
      "source": [
        "f1_score(y_test_em, pred_em,labels=['ANG','SUR','HAP','CALM','FEAR','SAD','NEU','DIS'],average='weighted')"
      ],
      "execution_count": null,
      "outputs": [
        {
          "output_type": "execute_result",
          "data": {
            "text/plain": [
              "0.939645373277762"
            ]
          },
          "metadata": {
            "tags": []
          },
          "execution_count": 77
        }
      ]
    },
    {
      "cell_type": "code",
      "metadata": {
        "id": "VBgU63X3N_IT"
      },
      "source": [
        "res1 = np.array(res1)"
      ],
      "execution_count": null,
      "outputs": []
    },
    {
      "cell_type": "code",
      "metadata": {
        "colab": {
          "base_uri": "https://localhost:8080/"
        },
        "id": "vLPwlFTMP_7M",
        "outputId": "27a95a16-1609-420d-f3d3-a811e9a24304"
      },
      "source": [
        "s=0\n",
        "for i in range(8):\n",
        "  for j in range(i+1):\n",
        "    s = s + res1[i][j]\n",
        "t = 0\n",
        "for i in range(8):\n",
        "  t = t + res1[i][i]\n",
        "t"
      ],
      "execution_count": null,
      "outputs": [
        {
          "output_type": "execute_result",
          "data": {
            "text/plain": [
              "1957"
            ]
          },
          "metadata": {
            "tags": []
          },
          "execution_count": 86
        }
      ]
    },
    {
      "cell_type": "code",
      "metadata": {
        "colab": {
          "base_uri": "https://localhost:8080/"
        },
        "id": "LdpMcyTJQRGb",
        "outputId": "db8575cc-af31-4421-b902-4beef530bd52"
      },
      "source": [
        "s1=0\n",
        "for i in range(8):\n",
        "  for j in range(i,8):\n",
        "    s1 = s1 + res1[i][j]\n",
        "s1"
      ],
      "execution_count": null,
      "outputs": [
        {
          "output_type": "execute_result",
          "data": {
            "text/plain": [
              "1953"
            ]
          },
          "metadata": {
            "tags": []
          },
          "execution_count": 91
        }
      ]
    },
    {
      "cell_type": "code",
      "metadata": {
        "id": "CSo42yTeRPIk"
      },
      "source": [
        "prec = t/s1\n",
        "rec = t/s"
      ],
      "execution_count": null,
      "outputs": []
    },
    {
      "cell_type": "code",
      "metadata": {
        "colab": {
          "base_uri": "https://localhost:8080/"
        },
        "id": "JqGwc7TwRUQP",
        "outputId": "ae7130ed-7e1f-469e-fc8c-0a677d324c6e"
      },
      "source": [
        "print(\"F1 Score is \",(2*prec*rec)/(rec+prec))"
      ],
      "execution_count": null,
      "outputs": [
        {
          "output_type": "stream",
          "text": [
            "F1 Score is  0.9687979539641944\n"
          ],
          "name": "stdout"
        }
      ]
    },
    {
      "cell_type": "code",
      "metadata": {
        "colab": {
          "base_uri": "https://localhost:8080/"
        },
        "id": "pzDa4RpuRC9g",
        "outputId": "9889bad2-9d54-4bd6-a5f0-53a527ccb069"
      },
      "source": [
        "print('Recall is',t/s1)"
      ],
      "execution_count": null,
      "outputs": [
        {
          "output_type": "stream",
          "text": [
            "Recall is 0.9697900665642601\n"
          ],
          "name": "stdout"
        }
      ]
    },
    {
      "cell_type": "code",
      "metadata": {
        "colab": {
          "base_uri": "https://localhost:8080/"
        },
        "id": "dmG_UggzQcNi",
        "outputId": "8a1eadbd-e6cd-4e08-e87c-4e843b04f645"
      },
      "source": [
        "print('Presision is ',t/s)"
      ],
      "execution_count": null,
      "outputs": [
        {
          "output_type": "stream",
          "text": [
            "Presision is  0.9678078691875319\n"
          ],
          "name": "stdout"
        }
      ]
    },
    {
      "cell_type": "code",
      "metadata": {
        "id": "r1UZBlTMGhBs"
      },
      "source": [
        "#model.save('/content/drive/MyDrive/Capsule Nets/capsulenet_RAVDESS_93.h5')"
      ],
      "execution_count": null,
      "outputs": []
    },
    {
      "cell_type": "code",
      "metadata": {
        "id": "GJAVKLgJg-FK"
      },
      "source": [
        "import pickle"
      ],
      "execution_count": null,
      "outputs": []
    },
    {
      "cell_type": "code",
      "metadata": {
        "id": "sHG986JYg1M6"
      },
      "source": [
        "X = pickle.load(open('/content/drive/MyDrive/Capsule Nets/mfcc/BERLIN_X.p','rb'))\n",
        "Y = pickle.load(open('/content/drive/MyDrive/Capsule Nets/mfcc/BERLIN_Y.p','rb'))"
      ],
      "execution_count": null,
      "outputs": []
    },
    {
      "cell_type": "code",
      "metadata": {
        "id": "_u-3aYFlhNuJ"
      },
      "source": [
        "import tensorflow"
      ],
      "execution_count": null,
      "outputs": []
    },
    {
      "cell_type": "code",
      "metadata": {
        "id": "wQ_BTg9tjAHo"
      },
      "source": [
        "def load_custom_model(model_path):\n",
        "  from tensorflow.keras.utils import CustomObjectScope\n",
        "  from tensorflow.keras.models import load_model\n",
        "  with CustomObjectScope({'CapsuleLayer': CapsuleLayer,'Mask': Mask, 'Length': Length,'margin_loss': margin_loss}):\n",
        "    return load_model(model_path)"
      ],
      "execution_count": null,
      "outputs": []
    },
    {
      "cell_type": "code",
      "metadata": {
        "id": "Q-ufXuEPjWKF"
      },
      "source": [
        "model = load_custom_model('/content/drive/MyDrive/Capsule Nets/capsulenet_RAVDESS_93.h5')"
      ],
      "execution_count": null,
      "outputs": []
    },
    {
      "cell_type": "code",
      "metadata": {
        "id": "IfW-Sjf0kRWI"
      },
      "source": [
        "import numpy as np"
      ],
      "execution_count": null,
      "outputs": []
    },
    {
      "cell_type": "code",
      "metadata": {
        "id": "QqkD7CHPj-vp"
      },
      "source": [
        "abc = np.zeros((np.shape(Y1)[0]))"
      ],
      "execution_count": null,
      "outputs": []
    },
    {
      "cell_type": "code",
      "metadata": {
        "colab": {
          "base_uri": "https://localhost:8080/"
        },
        "id": "eY5KA7jZkWnz",
        "outputId": "ce62f194-83cb-4654-8b18-5337e4841e0d"
      },
      "source": [
        "y_pred,x2 = model.predict([X,abc])"
      ],
      "execution_count": null,
      "outputs": [
        {
          "output_type": "stream",
          "text": [
            "WARNING:tensorflow:Model was constructed with shape (None, 8) for input KerasTensor(type_spec=TensorSpec(shape=(None, 8), dtype=tf.float32, name='input_2'), name='input_2', description=\"created by layer 'input_2'\"), but it was called on an input with incompatible shape (None, 1).\n"
          ],
          "name": "stdout"
        }
      ]
    },
    {
      "cell_type": "code",
      "metadata": {
        "colab": {
          "base_uri": "https://localhost:8080/"
        },
        "id": "DS6_Gsg2la5k",
        "outputId": "a18eb2d9-60a6-4941-a9f9-d5ca9270ef7d"
      },
      "source": [
        "Y1[3000]"
      ],
      "execution_count": null,
      "outputs": [
        {
          "output_type": "execute_result",
          "data": {
            "text/plain": [
              "array([0., 0., 1., 0., 0., 0., 0., 0.])"
            ]
          },
          "metadata": {
            "tags": []
          },
          "execution_count": 29
        }
      ]
    },
    {
      "cell_type": "code",
      "metadata": {
        "colab": {
          "base_uri": "https://localhost:8080/"
        },
        "id": "T22kNxmalH8R",
        "outputId": "a45a4cd7-b2fa-45c4-ed3c-3c341b7fc53b"
      },
      "source": [
        "y_pred[3000].round(2)"
      ],
      "execution_count": null,
      "outputs": [
        {
          "output_type": "execute_result",
          "data": {
            "text/plain": [
              "array([0.03, 0.89, 0.1 , 0.01, 0.18, 0.03, 0.03, 0.01], dtype=float32)"
            ]
          },
          "metadata": {
            "tags": []
          },
          "execution_count": 30
        }
      ]
    },
    {
      "cell_type": "code",
      "metadata": {
        "colab": {
          "base_uri": "https://localhost:8080/"
        },
        "id": "87zpdooYk7JR",
        "outputId": "48d4dbd5-c720-4b6d-a710-226f313582bd"
      },
      "source": [
        "print('Test acc:', np.sum(np.argmax(y_pred, 1) == np.argmax(Y1, 1))/Y1.shape[0])"
      ],
      "execution_count": null,
      "outputs": [
        {
          "output_type": "stream",
          "text": [
            "Test acc: 0.2072142857142857\n"
          ],
          "name": "stdout"
        }
      ]
    },
    {
      "cell_type": "code",
      "metadata": {
        "id": "SmCuKoxVqNQ2"
      },
      "source": [
        "import librosa"
      ],
      "execution_count": null,
      "outputs": []
    },
    {
      "cell_type": "code",
      "metadata": {
        "id": "odMFvF5Wn-Gx"
      },
      "source": [
        "def extract_features(data):\n",
        "    \n",
        "    result = np.array([])\n",
        "    \n",
        "    #mfccs = librosa.feature.mfcc(y=data, sr=22050, n_mfcc=42) #42 mfcc so we get frames of ~60 ms\n",
        "    mfccs = librosa.feature.mfcc(y=data, sr=22050, n_mfcc=58)\n",
        "    mfccs_processed = np.mean(mfccs.T,axis=0)\n",
        "    result = np.array(mfccs_processed)\n",
        "     \n",
        "    return result"
      ],
      "execution_count": null,
      "outputs": []
    },
    {
      "cell_type": "code",
      "metadata": {
        "id": "PQJIu_ANn-Cq"
      },
      "source": [
        "data,sr = librosa.load('/content/a01.wav')"
      ],
      "execution_count": null,
      "outputs": []
    },
    {
      "cell_type": "code",
      "metadata": {
        "id": "8Zdt72Jun9_u"
      },
      "source": [
        "data = extract_features(data)"
      ],
      "execution_count": null,
      "outputs": []
    },
    {
      "cell_type": "code",
      "metadata": {
        "colab": {
          "background_save": true
        },
        "id": "sprXuDaOqhgh"
      },
      "source": [
        "data = np.array([data,data])"
      ],
      "execution_count": null,
      "outputs": []
    },
    {
      "cell_type": "code",
      "metadata": {
        "colab": {
          "base_uri": "https://localhost:8080/"
        },
        "id": "yExUJqpPqm5M",
        "outputId": "b57e86b6-a38f-440b-de7b-bb8aecceb222"
      },
      "source": [
        "a,b = model.predict([data,np.array([0,0])])"
      ],
      "execution_count": null,
      "outputs": [
        {
          "output_type": "stream",
          "text": [
            "WARNING:tensorflow:Model was constructed with shape (None, 8) for input KerasTensor(type_spec=TensorSpec(shape=(None, 8), dtype=tf.float32, name='input_2'), name='input_2', description=\"created by layer 'input_2'\"), but it was called on an input with incompatible shape (None, 1).\n"
          ],
          "name": "stdout"
        }
      ]
    },
    {
      "cell_type": "code",
      "metadata": {
        "colab": {
          "base_uri": "https://localhost:8080/"
        },
        "id": "rp_ecalsqm1u",
        "outputId": "23d9869c-9b9c-4431-c4a0-9d7c84b89332"
      },
      "source": [
        "a.round(2)"
      ],
      "execution_count": null,
      "outputs": [
        {
          "output_type": "execute_result",
          "data": {
            "text/plain": [
              "array([[0.15, 0.  , 0.05, 0.05, 0.01, 0.02, 0.01, 0.05],\n",
              "       [0.15, 0.  , 0.05, 0.05, 0.01, 0.02, 0.01, 0.05]], dtype=float32)"
            ]
          },
          "metadata": {
            "tags": []
          },
          "execution_count": 75
        }
      ]
    },
    {
      "cell_type": "code",
      "metadata": {
        "id": "KdzXGx-sqmzX"
      },
      "source": [
        ""
      ],
      "execution_count": null,
      "outputs": []
    },
    {
      "cell_type": "code",
      "metadata": {
        "id": "ipBMjm4Eqmwq"
      },
      "source": [
        ""
      ],
      "execution_count": null,
      "outputs": []
    }
  ]
}